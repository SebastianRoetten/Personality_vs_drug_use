{
 "cells": [
  {
   "cell_type": "markdown",
   "metadata": {},
   "source": [
    "# Project 2: Personality vs Drug Use"
   ]
  },
  {
   "cell_type": "markdown",
   "metadata": {},
   "source": [
    "Sebastian and Laura"
   ]
  },
  {
   "cell_type": "markdown",
   "metadata": {},
   "source": [
    "## Importing relevant libraries"
   ]
  },
  {
   "cell_type": "code",
   "execution_count": 1,
   "metadata": {},
   "outputs": [],
   "source": [
    "import numpy as np\n",
    "import pandas as pd\n",
    "pd.set_option('display.max_columns', None) # To display all columns\n",
    "import xlrd\n",
    "\n",
    "import matplotlib.pyplot as plt\n",
    "import matplotlib.image as mpimg\n",
    "\n",
    "import seaborn as sns\n",
    "sns.set_style(\"whitegrid\")\n",
    "\n",
    "from scipy import stats\n",
    "from sklearn.model_selection import train_test_split\n",
    "from sklearn.metrics import mean_squared_error\n",
    "from math import sqrt\n"
   ]
  },
  {
   "cell_type": "markdown",
   "metadata": {},
   "source": [
    "## Reading in Data, Cleaning Data and adding actual values for visualizations"
   ]
  },
  {
   "cell_type": "code",
   "execution_count": 2,
   "metadata": {},
   "outputs": [],
   "source": [
    "df = pd.read_excel('Data/drug_consumption.xls')"
   ]
  },
  {
   "cell_type": "markdown",
   "metadata": {},
   "source": [
    "We delete every row where a participant indicated the use of 'Semeron', which is a fictional, non existing drug, used to pick out individuals who are exaggerating their drug use:"
   ]
  },
  {
   "cell_type": "code",
   "execution_count": 3,
   "metadata": {},
   "outputs": [
    {
     "data": {
      "text/html": [
       "<div>\n",
       "<style scoped>\n",
       "    .dataframe tbody tr th:only-of-type {\n",
       "        vertical-align: middle;\n",
       "    }\n",
       "\n",
       "    .dataframe tbody tr th {\n",
       "        vertical-align: top;\n",
       "    }\n",
       "\n",
       "    .dataframe thead th {\n",
       "        text-align: right;\n",
       "    }\n",
       "</style>\n",
       "<table border=\"1\" class=\"dataframe\">\n",
       "  <thead>\n",
       "    <tr style=\"text-align: right;\">\n",
       "      <th></th>\n",
       "      <th>ID</th>\n",
       "      <th>Age</th>\n",
       "      <th>Gender</th>\n",
       "      <th>Education</th>\n",
       "      <th>Country</th>\n",
       "      <th>Ethnicity</th>\n",
       "      <th>Nscore</th>\n",
       "      <th>Escore</th>\n",
       "      <th>Oscore</th>\n",
       "      <th>Ascore</th>\n",
       "      <th>Cscore</th>\n",
       "      <th>Impulsive</th>\n",
       "      <th>SS</th>\n",
       "      <th>Alcohol</th>\n",
       "      <th>Amphet</th>\n",
       "      <th>Amyl</th>\n",
       "      <th>Benzos</th>\n",
       "      <th>Caff</th>\n",
       "      <th>Cannabis</th>\n",
       "      <th>Choc</th>\n",
       "      <th>Coke</th>\n",
       "      <th>Crack</th>\n",
       "      <th>Ecstasy</th>\n",
       "      <th>Heroin</th>\n",
       "      <th>Ketamine</th>\n",
       "      <th>Legalh</th>\n",
       "      <th>LSD</th>\n",
       "      <th>Meth</th>\n",
       "      <th>Shrooms</th>\n",
       "      <th>Nicotine</th>\n",
       "      <th>Semer</th>\n",
       "      <th>VSA</th>\n",
       "    </tr>\n",
       "  </thead>\n",
       "  <tbody>\n",
       "    <tr>\n",
       "      <th>727</th>\n",
       "      <td>730</td>\n",
       "      <td>-0.07854</td>\n",
       "      <td>0.48246</td>\n",
       "      <td>-1.73790</td>\n",
       "      <td>-0.09765</td>\n",
       "      <td>-0.31685</td>\n",
       "      <td>-0.58016</td>\n",
       "      <td>0.32197</td>\n",
       "      <td>0.14143</td>\n",
       "      <td>-0.60633</td>\n",
       "      <td>0.12331</td>\n",
       "      <td>1.29221</td>\n",
       "      <td>0.76540</td>\n",
       "      <td>CL6</td>\n",
       "      <td>CL2</td>\n",
       "      <td>CL2</td>\n",
       "      <td>CL2</td>\n",
       "      <td>CL6</td>\n",
       "      <td>CL6</td>\n",
       "      <td>CL5</td>\n",
       "      <td>CL2</td>\n",
       "      <td>CL2</td>\n",
       "      <td>CL2</td>\n",
       "      <td>CL2</td>\n",
       "      <td>CL2</td>\n",
       "      <td>CL0</td>\n",
       "      <td>CL4</td>\n",
       "      <td>CL2</td>\n",
       "      <td>CL6</td>\n",
       "      <td>CL6</td>\n",
       "      <td>CL2</td>\n",
       "      <td>CL2</td>\n",
       "    </tr>\n",
       "    <tr>\n",
       "      <th>817</th>\n",
       "      <td>821</td>\n",
       "      <td>-0.95197</td>\n",
       "      <td>-0.48246</td>\n",
       "      <td>-0.61113</td>\n",
       "      <td>-0.09765</td>\n",
       "      <td>-0.50212</td>\n",
       "      <td>-0.67825</td>\n",
       "      <td>1.74091</td>\n",
       "      <td>0.72330</td>\n",
       "      <td>0.13136</td>\n",
       "      <td>0.41594</td>\n",
       "      <td>0.88113</td>\n",
       "      <td>1.92173</td>\n",
       "      <td>CL3</td>\n",
       "      <td>CL0</td>\n",
       "      <td>CL0</td>\n",
       "      <td>CL0</td>\n",
       "      <td>CL6</td>\n",
       "      <td>CL4</td>\n",
       "      <td>CL5</td>\n",
       "      <td>CL0</td>\n",
       "      <td>CL0</td>\n",
       "      <td>CL3</td>\n",
       "      <td>CL0</td>\n",
       "      <td>CL0</td>\n",
       "      <td>CL0</td>\n",
       "      <td>CL5</td>\n",
       "      <td>CL0</td>\n",
       "      <td>CL5</td>\n",
       "      <td>CL4</td>\n",
       "      <td>CL3</td>\n",
       "      <td>CL0</td>\n",
       "    </tr>\n",
       "    <tr>\n",
       "      <th>1516</th>\n",
       "      <td>1520</td>\n",
       "      <td>-0.95197</td>\n",
       "      <td>-0.48246</td>\n",
       "      <td>-0.61113</td>\n",
       "      <td>-0.57009</td>\n",
       "      <td>-0.31685</td>\n",
       "      <td>-0.24649</td>\n",
       "      <td>-0.80615</td>\n",
       "      <td>-1.27553</td>\n",
       "      <td>-1.34289</td>\n",
       "      <td>-1.92173</td>\n",
       "      <td>-0.71126</td>\n",
       "      <td>0.07987</td>\n",
       "      <td>CL0</td>\n",
       "      <td>CL2</td>\n",
       "      <td>CL3</td>\n",
       "      <td>CL2</td>\n",
       "      <td>CL3</td>\n",
       "      <td>CL4</td>\n",
       "      <td>CL1</td>\n",
       "      <td>CL3</td>\n",
       "      <td>CL2</td>\n",
       "      <td>CL1</td>\n",
       "      <td>CL2</td>\n",
       "      <td>CL1</td>\n",
       "      <td>CL2</td>\n",
       "      <td>CL1</td>\n",
       "      <td>CL2</td>\n",
       "      <td>CL4</td>\n",
       "      <td>CL2</td>\n",
       "      <td>CL3</td>\n",
       "      <td>CL1</td>\n",
       "    </tr>\n",
       "    <tr>\n",
       "      <th>1533</th>\n",
       "      <td>1537</td>\n",
       "      <td>-0.95197</td>\n",
       "      <td>0.48246</td>\n",
       "      <td>-0.61113</td>\n",
       "      <td>-0.57009</td>\n",
       "      <td>0.11440</td>\n",
       "      <td>-0.46725</td>\n",
       "      <td>0.80523</td>\n",
       "      <td>0.29338</td>\n",
       "      <td>2.03972</td>\n",
       "      <td>1.81175</td>\n",
       "      <td>-1.37983</td>\n",
       "      <td>-0.21575</td>\n",
       "      <td>CL5</td>\n",
       "      <td>CL6</td>\n",
       "      <td>CL0</td>\n",
       "      <td>CL4</td>\n",
       "      <td>CL6</td>\n",
       "      <td>CL3</td>\n",
       "      <td>CL6</td>\n",
       "      <td>CL4</td>\n",
       "      <td>CL0</td>\n",
       "      <td>CL4</td>\n",
       "      <td>CL0</td>\n",
       "      <td>CL4</td>\n",
       "      <td>CL3</td>\n",
       "      <td>CL2</td>\n",
       "      <td>CL0</td>\n",
       "      <td>CL3</td>\n",
       "      <td>CL4</td>\n",
       "      <td>CL4</td>\n",
       "      <td>CL3</td>\n",
       "    </tr>\n",
       "    <tr>\n",
       "      <th>1698</th>\n",
       "      <td>1702</td>\n",
       "      <td>0.49788</td>\n",
       "      <td>0.48246</td>\n",
       "      <td>0.45468</td>\n",
       "      <td>-0.57009</td>\n",
       "      <td>-0.31685</td>\n",
       "      <td>1.98437</td>\n",
       "      <td>-0.80615</td>\n",
       "      <td>2.15324</td>\n",
       "      <td>0.76096</td>\n",
       "      <td>-0.00665</td>\n",
       "      <td>1.29221</td>\n",
       "      <td>1.92173</td>\n",
       "      <td>CL6</td>\n",
       "      <td>CL0</td>\n",
       "      <td>CL0</td>\n",
       "      <td>CL3</td>\n",
       "      <td>CL5</td>\n",
       "      <td>CL6</td>\n",
       "      <td>CL4</td>\n",
       "      <td>CL2</td>\n",
       "      <td>CL0</td>\n",
       "      <td>CL2</td>\n",
       "      <td>CL0</td>\n",
       "      <td>CL2</td>\n",
       "      <td>CL2</td>\n",
       "      <td>CL2</td>\n",
       "      <td>CL0</td>\n",
       "      <td>CL2</td>\n",
       "      <td>CL6</td>\n",
       "      <td>CL2</td>\n",
       "      <td>CL0</td>\n",
       "    </tr>\n",
       "    <tr>\n",
       "      <th>1769</th>\n",
       "      <td>1773</td>\n",
       "      <td>-0.95197</td>\n",
       "      <td>-0.48246</td>\n",
       "      <td>-1.22751</td>\n",
       "      <td>-0.57009</td>\n",
       "      <td>-0.22166</td>\n",
       "      <td>-0.34799</td>\n",
       "      <td>1.28610</td>\n",
       "      <td>1.06238</td>\n",
       "      <td>-0.01729</td>\n",
       "      <td>-0.52745</td>\n",
       "      <td>0.52975</td>\n",
       "      <td>1.22470</td>\n",
       "      <td>CL4</td>\n",
       "      <td>CL3</td>\n",
       "      <td>CL0</td>\n",
       "      <td>CL3</td>\n",
       "      <td>CL6</td>\n",
       "      <td>CL6</td>\n",
       "      <td>CL6</td>\n",
       "      <td>CL0</td>\n",
       "      <td>CL0</td>\n",
       "      <td>CL3</td>\n",
       "      <td>CL0</td>\n",
       "      <td>CL4</td>\n",
       "      <td>CL3</td>\n",
       "      <td>CL6</td>\n",
       "      <td>CL3</td>\n",
       "      <td>CL3</td>\n",
       "      <td>CL3</td>\n",
       "      <td>CL1</td>\n",
       "      <td>CL3</td>\n",
       "    </tr>\n",
       "    <tr>\n",
       "      <th>1806</th>\n",
       "      <td>1810</td>\n",
       "      <td>-0.95197</td>\n",
       "      <td>0.48246</td>\n",
       "      <td>-1.43719</td>\n",
       "      <td>-0.57009</td>\n",
       "      <td>-0.31685</td>\n",
       "      <td>1.23461</td>\n",
       "      <td>1.11406</td>\n",
       "      <td>1.06238</td>\n",
       "      <td>-1.47955</td>\n",
       "      <td>0.12331</td>\n",
       "      <td>0.88113</td>\n",
       "      <td>1.92173</td>\n",
       "      <td>CL4</td>\n",
       "      <td>CL3</td>\n",
       "      <td>CL0</td>\n",
       "      <td>CL2</td>\n",
       "      <td>CL6</td>\n",
       "      <td>CL6</td>\n",
       "      <td>CL3</td>\n",
       "      <td>CL5</td>\n",
       "      <td>CL2</td>\n",
       "      <td>CL4</td>\n",
       "      <td>CL2</td>\n",
       "      <td>CL1</td>\n",
       "      <td>CL4</td>\n",
       "      <td>CL1</td>\n",
       "      <td>CL0</td>\n",
       "      <td>CL1</td>\n",
       "      <td>CL6</td>\n",
       "      <td>CL1</td>\n",
       "      <td>CL2</td>\n",
       "    </tr>\n",
       "    <tr>\n",
       "      <th>1823</th>\n",
       "      <td>1827</td>\n",
       "      <td>-0.95197</td>\n",
       "      <td>0.48246</td>\n",
       "      <td>0.45468</td>\n",
       "      <td>-0.57009</td>\n",
       "      <td>-0.31685</td>\n",
       "      <td>0.22393</td>\n",
       "      <td>-0.30033</td>\n",
       "      <td>0.88309</td>\n",
       "      <td>1.28610</td>\n",
       "      <td>-0.00665</td>\n",
       "      <td>0.88113</td>\n",
       "      <td>0.07987</td>\n",
       "      <td>CL4</td>\n",
       "      <td>CL0</td>\n",
       "      <td>CL0</td>\n",
       "      <td>CL2</td>\n",
       "      <td>CL5</td>\n",
       "      <td>CL6</td>\n",
       "      <td>CL5</td>\n",
       "      <td>CL2</td>\n",
       "      <td>CL0</td>\n",
       "      <td>CL0</td>\n",
       "      <td>CL0</td>\n",
       "      <td>CL0</td>\n",
       "      <td>CL2</td>\n",
       "      <td>CL3</td>\n",
       "      <td>CL0</td>\n",
       "      <td>CL3</td>\n",
       "      <td>CL5</td>\n",
       "      <td>CL2</td>\n",
       "      <td>CL0</td>\n",
       "    </tr>\n",
       "  </tbody>\n",
       "</table>\n",
       "</div>"
      ],
      "text/plain": [
       "        ID      Age   Gender  Education  Country  Ethnicity   Nscore   Escore  \\\n",
       "727    730 -0.07854  0.48246   -1.73790 -0.09765   -0.31685 -0.58016  0.32197   \n",
       "817    821 -0.95197 -0.48246   -0.61113 -0.09765   -0.50212 -0.67825  1.74091   \n",
       "1516  1520 -0.95197 -0.48246   -0.61113 -0.57009   -0.31685 -0.24649 -0.80615   \n",
       "1533  1537 -0.95197  0.48246   -0.61113 -0.57009    0.11440 -0.46725  0.80523   \n",
       "1698  1702  0.49788  0.48246    0.45468 -0.57009   -0.31685  1.98437 -0.80615   \n",
       "1769  1773 -0.95197 -0.48246   -1.22751 -0.57009   -0.22166 -0.34799  1.28610   \n",
       "1806  1810 -0.95197  0.48246   -1.43719 -0.57009   -0.31685  1.23461  1.11406   \n",
       "1823  1827 -0.95197  0.48246    0.45468 -0.57009   -0.31685  0.22393 -0.30033   \n",
       "\n",
       "       Oscore   Ascore   Cscore  Impulsive       SS Alcohol Amphet Amyl  \\\n",
       "727   0.14143 -0.60633  0.12331    1.29221  0.76540     CL6    CL2  CL2   \n",
       "817   0.72330  0.13136  0.41594    0.88113  1.92173     CL3    CL0  CL0   \n",
       "1516 -1.27553 -1.34289 -1.92173   -0.71126  0.07987     CL0    CL2  CL3   \n",
       "1533  0.29338  2.03972  1.81175   -1.37983 -0.21575     CL5    CL6  CL0   \n",
       "1698  2.15324  0.76096 -0.00665    1.29221  1.92173     CL6    CL0  CL0   \n",
       "1769  1.06238 -0.01729 -0.52745    0.52975  1.22470     CL4    CL3  CL0   \n",
       "1806  1.06238 -1.47955  0.12331    0.88113  1.92173     CL4    CL3  CL0   \n",
       "1823  0.88309  1.28610 -0.00665    0.88113  0.07987     CL4    CL0  CL0   \n",
       "\n",
       "     Benzos Caff Cannabis Choc Coke Crack Ecstasy Heroin Ketamine Legalh  LSD  \\\n",
       "727     CL2  CL6      CL6  CL5  CL2   CL2     CL2    CL2      CL2    CL0  CL4   \n",
       "817     CL0  CL6      CL4  CL5  CL0   CL0     CL3    CL0      CL0    CL0  CL5   \n",
       "1516    CL2  CL3      CL4  CL1  CL3   CL2     CL1    CL2      CL1    CL2  CL1   \n",
       "1533    CL4  CL6      CL3  CL6  CL4   CL0     CL4    CL0      CL4    CL3  CL2   \n",
       "1698    CL3  CL5      CL6  CL4  CL2   CL0     CL2    CL0      CL2    CL2  CL2   \n",
       "1769    CL3  CL6      CL6  CL6  CL0   CL0     CL3    CL0      CL4    CL3  CL6   \n",
       "1806    CL2  CL6      CL6  CL3  CL5   CL2     CL4    CL2      CL1    CL4  CL1   \n",
       "1823    CL2  CL5      CL6  CL5  CL2   CL0     CL0    CL0      CL0    CL2  CL3   \n",
       "\n",
       "     Meth Shrooms Nicotine Semer  VSA  \n",
       "727   CL2     CL6      CL6   CL2  CL2  \n",
       "817   CL0     CL5      CL4   CL3  CL0  \n",
       "1516  CL2     CL4      CL2   CL3  CL1  \n",
       "1533  CL0     CL3      CL4   CL4  CL3  \n",
       "1698  CL0     CL2      CL6   CL2  CL0  \n",
       "1769  CL3     CL3      CL3   CL1  CL3  \n",
       "1806  CL0     CL1      CL6   CL1  CL2  \n",
       "1823  CL0     CL3      CL5   CL2  CL0  "
      ]
     },
     "execution_count": 3,
     "metadata": {},
     "output_type": "execute_result"
    }
   ],
   "source": [
    "df[df[\"Semer\"] != \"CL0\"]"
   ]
  },
  {
   "cell_type": "code",
   "execution_count": 4,
   "metadata": {},
   "outputs": [],
   "source": [
    "df1 = df.drop(df.loc[df[\"Semer\"] != \"CL0\"].index)"
   ]
  },
  {
   "cell_type": "code",
   "execution_count": 5,
   "metadata": {},
   "outputs": [],
   "source": [
    "df1.drop('Semer', inplace=True, axis=1)"
   ]
  },
  {
   "cell_type": "markdown",
   "metadata": {},
   "source": [
    "Reassigning \"real\" values for Gender, Country & Education, for better visualizations"
   ]
  },
  {
   "cell_type": "code",
   "execution_count": 6,
   "metadata": {},
   "outputs": [],
   "source": [
    "Gencat = df1['Gender'].apply(lambda x: 1 if x > 0 else 0)\n",
    "df1[\"Gender\"] = Gencat\n",
    "df1[\"Gender\"] = df1[\"Gender\"].astype(\"category\")"
   ]
  },
  {
   "cell_type": "code",
   "execution_count": 7,
   "metadata": {},
   "outputs": [],
   "source": [
    "Countrycat = df1['Country'].apply(lambda x: {(-0.09765):'Australia', \n",
    "                                             0.24923:'Canada',\n",
    "                                             0.96082:'UK',\n",
    "                                            (-0.46841):'New Zealand',\n",
    "                                            (-0.28519):'Other',\n",
    "                                            (0.21128):'R.o.Ireland',\n",
    "                                            (-0.57009):'USA'}.get(x,''))\n",
    "df1.insert(5, \"Country_Name\", Countrycat)\n",
    "df1[\"Country_Name\"] = df1[\"Country_Name\"].astype(\"category\")"
   ]
  },
  {
   "cell_type": "code",
   "execution_count": 8,
   "metadata": {},
   "outputs": [],
   "source": [
    "Educat = df1['Education'].apply(lambda x: {(-2.43591): \"under 16y\",\n",
    "                                           (-1.73790): \"16y\",\n",
    "                                           (-1.43719): \"17y\",\n",
    "                                           (-1.22751): '18y',\n",
    "                                           (-0.61113):'College/Uni',\n",
    "                                           (-0.05921):'Cert./Diploma',\n",
    "                                           (0.45468): 'Uni Degree', \n",
    "                                           (1.16365):'Master',\n",
    "                                           (1.98437): 'PhD'}.get(x,''))\n",
    "df1.insert(4, \"Education_Level\", Educat)\n",
    "df1[\"Education_Level\"] = df1[\"Education_Level\"].astype(\"category\")"
   ]
  },
  {
   "cell_type": "code",
   "execution_count": 9,
   "metadata": {},
   "outputs": [],
   "source": [
    "Ethinicitycat = df1[\"Ethnicity\"].apply(lambda x: {(-0.50212): \"Asian\",\n",
    "                                           (-1.10702): \"Black\",\n",
    "                                           (1.90725): \"Mixed-Black/Asian\",\n",
    "                                           (0.12600): 'Mixed-White/Asian',\n",
    "                                           (-0.22166):'Mixed-White/Black',\n",
    "                                           (0.11440):'Other',\n",
    "                                           (-0.31685): 'White'}.get(x,''))\n",
    "df1.insert(8, \"Ethnicity_Label\", Ethinicitycat)\n",
    "df1[\"Ethnicity_Label\"] = df1[\"Ethnicity_Label\"].astype(\"category\")"
   ]
  },
  {
   "cell_type": "code",
   "execution_count": 10,
   "metadata": {},
   "outputs": [],
   "source": [
    "Agecat = df1[\"Age\"].apply(lambda x: {(-0.95197): \"18-24\",\n",
    "                                           (-0.07854): \"25-34\",\n",
    "                                           (0.49788): \"35-44\",\n",
    "                                           (1.09449): '45-54',\n",
    "                                           (1.82213):'55-64',\n",
    "                                           (2.59171):'65+'}.get(x,''))\n",
    "df1.insert(2, \"Age_Cat\", Agecat)\n",
    "df1[\"Age_Cat\"] = df1[\"Age_Cat\"].astype(\"category\")"
   ]
  },
  {
   "cell_type": "markdown",
   "metadata": {},
   "source": [
    "## Getting an overview of the Data"
   ]
  },
  {
   "cell_type": "markdown",
   "metadata": {},
   "source": [
    "### Overview of who particpated in this study"
   ]
  },
  {
   "cell_type": "code",
   "execution_count": 11,
   "metadata": {},
   "outputs": [],
   "source": [
    "custom_palette_gender = [\"navy\", \"indianred\"]"
   ]
  },
  {
   "cell_type": "code",
   "execution_count": 12,
   "metadata": {},
   "outputs": [
    {
     "data": {
      "image/png": "[encoded data removed]",
      "text/plain": [
       "<Figure size 720x720 with 4 Axes>"
      ]
     },
     "metadata": {},
     "output_type": "display_data"
    }
   ],
   "source": [
    "fig, axes = plt.subplots(ncols=2, nrows=2, figsize=(10, 10), sharey=True)\n",
    "\n",
    "sns.set_palette(custom_palette_gender)\n",
    "\n",
    "edu_order = [\"under 16y\", \"16y\", \"17y\", '18y', 'College/Uni', 'Cert./Diploma', 'Uni Degree', 'Master', 'PhD']\n",
    "ethnicity_order = [\"Asian\", \"Black\", \"Mixed-Black/Asian\", \"Mixed-White/Asian\", \"Mixed-White/Black\", \"Other\", \"White\"]\n",
    "age_order = [\"18-24\", \"25-34\", \"35-44\", '45-54', \"55-64\",'65+']\n",
    "country_order = [\"New Zealand\", \"R. o. Ireland\", \"Australia\", \"Canada\", \"USA\", \"UK\", \"Other\"]\n",
    "\n",
    "g = sns.countplot(data=df1, x=\"Education_Level\", order = edu_order, hue='Gender', ax=axes[0][0])\n",
    "g.set_xticklabels(edu_order, rotation=60, size = 14)\n",
    "g.set_xlabel(\"Education Level\",size=16)\n",
    "g.set_ylabel(\"Count\",size=16)\n",
    "\n",
    "g1 = sns.countplot(data=df1, x=\"Country_Name\", hue='Gender', ax=axes[0][1])\n",
    "g1.set_xticklabels(country_order, rotation=60, size = 14)\n",
    "g.set_xlabel(\"Country of current residence\",size=16)\n",
    "g.set_ylabel(\"Count\",size=16)\n",
    "\n",
    "g2 = sns.countplot(data=df1, x=\"Ethnicity_Label\", hue='Gender', ax=axes[1][0])\n",
    "g2.set_xticklabels(ethnicity_order, rotation=60, size = 14);\n",
    "g.set_xlabel(\"Ethnicity\",size=16)\n",
    "g.set_ylabel(\"Count\",size=16)\n",
    "\n",
    "g3 = sns.countplot(data=df1, x=\"Age_Cat\", hue='Gender', ax=axes[1][1])\n",
    "g3.set_xticklabels(age_order, rotation=60, size = 14)\n",
    "g.set_xlabel(\"Age\",size=16)\n",
    "g.set_ylabel(\"Count\",size=16);"
   ]
  },
  {
   "cell_type": "markdown",
   "metadata": {},
   "source": [
    "Same for presentation:"
   ]
  },
  {
   "cell_type": "code",
   "execution_count": 13,
   "metadata": {},
   "outputs": [
    {
     "data": {
      "image/png": "[encoded data removed]",
      "text/plain": [
       "<Figure size 1800x720 with 3 Axes>"
      ]
     },
     "metadata": {},
     "output_type": "display_data"
    }
   ],
   "source": [
    "fig, axes = plt.subplots(ncols=3, nrows=1, figsize=(25, 10), sharey=True)\n",
    "\n",
    "sns.set_palette(custom_palette_gender)\n",
    "\n",
    "edu_order = [\"under 16y\", \"16y\", \"17y\", '18y', 'College/Uni', 'Cert./Diploma', 'Uni Degree', 'Master', 'PhD']\n",
    "ethnicity_order = [\"Asian\", \"Black\", \"Mixed-Black/Asian\", \"Mixed-White/Asian\", \"Mixed-White/Black\", \"Other\", \"White\"]\n",
    "age_order = [\"18-24\", \"25-34\", \"35-44\", '45-54', \"55-64\",'65+']\n",
    "country_order = [\"New Zealand\", \"R. o. Ireland\", \"Australia\", \"Canada\", \"USA\", \"UK\", \"Other\"]\n",
    "\n",
    "g = sns.countplot(data=df1, x=\"Education_Level\", order = edu_order, hue='Gender', ax=axes[0])\n",
    "g.set_xticklabels(edu_order, rotation=60, size = 14)\n",
    "g.set_xlabel(\"Education Level\",size=16)\n",
    "g.set_ylabel(\"Count\",size=16)\n",
    "\n",
    "g1 = sns.countplot(data=df1, x=\"Country_Name\", hue='Gender', ax=axes[1])\n",
    "g1.set_xticklabels(country_order, rotation=60, size = 14)\n",
    "g1.set_xlabel(\"Country of current residence\",size=16)\n",
    "g1.set_ylabel(\"Count\",size=16)\n",
    "\n",
    "g3 = sns.countplot(data=df1, x=\"Age_Cat\", hue='Gender', ax=axes[2])\n",
    "g3.set_xticklabels(age_order, rotation=60, size = 14)\n",
    "g3.set_xlabel(\"Age\",size=16)\n",
    "g3.set_ylabel(\"Count\",size=16);"
   ]
  },
  {
   "cell_type": "markdown",
   "metadata": {},
   "source": [
    "### Overview of drug usage"
   ]
  },
  {
   "cell_type": "code",
   "execution_count": 14,
   "metadata": {},
   "outputs": [
    {
     "data": {
      "text/plain": [
       "<AxesSubplot:xlabel='VSA', ylabel='count'>"
      ]
     },
     "execution_count": 14,
     "metadata": {},
     "output_type": "execute_result"
    },
    {
     "data": {
      "image/png": "[encoded data removed]",
      "text/plain": [
       "<Figure size 1440x1440 with 20 Axes>"
      ]
     },
     "metadata": {},
     "output_type": "display_data"
    }
   ],
   "source": [
    "clsorder = [\"CL0\", \"CL1\", \"CL2\", \"CL3\", \"CL4\", \"CL5\", \"CL6\"]\n",
    "\n",
    "f, axes = plt.subplots(4, 5, figsize=(20, 20), sharey=True)\n",
    "\n",
    "sns.set_palette(custom_palette_gender)\n",
    "\n",
    "sns.countplot(data=df1, x=\"Alcohol\", order = clsorder, hue='Gender', ax=axes[0, 0])\n",
    "sns.countplot(data=df1, x=\"Amphet\", order = clsorder, hue='Gender', ax=axes[0, 1])\n",
    "sns.countplot(data=df1, x=\"Amyl\", order = clsorder, hue='Gender', ax=axes[0, 2])\n",
    "sns.countplot(data=df1, x=\"Benzos\", order = clsorder, hue='Gender', ax=axes[0, 3])\n",
    "sns.countplot(data=df1, x=\"Caff\", order = clsorder, hue='Gender', ax=axes[0, 4])\n",
    "sns.countplot(data=df1, x=\"Cannabis\", order = clsorder, hue='Gender', ax=axes[1, 0])\n",
    "sns.countplot(data=df1, x=\"Choc\", order = clsorder, hue='Gender', ax=axes[1, 1])\n",
    "sns.countplot(data=df1, x=\"Coke\", order = clsorder, hue='Gender', ax=axes[1, 2])\n",
    "sns.countplot(data=df1, x=\"Crack\", order = clsorder, hue='Gender', ax=axes[1, 3])\n",
    "sns.countplot(data=df1, x=\"Ecstasy\", order = clsorder, hue='Gender', ax=axes[1, 4])\n",
    "sns.countplot(data=df1, x=\"Heroin\", order = clsorder, hue='Gender', ax=axes[2, 0])\n",
    "sns.countplot(data=df1, x=\"Ketamine\", order = clsorder, hue='Gender', ax=axes[2, 1])\n",
    "sns.countplot(data=df1, x=\"Legalh\", order = clsorder, hue='Gender', ax=axes[2, 2])\n",
    "sns.countplot(data=df1, x=\"LSD\", order = clsorder, hue='Gender', ax=axes[2, 3])\n",
    "sns.countplot(data=df1, x=\"Meth\", order = clsorder, hue='Gender', ax=axes[2, 4])\n",
    "sns.countplot(data=df1, x=\"Shrooms\", order = clsorder, hue='Gender', ax=axes[3, 0])\n",
    "sns.countplot(data=df1, x=\"Nicotine\", order = clsorder, hue='Gender', ax=axes[3, 1])\n",
    "sns.countplot(data=df1, x=\"VSA\", order = clsorder, hue='Gender', ax=axes[3, 2])"
   ]
  },
  {
   "cell_type": "markdown",
   "metadata": {},
   "source": [
    "There are only 3 people who never consumed alcohol and chocolate and just 1 person never consumed any drugs at all:"
   ]
  },
  {
   "cell_type": "code",
   "execution_count": 15,
   "metadata": {},
   "outputs": [
    {
     "data": {
      "text/html": [
       "<div>\n",
       "<style scoped>\n",
       "    .dataframe tbody tr th:only-of-type {\n",
       "        vertical-align: middle;\n",
       "    }\n",
       "\n",
       "    .dataframe tbody tr th {\n",
       "        vertical-align: top;\n",
       "    }\n",
       "\n",
       "    .dataframe thead th {\n",
       "        text-align: right;\n",
       "    }\n",
       "</style>\n",
       "<table border=\"1\" class=\"dataframe\">\n",
       "  <thead>\n",
       "    <tr style=\"text-align: right;\">\n",
       "      <th></th>\n",
       "      <th>ID</th>\n",
       "      <th>Age</th>\n",
       "      <th>Age_Cat</th>\n",
       "      <th>Gender</th>\n",
       "      <th>Education</th>\n",
       "      <th>Education_Level</th>\n",
       "      <th>Country</th>\n",
       "      <th>Country_Name</th>\n",
       "      <th>Ethnicity</th>\n",
       "      <th>Ethnicity_Label</th>\n",
       "      <th>Nscore</th>\n",
       "      <th>Escore</th>\n",
       "      <th>Oscore</th>\n",
       "      <th>Ascore</th>\n",
       "      <th>Cscore</th>\n",
       "      <th>Impulsive</th>\n",
       "      <th>SS</th>\n",
       "      <th>Alcohol</th>\n",
       "      <th>Amphet</th>\n",
       "      <th>Amyl</th>\n",
       "      <th>Benzos</th>\n",
       "      <th>Caff</th>\n",
       "      <th>Cannabis</th>\n",
       "      <th>Choc</th>\n",
       "      <th>Coke</th>\n",
       "      <th>Crack</th>\n",
       "      <th>Ecstasy</th>\n",
       "      <th>Heroin</th>\n",
       "      <th>Ketamine</th>\n",
       "      <th>Legalh</th>\n",
       "      <th>LSD</th>\n",
       "      <th>Meth</th>\n",
       "      <th>Shrooms</th>\n",
       "      <th>Nicotine</th>\n",
       "      <th>VSA</th>\n",
       "    </tr>\n",
       "  </thead>\n",
       "  <tbody>\n",
       "    <tr>\n",
       "      <th>330</th>\n",
       "      <td>333</td>\n",
       "      <td>1.82213</td>\n",
       "      <td>55-64</td>\n",
       "      <td>1</td>\n",
       "      <td>-1.22751</td>\n",
       "      <td>18y</td>\n",
       "      <td>0.24923</td>\n",
       "      <td>Canada</td>\n",
       "      <td>-0.31685</td>\n",
       "      <td>White</td>\n",
       "      <td>-0.46725</td>\n",
       "      <td>-0.43999</td>\n",
       "      <td>-1.55521</td>\n",
       "      <td>0.94156</td>\n",
       "      <td>0.75830</td>\n",
       "      <td>-1.37983</td>\n",
       "      <td>-1.54858</td>\n",
       "      <td>CL0</td>\n",
       "      <td>CL0</td>\n",
       "      <td>CL0</td>\n",
       "      <td>CL0</td>\n",
       "      <td>CL5</td>\n",
       "      <td>CL0</td>\n",
       "      <td>CL0</td>\n",
       "      <td>CL0</td>\n",
       "      <td>CL0</td>\n",
       "      <td>CL0</td>\n",
       "      <td>CL0</td>\n",
       "      <td>CL0</td>\n",
       "      <td>CL0</td>\n",
       "      <td>CL0</td>\n",
       "      <td>CL0</td>\n",
       "      <td>CL0</td>\n",
       "      <td>CL5</td>\n",
       "      <td>CL0</td>\n",
       "    </tr>\n",
       "    <tr>\n",
       "      <th>1277</th>\n",
       "      <td>1281</td>\n",
       "      <td>-0.95197</td>\n",
       "      <td>18-24</td>\n",
       "      <td>0</td>\n",
       "      <td>0.45468</td>\n",
       "      <td>Uni Degree</td>\n",
       "      <td>0.96082</td>\n",
       "      <td>UK</td>\n",
       "      <td>-0.50212</td>\n",
       "      <td>Asian</td>\n",
       "      <td>0.82562</td>\n",
       "      <td>0.63779</td>\n",
       "      <td>-0.84732</td>\n",
       "      <td>-2.21844</td>\n",
       "      <td>0.93949</td>\n",
       "      <td>1.86203</td>\n",
       "      <td>1.92173</td>\n",
       "      <td>CL0</td>\n",
       "      <td>CL0</td>\n",
       "      <td>CL0</td>\n",
       "      <td>CL0</td>\n",
       "      <td>CL0</td>\n",
       "      <td>CL0</td>\n",
       "      <td>CL0</td>\n",
       "      <td>CL0</td>\n",
       "      <td>CL0</td>\n",
       "      <td>CL0</td>\n",
       "      <td>CL0</td>\n",
       "      <td>CL0</td>\n",
       "      <td>CL0</td>\n",
       "      <td>CL0</td>\n",
       "      <td>CL0</td>\n",
       "      <td>CL0</td>\n",
       "      <td>CL0</td>\n",
       "      <td>CL0</td>\n",
       "    </tr>\n",
       "    <tr>\n",
       "      <th>1743</th>\n",
       "      <td>1747</td>\n",
       "      <td>0.49788</td>\n",
       "      <td>35-44</td>\n",
       "      <td>1</td>\n",
       "      <td>1.16365</td>\n",
       "      <td>Master</td>\n",
       "      <td>0.96082</td>\n",
       "      <td>UK</td>\n",
       "      <td>-1.10702</td>\n",
       "      <td>Black</td>\n",
       "      <td>-0.24649</td>\n",
       "      <td>-0.57545</td>\n",
       "      <td>-0.58331</td>\n",
       "      <td>0.13136</td>\n",
       "      <td>0.12331</td>\n",
       "      <td>-0.21712</td>\n",
       "      <td>-1.18084</td>\n",
       "      <td>CL0</td>\n",
       "      <td>CL0</td>\n",
       "      <td>CL0</td>\n",
       "      <td>CL0</td>\n",
       "      <td>CL1</td>\n",
       "      <td>CL0</td>\n",
       "      <td>CL0</td>\n",
       "      <td>CL0</td>\n",
       "      <td>CL0</td>\n",
       "      <td>CL0</td>\n",
       "      <td>CL0</td>\n",
       "      <td>CL0</td>\n",
       "      <td>CL0</td>\n",
       "      <td>CL0</td>\n",
       "      <td>CL0</td>\n",
       "      <td>CL0</td>\n",
       "      <td>CL0</td>\n",
       "      <td>CL0</td>\n",
       "    </tr>\n",
       "  </tbody>\n",
       "</table>\n",
       "</div>"
      ],
      "text/plain": [
       "        ID      Age Age_Cat Gender  Education Education_Level  Country  \\\n",
       "330    333  1.82213   55-64      1   -1.22751             18y  0.24923   \n",
       "1277  1281 -0.95197   18-24      0    0.45468      Uni Degree  0.96082   \n",
       "1743  1747  0.49788   35-44      1    1.16365          Master  0.96082   \n",
       "\n",
       "     Country_Name  Ethnicity Ethnicity_Label   Nscore   Escore   Oscore  \\\n",
       "330        Canada   -0.31685           White -0.46725 -0.43999 -1.55521   \n",
       "1277           UK   -0.50212           Asian  0.82562  0.63779 -0.84732   \n",
       "1743           UK   -1.10702           Black -0.24649 -0.57545 -0.58331   \n",
       "\n",
       "       Ascore   Cscore  Impulsive       SS Alcohol Amphet Amyl Benzos Caff  \\\n",
       "330   0.94156  0.75830   -1.37983 -1.54858     CL0    CL0  CL0    CL0  CL5   \n",
       "1277 -2.21844  0.93949    1.86203  1.92173     CL0    CL0  CL0    CL0  CL0   \n",
       "1743  0.13136  0.12331   -0.21712 -1.18084     CL0    CL0  CL0    CL0  CL1   \n",
       "\n",
       "     Cannabis Choc Coke Crack Ecstasy Heroin Ketamine Legalh  LSD Meth  \\\n",
       "330       CL0  CL0  CL0   CL0     CL0    CL0      CL0    CL0  CL0  CL0   \n",
       "1277      CL0  CL0  CL0   CL0     CL0    CL0      CL0    CL0  CL0  CL0   \n",
       "1743      CL0  CL0  CL0   CL0     CL0    CL0      CL0    CL0  CL0  CL0   \n",
       "\n",
       "     Shrooms Nicotine  VSA  \n",
       "330      CL0      CL5  CL0  \n",
       "1277     CL0      CL0  CL0  \n",
       "1743     CL0      CL0  CL0  "
      ]
     },
     "execution_count": 15,
     "metadata": {},
     "output_type": "execute_result"
    }
   ],
   "source": [
    "df1[(df1[\"Alcohol\"] == \"CL0\") & (df1[\"Choc\"] == \"CL0\")]"
   ]
  },
  {
   "cell_type": "markdown",
   "metadata": {},
   "source": [
    "### Overview of personality traits "
   ]
  },
  {
   "cell_type": "code",
   "execution_count": 16,
   "metadata": {},
   "outputs": [
    {
     "data": {
      "text/html": [
       "<div>\n",
       "<style scoped>\n",
       "    .dataframe tbody tr th:only-of-type {\n",
       "        vertical-align: middle;\n",
       "    }\n",
       "\n",
       "    .dataframe tbody tr th {\n",
       "        vertical-align: top;\n",
       "    }\n",
       "\n",
       "    .dataframe thead th {\n",
       "        text-align: right;\n",
       "    }\n",
       "</style>\n",
       "<table border=\"1\" class=\"dataframe\">\n",
       "  <thead>\n",
       "    <tr style=\"text-align: right;\">\n",
       "      <th></th>\n",
       "      <th>ID</th>\n",
       "      <th>Age</th>\n",
       "      <th>Age_Cat</th>\n",
       "      <th>Gender</th>\n",
       "      <th>Education</th>\n",
       "      <th>Education_Level</th>\n",
       "      <th>Country</th>\n",
       "      <th>Country_Name</th>\n",
       "      <th>Ethnicity</th>\n",
       "      <th>Ethnicity_Label</th>\n",
       "      <th>Nscore</th>\n",
       "      <th>Escore</th>\n",
       "      <th>Oscore</th>\n",
       "      <th>Ascore</th>\n",
       "      <th>Cscore</th>\n",
       "      <th>Impulsive</th>\n",
       "      <th>SS</th>\n",
       "      <th>Alcohol</th>\n",
       "      <th>Amphet</th>\n",
       "      <th>Amyl</th>\n",
       "      <th>Benzos</th>\n",
       "      <th>Caff</th>\n",
       "      <th>Cannabis</th>\n",
       "      <th>Choc</th>\n",
       "      <th>Coke</th>\n",
       "      <th>Crack</th>\n",
       "      <th>Ecstasy</th>\n",
       "      <th>Heroin</th>\n",
       "      <th>Ketamine</th>\n",
       "      <th>Legalh</th>\n",
       "      <th>LSD</th>\n",
       "      <th>Meth</th>\n",
       "      <th>Shrooms</th>\n",
       "      <th>Nicotine</th>\n",
       "      <th>VSA</th>\n",
       "    </tr>\n",
       "  </thead>\n",
       "  <tbody>\n",
       "    <tr>\n",
       "      <th>0</th>\n",
       "      <td>1</td>\n",
       "      <td>0.49788</td>\n",
       "      <td>35-44</td>\n",
       "      <td>1</td>\n",
       "      <td>-0.05921</td>\n",
       "      <td>Cert./Diploma</td>\n",
       "      <td>0.96082</td>\n",
       "      <td>UK</td>\n",
       "      <td>0.12600</td>\n",
       "      <td>Mixed-White/Asian</td>\n",
       "      <td>0.31287</td>\n",
       "      <td>-0.57545</td>\n",
       "      <td>-0.58331</td>\n",
       "      <td>-0.91699</td>\n",
       "      <td>-0.00665</td>\n",
       "      <td>-0.21712</td>\n",
       "      <td>-1.18084</td>\n",
       "      <td>CL5</td>\n",
       "      <td>CL2</td>\n",
       "      <td>CL0</td>\n",
       "      <td>CL2</td>\n",
       "      <td>CL6</td>\n",
       "      <td>CL0</td>\n",
       "      <td>CL5</td>\n",
       "      <td>CL0</td>\n",
       "      <td>CL0</td>\n",
       "      <td>CL0</td>\n",
       "      <td>CL0</td>\n",
       "      <td>CL0</td>\n",
       "      <td>CL0</td>\n",
       "      <td>CL0</td>\n",
       "      <td>CL0</td>\n",
       "      <td>CL0</td>\n",
       "      <td>CL2</td>\n",
       "      <td>CL0</td>\n",
       "    </tr>\n",
       "    <tr>\n",
       "      <th>1</th>\n",
       "      <td>2</td>\n",
       "      <td>-0.07854</td>\n",
       "      <td>25-34</td>\n",
       "      <td>0</td>\n",
       "      <td>1.98437</td>\n",
       "      <td>PhD</td>\n",
       "      <td>0.96082</td>\n",
       "      <td>UK</td>\n",
       "      <td>-0.31685</td>\n",
       "      <td>White</td>\n",
       "      <td>-0.67825</td>\n",
       "      <td>1.93886</td>\n",
       "      <td>1.43533</td>\n",
       "      <td>0.76096</td>\n",
       "      <td>-0.14277</td>\n",
       "      <td>-0.71126</td>\n",
       "      <td>-0.21575</td>\n",
       "      <td>CL5</td>\n",
       "      <td>CL2</td>\n",
       "      <td>CL2</td>\n",
       "      <td>CL0</td>\n",
       "      <td>CL6</td>\n",
       "      <td>CL4</td>\n",
       "      <td>CL6</td>\n",
       "      <td>CL3</td>\n",
       "      <td>CL0</td>\n",
       "      <td>CL4</td>\n",
       "      <td>CL0</td>\n",
       "      <td>CL2</td>\n",
       "      <td>CL0</td>\n",
       "      <td>CL2</td>\n",
       "      <td>CL3</td>\n",
       "      <td>CL0</td>\n",
       "      <td>CL4</td>\n",
       "      <td>CL0</td>\n",
       "    </tr>\n",
       "    <tr>\n",
       "      <th>2</th>\n",
       "      <td>3</td>\n",
       "      <td>0.49788</td>\n",
       "      <td>35-44</td>\n",
       "      <td>0</td>\n",
       "      <td>-0.05921</td>\n",
       "      <td>Cert./Diploma</td>\n",
       "      <td>0.96082</td>\n",
       "      <td>UK</td>\n",
       "      <td>-0.31685</td>\n",
       "      <td>White</td>\n",
       "      <td>-0.46725</td>\n",
       "      <td>0.80523</td>\n",
       "      <td>-0.84732</td>\n",
       "      <td>-1.62090</td>\n",
       "      <td>-1.01450</td>\n",
       "      <td>-1.37983</td>\n",
       "      <td>0.40148</td>\n",
       "      <td>CL6</td>\n",
       "      <td>CL0</td>\n",
       "      <td>CL0</td>\n",
       "      <td>CL0</td>\n",
       "      <td>CL6</td>\n",
       "      <td>CL3</td>\n",
       "      <td>CL4</td>\n",
       "      <td>CL0</td>\n",
       "      <td>CL0</td>\n",
       "      <td>CL0</td>\n",
       "      <td>CL0</td>\n",
       "      <td>CL0</td>\n",
       "      <td>CL0</td>\n",
       "      <td>CL0</td>\n",
       "      <td>CL0</td>\n",
       "      <td>CL1</td>\n",
       "      <td>CL0</td>\n",
       "      <td>CL0</td>\n",
       "    </tr>\n",
       "    <tr>\n",
       "      <th>3</th>\n",
       "      <td>4</td>\n",
       "      <td>-0.95197</td>\n",
       "      <td>18-24</td>\n",
       "      <td>1</td>\n",
       "      <td>1.16365</td>\n",
       "      <td>Master</td>\n",
       "      <td>0.96082</td>\n",
       "      <td>UK</td>\n",
       "      <td>-0.31685</td>\n",
       "      <td>White</td>\n",
       "      <td>-0.14882</td>\n",
       "      <td>-0.80615</td>\n",
       "      <td>-0.01928</td>\n",
       "      <td>0.59042</td>\n",
       "      <td>0.58489</td>\n",
       "      <td>-1.37983</td>\n",
       "      <td>-1.18084</td>\n",
       "      <td>CL4</td>\n",
       "      <td>CL0</td>\n",
       "      <td>CL0</td>\n",
       "      <td>CL3</td>\n",
       "      <td>CL5</td>\n",
       "      <td>CL2</td>\n",
       "      <td>CL4</td>\n",
       "      <td>CL2</td>\n",
       "      <td>CL0</td>\n",
       "      <td>CL0</td>\n",
       "      <td>CL0</td>\n",
       "      <td>CL2</td>\n",
       "      <td>CL0</td>\n",
       "      <td>CL0</td>\n",
       "      <td>CL0</td>\n",
       "      <td>CL0</td>\n",
       "      <td>CL2</td>\n",
       "      <td>CL0</td>\n",
       "    </tr>\n",
       "    <tr>\n",
       "      <th>4</th>\n",
       "      <td>5</td>\n",
       "      <td>0.49788</td>\n",
       "      <td>35-44</td>\n",
       "      <td>1</td>\n",
       "      <td>1.98437</td>\n",
       "      <td>PhD</td>\n",
       "      <td>0.96082</td>\n",
       "      <td>UK</td>\n",
       "      <td>-0.31685</td>\n",
       "      <td>White</td>\n",
       "      <td>0.73545</td>\n",
       "      <td>-1.63340</td>\n",
       "      <td>-0.45174</td>\n",
       "      <td>-0.30172</td>\n",
       "      <td>1.30612</td>\n",
       "      <td>-0.21712</td>\n",
       "      <td>-0.21575</td>\n",
       "      <td>CL4</td>\n",
       "      <td>CL1</td>\n",
       "      <td>CL1</td>\n",
       "      <td>CL0</td>\n",
       "      <td>CL6</td>\n",
       "      <td>CL3</td>\n",
       "      <td>CL6</td>\n",
       "      <td>CL0</td>\n",
       "      <td>CL0</td>\n",
       "      <td>CL1</td>\n",
       "      <td>CL0</td>\n",
       "      <td>CL0</td>\n",
       "      <td>CL1</td>\n",
       "      <td>CL0</td>\n",
       "      <td>CL0</td>\n",
       "      <td>CL2</td>\n",
       "      <td>CL2</td>\n",
       "      <td>CL0</td>\n",
       "    </tr>\n",
       "  </tbody>\n",
       "</table>\n",
       "</div>"
      ],
      "text/plain": [
       "   ID      Age Age_Cat Gender  Education Education_Level  Country  \\\n",
       "0   1  0.49788   35-44      1   -0.05921   Cert./Diploma  0.96082   \n",
       "1   2 -0.07854   25-34      0    1.98437             PhD  0.96082   \n",
       "2   3  0.49788   35-44      0   -0.05921   Cert./Diploma  0.96082   \n",
       "3   4 -0.95197   18-24      1    1.16365          Master  0.96082   \n",
       "4   5  0.49788   35-44      1    1.98437             PhD  0.96082   \n",
       "\n",
       "  Country_Name  Ethnicity    Ethnicity_Label   Nscore   Escore   Oscore  \\\n",
       "0           UK    0.12600  Mixed-White/Asian  0.31287 -0.57545 -0.58331   \n",
       "1           UK   -0.31685              White -0.67825  1.93886  1.43533   \n",
       "2           UK   -0.31685              White -0.46725  0.80523 -0.84732   \n",
       "3           UK   -0.31685              White -0.14882 -0.80615 -0.01928   \n",
       "4           UK   -0.31685              White  0.73545 -1.63340 -0.45174   \n",
       "\n",
       "    Ascore   Cscore  Impulsive       SS Alcohol Amphet Amyl Benzos Caff  \\\n",
       "0 -0.91699 -0.00665   -0.21712 -1.18084     CL5    CL2  CL0    CL2  CL6   \n",
       "1  0.76096 -0.14277   -0.71126 -0.21575     CL5    CL2  CL2    CL0  CL6   \n",
       "2 -1.62090 -1.01450   -1.37983  0.40148     CL6    CL0  CL0    CL0  CL6   \n",
       "3  0.59042  0.58489   -1.37983 -1.18084     CL4    CL0  CL0    CL3  CL5   \n",
       "4 -0.30172  1.30612   -0.21712 -0.21575     CL4    CL1  CL1    CL0  CL6   \n",
       "\n",
       "  Cannabis Choc Coke Crack Ecstasy Heroin Ketamine Legalh  LSD Meth Shrooms  \\\n",
       "0      CL0  CL5  CL0   CL0     CL0    CL0      CL0    CL0  CL0  CL0     CL0   \n",
       "1      CL4  CL6  CL3   CL0     CL4    CL0      CL2    CL0  CL2  CL3     CL0   \n",
       "2      CL3  CL4  CL0   CL0     CL0    CL0      CL0    CL0  CL0  CL0     CL1   \n",
       "3      CL2  CL4  CL2   CL0     CL0    CL0      CL2    CL0  CL0  CL0     CL0   \n",
       "4      CL3  CL6  CL0   CL0     CL1    CL0      CL0    CL1  CL0  CL0     CL2   \n",
       "\n",
       "  Nicotine  VSA  \n",
       "0      CL2  CL0  \n",
       "1      CL4  CL0  \n",
       "2      CL0  CL0  \n",
       "3      CL2  CL0  \n",
       "4      CL2  CL0  "
      ]
     },
     "execution_count": 16,
     "metadata": {},
     "output_type": "execute_result"
    }
   ],
   "source": [
    "df1.head()"
   ]
  },
  {
   "cell_type": "markdown",
   "metadata": {},
   "source": [
    "The distribution of the personality score for both males and females are very similar. This is the reason of why we stacked the bars insted of plotting both (it was very hard to see anything)."
   ]
  },
  {
   "cell_type": "code",
   "execution_count": 17,
   "metadata": {},
   "outputs": [
    {
     "data": {
      "text/plain": [
       "<AxesSubplot:xlabel='SS', ylabel='Count'>"
      ]
     },
     "execution_count": 17,
     "metadata": {},
     "output_type": "execute_result"
    },
    {
     "data": {
      "image/png": "[encoded data removed]",
      "text/plain": [
       "<Figure size 1440x1440 with 8 Axes>"
      ]
     },
     "metadata": {},
     "output_type": "display_data"
    }
   ],
   "source": [
    "fig, axes = plt.subplots(ncols=2, nrows=4, figsize=(20, 20), sharey=True)\n",
    "sns.set_palette(custom_palette_gender)\n",
    "\n",
    "sns.histplot(data=df1, x=\"Nscore\", hue='Gender', multiple=\"stack\", ax=axes[0][0])\n",
    "sns.histplot(data=df1, x=\"Escore\", hue='Gender', multiple=\"stack\", ax=axes[0][1])\n",
    "sns.histplot(data=df1, x=\"Oscore\", hue='Gender', multiple=\"stack\", ax=axes[1][0])\n",
    "sns.histplot(data=df1, x=\"Ascore\", hue='Gender', multiple=\"stack\", ax=axes[1][1])\n",
    "sns.histplot(data=df1, x=\"Cscore\", hue='Gender', multiple=\"stack\", ax=axes[2][0])\n",
    "sns.histplot(data=df1, x=\"Impulsive\", hue='Gender', multiple=\"stack\", ax=axes[2][1])\n",
    "sns.histplot(data=df1, x=\"SS\", hue='Gender', multiple=\"stack\", ax=axes[3][0])"
   ]
  },
  {
   "cell_type": "markdown",
   "metadata": {},
   "source": [
    "## Classification of drug usage in users and non-users"
   ]
  },
  {
   "cell_type": "markdown",
   "metadata": {},
   "source": [
    "Formally, the only individuals who can be considered non-users are individuals in Class 0, however individuals who used a drug more than a decade ago cannot be considered a drug user for most applications.\n",
    "There are several possible way to discriminate participants into groups of users and non-users for binary classification. We decided to define non-user as anyone who has never taken the drug (CL0) or taken the drug over a decade ago (CL1) and anyone else as a user (CL2, CL3, CL4, CL5 and CL6)."
   ]
  },
  {
   "cell_type": "code",
   "execution_count": 18,
   "metadata": {},
   "outputs": [
    {
     "data": {
      "text/html": [
       "<div>\n",
       "<style scoped>\n",
       "    .dataframe tbody tr th:only-of-type {\n",
       "        vertical-align: middle;\n",
       "    }\n",
       "\n",
       "    .dataframe tbody tr th {\n",
       "        vertical-align: top;\n",
       "    }\n",
       "\n",
       "    .dataframe thead th {\n",
       "        text-align: right;\n",
       "    }\n",
       "</style>\n",
       "<table border=\"1\" class=\"dataframe\">\n",
       "  <thead>\n",
       "    <tr style=\"text-align: right;\">\n",
       "      <th></th>\n",
       "      <th>ID</th>\n",
       "      <th>Age</th>\n",
       "      <th>Age_Cat</th>\n",
       "      <th>Gender</th>\n",
       "      <th>Education</th>\n",
       "      <th>Education_Level</th>\n",
       "      <th>Country</th>\n",
       "      <th>Country_Name</th>\n",
       "      <th>Ethnicity</th>\n",
       "      <th>Ethnicity_Label</th>\n",
       "      <th>Nscore</th>\n",
       "      <th>Escore</th>\n",
       "      <th>Oscore</th>\n",
       "      <th>Ascore</th>\n",
       "      <th>Cscore</th>\n",
       "      <th>Impulsive</th>\n",
       "      <th>SS</th>\n",
       "      <th>Alcohol</th>\n",
       "      <th>Amphet</th>\n",
       "      <th>Amyl</th>\n",
       "      <th>Benzos</th>\n",
       "      <th>Caff</th>\n",
       "      <th>Cannabis</th>\n",
       "      <th>Choc</th>\n",
       "      <th>Coke</th>\n",
       "      <th>Crack</th>\n",
       "      <th>Ecstasy</th>\n",
       "      <th>Heroin</th>\n",
       "      <th>Ketamine</th>\n",
       "      <th>Legalh</th>\n",
       "      <th>LSD</th>\n",
       "      <th>Meth</th>\n",
       "      <th>Shrooms</th>\n",
       "      <th>Nicotine</th>\n",
       "      <th>VSA</th>\n",
       "    </tr>\n",
       "  </thead>\n",
       "  <tbody>\n",
       "    <tr>\n",
       "      <th>0</th>\n",
       "      <td>1</td>\n",
       "      <td>0.49788</td>\n",
       "      <td>35-44</td>\n",
       "      <td>1</td>\n",
       "      <td>-0.05921</td>\n",
       "      <td>Cert./Diploma</td>\n",
       "      <td>0.96082</td>\n",
       "      <td>UK</td>\n",
       "      <td>0.12600</td>\n",
       "      <td>Mixed-White/Asian</td>\n",
       "      <td>0.31287</td>\n",
       "      <td>-0.57545</td>\n",
       "      <td>-0.58331</td>\n",
       "      <td>-0.91699</td>\n",
       "      <td>-0.00665</td>\n",
       "      <td>-0.21712</td>\n",
       "      <td>-1.18084</td>\n",
       "      <td>CL5</td>\n",
       "      <td>CL2</td>\n",
       "      <td>CL0</td>\n",
       "      <td>CL2</td>\n",
       "      <td>CL6</td>\n",
       "      <td>CL0</td>\n",
       "      <td>CL5</td>\n",
       "      <td>CL0</td>\n",
       "      <td>CL0</td>\n",
       "      <td>CL0</td>\n",
       "      <td>CL0</td>\n",
       "      <td>CL0</td>\n",
       "      <td>CL0</td>\n",
       "      <td>CL0</td>\n",
       "      <td>CL0</td>\n",
       "      <td>CL0</td>\n",
       "      <td>CL2</td>\n",
       "      <td>CL0</td>\n",
       "    </tr>\n",
       "    <tr>\n",
       "      <th>1</th>\n",
       "      <td>2</td>\n",
       "      <td>-0.07854</td>\n",
       "      <td>25-34</td>\n",
       "      <td>0</td>\n",
       "      <td>1.98437</td>\n",
       "      <td>PhD</td>\n",
       "      <td>0.96082</td>\n",
       "      <td>UK</td>\n",
       "      <td>-0.31685</td>\n",
       "      <td>White</td>\n",
       "      <td>-0.67825</td>\n",
       "      <td>1.93886</td>\n",
       "      <td>1.43533</td>\n",
       "      <td>0.76096</td>\n",
       "      <td>-0.14277</td>\n",
       "      <td>-0.71126</td>\n",
       "      <td>-0.21575</td>\n",
       "      <td>CL5</td>\n",
       "      <td>CL2</td>\n",
       "      <td>CL2</td>\n",
       "      <td>CL0</td>\n",
       "      <td>CL6</td>\n",
       "      <td>CL4</td>\n",
       "      <td>CL6</td>\n",
       "      <td>CL3</td>\n",
       "      <td>CL0</td>\n",
       "      <td>CL4</td>\n",
       "      <td>CL0</td>\n",
       "      <td>CL2</td>\n",
       "      <td>CL0</td>\n",
       "      <td>CL2</td>\n",
       "      <td>CL3</td>\n",
       "      <td>CL0</td>\n",
       "      <td>CL4</td>\n",
       "      <td>CL0</td>\n",
       "    </tr>\n",
       "    <tr>\n",
       "      <th>2</th>\n",
       "      <td>3</td>\n",
       "      <td>0.49788</td>\n",
       "      <td>35-44</td>\n",
       "      <td>0</td>\n",
       "      <td>-0.05921</td>\n",
       "      <td>Cert./Diploma</td>\n",
       "      <td>0.96082</td>\n",
       "      <td>UK</td>\n",
       "      <td>-0.31685</td>\n",
       "      <td>White</td>\n",
       "      <td>-0.46725</td>\n",
       "      <td>0.80523</td>\n",
       "      <td>-0.84732</td>\n",
       "      <td>-1.62090</td>\n",
       "      <td>-1.01450</td>\n",
       "      <td>-1.37983</td>\n",
       "      <td>0.40148</td>\n",
       "      <td>CL6</td>\n",
       "      <td>CL0</td>\n",
       "      <td>CL0</td>\n",
       "      <td>CL0</td>\n",
       "      <td>CL6</td>\n",
       "      <td>CL3</td>\n",
       "      <td>CL4</td>\n",
       "      <td>CL0</td>\n",
       "      <td>CL0</td>\n",
       "      <td>CL0</td>\n",
       "      <td>CL0</td>\n",
       "      <td>CL0</td>\n",
       "      <td>CL0</td>\n",
       "      <td>CL0</td>\n",
       "      <td>CL0</td>\n",
       "      <td>CL1</td>\n",
       "      <td>CL0</td>\n",
       "      <td>CL0</td>\n",
       "    </tr>\n",
       "    <tr>\n",
       "      <th>3</th>\n",
       "      <td>4</td>\n",
       "      <td>-0.95197</td>\n",
       "      <td>18-24</td>\n",
       "      <td>1</td>\n",
       "      <td>1.16365</td>\n",
       "      <td>Master</td>\n",
       "      <td>0.96082</td>\n",
       "      <td>UK</td>\n",
       "      <td>-0.31685</td>\n",
       "      <td>White</td>\n",
       "      <td>-0.14882</td>\n",
       "      <td>-0.80615</td>\n",
       "      <td>-0.01928</td>\n",
       "      <td>0.59042</td>\n",
       "      <td>0.58489</td>\n",
       "      <td>-1.37983</td>\n",
       "      <td>-1.18084</td>\n",
       "      <td>CL4</td>\n",
       "      <td>CL0</td>\n",
       "      <td>CL0</td>\n",
       "      <td>CL3</td>\n",
       "      <td>CL5</td>\n",
       "      <td>CL2</td>\n",
       "      <td>CL4</td>\n",
       "      <td>CL2</td>\n",
       "      <td>CL0</td>\n",
       "      <td>CL0</td>\n",
       "      <td>CL0</td>\n",
       "      <td>CL2</td>\n",
       "      <td>CL0</td>\n",
       "      <td>CL0</td>\n",
       "      <td>CL0</td>\n",
       "      <td>CL0</td>\n",
       "      <td>CL2</td>\n",
       "      <td>CL0</td>\n",
       "    </tr>\n",
       "    <tr>\n",
       "      <th>4</th>\n",
       "      <td>5</td>\n",
       "      <td>0.49788</td>\n",
       "      <td>35-44</td>\n",
       "      <td>1</td>\n",
       "      <td>1.98437</td>\n",
       "      <td>PhD</td>\n",
       "      <td>0.96082</td>\n",
       "      <td>UK</td>\n",
       "      <td>-0.31685</td>\n",
       "      <td>White</td>\n",
       "      <td>0.73545</td>\n",
       "      <td>-1.63340</td>\n",
       "      <td>-0.45174</td>\n",
       "      <td>-0.30172</td>\n",
       "      <td>1.30612</td>\n",
       "      <td>-0.21712</td>\n",
       "      <td>-0.21575</td>\n",
       "      <td>CL4</td>\n",
       "      <td>CL1</td>\n",
       "      <td>CL1</td>\n",
       "      <td>CL0</td>\n",
       "      <td>CL6</td>\n",
       "      <td>CL3</td>\n",
       "      <td>CL6</td>\n",
       "      <td>CL0</td>\n",
       "      <td>CL0</td>\n",
       "      <td>CL1</td>\n",
       "      <td>CL0</td>\n",
       "      <td>CL0</td>\n",
       "      <td>CL1</td>\n",
       "      <td>CL0</td>\n",
       "      <td>CL0</td>\n",
       "      <td>CL2</td>\n",
       "      <td>CL2</td>\n",
       "      <td>CL0</td>\n",
       "    </tr>\n",
       "  </tbody>\n",
       "</table>\n",
       "</div>"
      ],
      "text/plain": [
       "   ID      Age Age_Cat Gender  Education Education_Level  Country  \\\n",
       "0   1  0.49788   35-44      1   -0.05921   Cert./Diploma  0.96082   \n",
       "1   2 -0.07854   25-34      0    1.98437             PhD  0.96082   \n",
       "2   3  0.49788   35-44      0   -0.05921   Cert./Diploma  0.96082   \n",
       "3   4 -0.95197   18-24      1    1.16365          Master  0.96082   \n",
       "4   5  0.49788   35-44      1    1.98437             PhD  0.96082   \n",
       "\n",
       "  Country_Name  Ethnicity    Ethnicity_Label   Nscore   Escore   Oscore  \\\n",
       "0           UK    0.12600  Mixed-White/Asian  0.31287 -0.57545 -0.58331   \n",
       "1           UK   -0.31685              White -0.67825  1.93886  1.43533   \n",
       "2           UK   -0.31685              White -0.46725  0.80523 -0.84732   \n",
       "3           UK   -0.31685              White -0.14882 -0.80615 -0.01928   \n",
       "4           UK   -0.31685              White  0.73545 -1.63340 -0.45174   \n",
       "\n",
       "    Ascore   Cscore  Impulsive       SS Alcohol Amphet Amyl Benzos Caff  \\\n",
       "0 -0.91699 -0.00665   -0.21712 -1.18084     CL5    CL2  CL0    CL2  CL6   \n",
       "1  0.76096 -0.14277   -0.71126 -0.21575     CL5    CL2  CL2    CL0  CL6   \n",
       "2 -1.62090 -1.01450   -1.37983  0.40148     CL6    CL0  CL0    CL0  CL6   \n",
       "3  0.59042  0.58489   -1.37983 -1.18084     CL4    CL0  CL0    CL3  CL5   \n",
       "4 -0.30172  1.30612   -0.21712 -0.21575     CL4    CL1  CL1    CL0  CL6   \n",
       "\n",
       "  Cannabis Choc Coke Crack Ecstasy Heroin Ketamine Legalh  LSD Meth Shrooms  \\\n",
       "0      CL0  CL5  CL0   CL0     CL0    CL0      CL0    CL0  CL0  CL0     CL0   \n",
       "1      CL4  CL6  CL3   CL0     CL4    CL0      CL2    CL0  CL2  CL3     CL0   \n",
       "2      CL3  CL4  CL0   CL0     CL0    CL0      CL0    CL0  CL0  CL0     CL1   \n",
       "3      CL2  CL4  CL2   CL0     CL0    CL0      CL2    CL0  CL0  CL0     CL0   \n",
       "4      CL3  CL6  CL0   CL0     CL1    CL0      CL0    CL1  CL0  CL0     CL2   \n",
       "\n",
       "  Nicotine  VSA  \n",
       "0      CL2  CL0  \n",
       "1      CL4  CL0  \n",
       "2      CL0  CL0  \n",
       "3      CL2  CL0  \n",
       "4      CL2  CL0  "
      ]
     },
     "execution_count": 18,
     "metadata": {},
     "output_type": "execute_result"
    }
   ],
   "source": [
    "df1.head()"
   ]
  },
  {
   "cell_type": "code",
   "execution_count": 19,
   "metadata": {},
   "outputs": [],
   "source": [
    "drugs = [\"Alcohol\", \"Amphet\", \"Amyl\", \"Benzos\", \"Caff\", \"Cannabis\", \"Choc\", \"Coke\", \"Crack\",\n",
    "        \"Ecstasy\", \"Heroin\", \"Ketamine\", \"Legalh\", \"LSD\", \"Meth\", \"Shrooms\", \"Nicotine\", \"VSA\"]\n",
    "\n",
    "for element in drugs:\n",
    "    column_insert = df1.columns.get_loc(element)+1\n",
    "    col_name = element+\"_Cat\"\n",
    "    cat = df1[element].apply(lambda x: 0 if (x == \"CL0\" or x == \"CL1\") else 1)\n",
    "    df1.insert(column_insert, col_name, cat)\n",
    "    df1[col_name] = df1[col_name].astype(\"category\")"
   ]
  },
  {
   "cell_type": "markdown",
   "metadata": {},
   "source": [
    "## Categorizing the different drugs into 3 groups"
   ]
  },
  {
   "cell_type": "code",
   "execution_count": 20,
   "metadata": {},
   "outputs": [],
   "source": [
    "drugs_cat = [\"Alcohol_Cat\", \"Amphet_Cat\", \"Amyl_Cat\", \"Benzos_Cat\", \"Caff_Cat\", \"Cannabis_Cat\", \"Choc_Cat\", \"Coke_Cat\", \"Crack_Cat\",\n",
    "        \"Ecstasy_Cat\", \"Heroin_Cat\", \"Ketamine_Cat\", \"Legalh_Cat\", \"LSD_Cat\", \"Meth_Cat\", \"Shrooms_Cat\", \"Nicotine_Cat\", \"VSA_Cat\"]\n",
    "\n",
    "user_total = []\n",
    "non_user_total = []\n",
    "\n",
    "for element in drugs_cat:\n",
    "    user = df1[element].value_counts(normalize=True).sort_index()[1]\n",
    "    non_user = df1[element].value_counts(normalize=True).sort_index()[0]\n",
    "    user_total.append(user)\n",
    "    non_user_total.append(non_user)\n",
    "\n",
    "total_user = pd.DataFrame([drugs_cat, user_total, non_user_total], index=[\"Drug\", \"User\", \"Non_user\"]).T"
   ]
  },
  {
   "cell_type": "code",
   "execution_count": 21,
   "metadata": {},
   "outputs": [
    {
     "data": {
      "text/html": [
       "<div>\n",
       "<style scoped>\n",
       "    .dataframe tbody tr th:only-of-type {\n",
       "        vertical-align: middle;\n",
       "    }\n",
       "\n",
       "    .dataframe tbody tr th {\n",
       "        vertical-align: top;\n",
       "    }\n",
       "\n",
       "    .dataframe thead th {\n",
       "        text-align: right;\n",
       "    }\n",
       "</style>\n",
       "<table border=\"1\" class=\"dataframe\">\n",
       "  <thead>\n",
       "    <tr style=\"text-align: right;\">\n",
       "      <th></th>\n",
       "      <th>Drug</th>\n",
       "      <th>User</th>\n",
       "      <th>Non_user</th>\n",
       "    </tr>\n",
       "  </thead>\n",
       "  <tbody>\n",
       "    <tr>\n",
       "      <th>0</th>\n",
       "      <td>Alcohol_Cat</td>\n",
       "      <td>0.964305</td>\n",
       "      <td>0.0356953</td>\n",
       "    </tr>\n",
       "    <tr>\n",
       "      <th>4</th>\n",
       "      <td>Caff_Cat</td>\n",
       "      <td>0.980288</td>\n",
       "      <td>0.0197123</td>\n",
       "    </tr>\n",
       "    <tr>\n",
       "      <th>5</th>\n",
       "      <td>Cannabis_Cat</td>\n",
       "      <td>0.669686</td>\n",
       "      <td>0.330314</td>\n",
       "    </tr>\n",
       "    <tr>\n",
       "      <th>6</th>\n",
       "      <td>Choc_Cat</td>\n",
       "      <td>0.981886</td>\n",
       "      <td>0.018114</td>\n",
       "    </tr>\n",
       "    <tr>\n",
       "      <th>16</th>\n",
       "      <td>Nicotine_Cat</td>\n",
       "      <td>0.669153</td>\n",
       "      <td>0.330847</td>\n",
       "    </tr>\n",
       "  </tbody>\n",
       "</table>\n",
       "</div>"
      ],
      "text/plain": [
       "            Drug      User   Non_user\n",
       "0    Alcohol_Cat  0.964305  0.0356953\n",
       "4       Caff_Cat  0.980288  0.0197123\n",
       "5   Cannabis_Cat  0.669686   0.330314\n",
       "6       Choc_Cat  0.981886   0.018114\n",
       "16  Nicotine_Cat  0.669153   0.330847"
      ]
     },
     "execution_count": 21,
     "metadata": {},
     "output_type": "execute_result"
    }
   ],
   "source": [
    "total_user.query(\"User > 0.6\")"
   ]
  },
  {
   "cell_type": "code",
   "execution_count": 22,
   "metadata": {},
   "outputs": [
    {
     "data": {
      "text/html": [
       "<div>\n",
       "<style scoped>\n",
       "    .dataframe tbody tr th:only-of-type {\n",
       "        vertical-align: middle;\n",
       "    }\n",
       "\n",
       "    .dataframe tbody tr th {\n",
       "        vertical-align: top;\n",
       "    }\n",
       "\n",
       "    .dataframe thead th {\n",
       "        text-align: right;\n",
       "    }\n",
       "</style>\n",
       "<table border=\"1\" class=\"dataframe\">\n",
       "  <thead>\n",
       "    <tr style=\"text-align: right;\">\n",
       "      <th></th>\n",
       "      <th>Drug</th>\n",
       "      <th>User</th>\n",
       "      <th>Non_user</th>\n",
       "    </tr>\n",
       "  </thead>\n",
       "  <tbody>\n",
       "    <tr>\n",
       "      <th>1</th>\n",
       "      <td>Amphet_Cat</td>\n",
       "      <td>0.359084</td>\n",
       "      <td>0.640916</td>\n",
       "    </tr>\n",
       "    <tr>\n",
       "      <th>3</th>\n",
       "      <td>Benzos_Cat</td>\n",
       "      <td>0.405967</td>\n",
       "      <td>0.594033</td>\n",
       "    </tr>\n",
       "    <tr>\n",
       "      <th>7</th>\n",
       "      <td>Coke_Cat</td>\n",
       "      <td>0.362813</td>\n",
       "      <td>0.637187</td>\n",
       "    </tr>\n",
       "    <tr>\n",
       "      <th>9</th>\n",
       "      <td>Ecstasy_Cat</td>\n",
       "      <td>0.39691</td>\n",
       "      <td>0.60309</td>\n",
       "    </tr>\n",
       "    <tr>\n",
       "      <th>12</th>\n",
       "      <td>Legalh_Cat</td>\n",
       "      <td>0.40277</td>\n",
       "      <td>0.59723</td>\n",
       "    </tr>\n",
       "    <tr>\n",
       "      <th>13</th>\n",
       "      <td>LSD_Cat</td>\n",
       "      <td>0.293554</td>\n",
       "      <td>0.706446</td>\n",
       "    </tr>\n",
       "    <tr>\n",
       "      <th>15</th>\n",
       "      <td>Shrooms_Cat</td>\n",
       "      <td>0.36601</td>\n",
       "      <td>0.63399</td>\n",
       "    </tr>\n",
       "  </tbody>\n",
       "</table>\n",
       "</div>"
      ],
      "text/plain": [
       "           Drug      User  Non_user\n",
       "1    Amphet_Cat  0.359084  0.640916\n",
       "3    Benzos_Cat  0.405967  0.594033\n",
       "7      Coke_Cat  0.362813  0.637187\n",
       "9   Ecstasy_Cat   0.39691   0.60309\n",
       "12   Legalh_Cat   0.40277   0.59723\n",
       "13      LSD_Cat  0.293554  0.706446\n",
       "15  Shrooms_Cat   0.36601   0.63399"
      ]
     },
     "execution_count": 22,
     "metadata": {},
     "output_type": "execute_result"
    }
   ],
   "source": [
    "total_user.query(\"User < 0.6 and User > 0.25\")"
   ]
  },
  {
   "cell_type": "code",
   "execution_count": 23,
   "metadata": {},
   "outputs": [
    {
     "data": {
      "text/html": [
       "<div>\n",
       "<style scoped>\n",
       "    .dataframe tbody tr th:only-of-type {\n",
       "        vertical-align: middle;\n",
       "    }\n",
       "\n",
       "    .dataframe tbody tr th {\n",
       "        vertical-align: top;\n",
       "    }\n",
       "\n",
       "    .dataframe thead th {\n",
       "        text-align: right;\n",
       "    }\n",
       "</style>\n",
       "<table border=\"1\" class=\"dataframe\">\n",
       "  <thead>\n",
       "    <tr style=\"text-align: right;\">\n",
       "      <th></th>\n",
       "      <th>Drug</th>\n",
       "      <th>User</th>\n",
       "      <th>Non_user</th>\n",
       "    </tr>\n",
       "  </thead>\n",
       "  <tbody>\n",
       "    <tr>\n",
       "      <th>2</th>\n",
       "      <td>Amyl_Cat</td>\n",
       "      <td>0.196058</td>\n",
       "      <td>0.803942</td>\n",
       "    </tr>\n",
       "    <tr>\n",
       "      <th>8</th>\n",
       "      <td>Crack_Cat</td>\n",
       "      <td>0.10016</td>\n",
       "      <td>0.89984</td>\n",
       "    </tr>\n",
       "    <tr>\n",
       "      <th>10</th>\n",
       "      <td>Heroin_Cat</td>\n",
       "      <td>0.111348</td>\n",
       "      <td>0.888652</td>\n",
       "    </tr>\n",
       "    <tr>\n",
       "      <th>11</th>\n",
       "      <td>Ketamine_Cat</td>\n",
       "      <td>0.184337</td>\n",
       "      <td>0.815663</td>\n",
       "    </tr>\n",
       "    <tr>\n",
       "      <th>14</th>\n",
       "      <td>Meth_Cat</td>\n",
       "      <td>0.220565</td>\n",
       "      <td>0.779435</td>\n",
       "    </tr>\n",
       "    <tr>\n",
       "      <th>17</th>\n",
       "      <td>VSA_Cat</td>\n",
       "      <td>0.120405</td>\n",
       "      <td>0.879595</td>\n",
       "    </tr>\n",
       "  </tbody>\n",
       "</table>\n",
       "</div>"
      ],
      "text/plain": [
       "            Drug      User  Non_user\n",
       "2       Amyl_Cat  0.196058  0.803942\n",
       "8      Crack_Cat   0.10016   0.89984\n",
       "10    Heroin_Cat  0.111348  0.888652\n",
       "11  Ketamine_Cat  0.184337  0.815663\n",
       "14      Meth_Cat  0.220565  0.779435\n",
       "17       VSA_Cat  0.120405  0.879595"
      ]
     },
     "execution_count": 23,
     "metadata": {},
     "output_type": "execute_result"
    }
   ],
   "source": [
    "total_user.query(\"User < 0.25\")"
   ]
  },
  {
   "cell_type": "markdown",
   "metadata": {},
   "source": [
    "Making a dataframe for each ob the drug subgroups:"
   ]
  },
  {
   "cell_type": "code",
   "execution_count": 24,
   "metadata": {},
   "outputs": [],
   "source": [
    "df_group1_drugs = df1.drop([\"Amphet_Cat\", \"Amyl_Cat\", \"Benzos_Cat\", \"Coke_Cat\", \"Crack_Cat\", \"Ecstasy_Cat\", 'Heroin_Cat', 'Ketamine_Cat',\n",
    "                       'Legalh_Cat', 'LSD_Cat', 'Meth_Cat', 'Shrooms_Cat', 'VSA_Cat', 'Alcohol', 'Amphet', 'Amyl', 'Benzos', 'Caff', \n",
    "                       'Cannabis', 'Choc', 'Coke', 'Crack', 'Ecstasy', 'Heroin', 'Ketamine', 'Legalh', 'LSD', 'Meth', 'Shrooms',\n",
    "                       'Nicotine', 'VSA'], axis=1)\n",
    "\n",
    "df_group2_drugs = df1.drop([\"Alcohol_Cat\", \"Amyl_Cat\", \"Caff_Cat\", \"Cannabis_Cat\", \"Choc_Cat\", \"Crack_Cat\",\n",
    "        \"Heroin_Cat\", \"Ketamine_Cat\", \"Meth_Cat\", \"Nicotine_Cat\", \"VSA_Cat\", \"Alcohol\", \"Amphet\", \"Amyl\", \"Benzos\", \"Caff\", \"Cannabis\", \"Choc\", \"Coke\", \"Crack\",\n",
    "        \"Ecstasy\", \"Heroin\", \"Ketamine\", \"Legalh\", \"LSD\", \"Meth\", \"Shrooms\", \"Nicotine\", \"VSA\"], axis=1)\n",
    "\n",
    "df_group3_drugs = df1.drop([\"Alcohol_Cat\", \"Amphet_Cat\", \"Benzos_Cat\", \"Caff_Cat\", \"Cannabis_Cat\", \"Choc_Cat\", \"Coke_Cat\",\n",
    "        \"Ecstasy_Cat\", \"Legalh_Cat\", \"LSD_Cat\", \"Shrooms_Cat\", \"Nicotine_Cat\", \"Alcohol\", \"Amphet\", \"Amyl\", \"Benzos\", \"Caff\", \"Cannabis\", \"Choc\", \"Coke\", \"Crack\",\n",
    "        \"Ecstasy\", \"Heroin\", \"Ketamine\", \"Legalh\", \"LSD\", \"Meth\", \"Shrooms\", \"Nicotine\", \"VSA\"], axis=1)"
   ]
  },
  {
   "cell_type": "markdown",
   "metadata": {},
   "source": [
    "Changing the binary classification to integers for each of the drugs in the 3 drug subgroup dataframes:"
   ]
  },
  {
   "cell_type": "code",
   "execution_count": 25,
   "metadata": {},
   "outputs": [],
   "source": [
    "df_group1_drugs[\"Alcohol_Cat\"] = df_group1_drugs[\"Alcohol_Cat\"].astype(int)\n",
    "df_group1_drugs[\"Caff_Cat\"] = df_group1_drugs[\"Caff_Cat\"].astype(int)\n",
    "df_group1_drugs[\"Cannabis_Cat\"] = df_group1_drugs[\"Cannabis_Cat\"].astype(int)\n",
    "df_group1_drugs[\"Choc_Cat\"] = df_group1_drugs[\"Choc_Cat\"].astype(int)\n",
    "df_group1_drugs[\"Nicotine_Cat\"] = df_group1_drugs[\"Nicotine_Cat\"].astype(int)"
   ]
  },
  {
   "cell_type": "code",
   "execution_count": 26,
   "metadata": {},
   "outputs": [],
   "source": [
    "df_group2_drugs[\"Amphet_Cat\"] = df_group2_drugs[\"Amphet_Cat\"].astype(int)\n",
    "df_group2_drugs[\"Benzos_Cat\"] = df_group2_drugs[\"Benzos_Cat\"].astype(int)\n",
    "df_group2_drugs[\"Coke_Cat\"] = df_group2_drugs[\"Coke_Cat\"].astype(int)\n",
    "df_group2_drugs[\"Ecstasy_Cat\"] = df_group2_drugs[\"Ecstasy_Cat\"].astype(int)\n",
    "df_group2_drugs[\"Legalh_Cat\"] = df_group2_drugs[\"Legalh_Cat\"].astype(int)\n",
    "df_group2_drugs[\"LSD_Cat\"] = df_group2_drugs[\"LSD_Cat\"].astype(int)\n",
    "df_group2_drugs[\"Shrooms_Cat\"] = df_group2_drugs[\"Shrooms_Cat\"].astype(int)"
   ]
  },
  {
   "cell_type": "code",
   "execution_count": 27,
   "metadata": {},
   "outputs": [],
   "source": [
    "df_group3_drugs[\"Amyl_Cat\"] = df_group3_drugs[\"Amyl_Cat\"].astype(int)\n",
    "df_group3_drugs[\"Crack_Cat\"] = df_group3_drugs[\"Crack_Cat\"].astype(int)\n",
    "df_group3_drugs[\"Heroin_Cat\"] = df_group3_drugs[\"Heroin_Cat\"].astype(int)\n",
    "df_group3_drugs[\"Ketamine_Cat\"] = df_group3_drugs[\"Ketamine_Cat\"].astype(int)\n",
    "df_group3_drugs[\"Meth_Cat\"] = df_group3_drugs[\"Meth_Cat\"].astype(int)\n",
    "df_group3_drugs[\"VSA_Cat\"] = df_group3_drugs[\"VSA_Cat\"].astype(int)"
   ]
  },
  {
   "cell_type": "markdown",
   "metadata": {},
   "source": [
    "Assigning user or non-user (1 or 0) for each of the drug groups and storing this in a few dataframe:"
   ]
  },
  {
   "cell_type": "code",
   "execution_count": 28,
   "metadata": {},
   "outputs": [],
   "source": [
    "df2 = df1.copy()"
   ]
  },
  {
   "cell_type": "code",
   "execution_count": 29,
   "metadata": {},
   "outputs": [],
   "source": [
    "drugs1=[\"Alcohol_Cat\", \"Caff_Cat\", \"Cannabis_Cat\", \"Choc_Cat\", \"Nicotine_Cat\"]\n",
    "df2['Group1_drugs']= df_group1_drugs[\"Alcohol_Cat\"] + df_group1_drugs[\"Caff_Cat\"] + df_group1_drugs[\"Cannabis_Cat\"] + df_group1_drugs[\"Choc_Cat\"] + df_group1_drugs[\"Nicotine_Cat\"]\n",
    "df2['Group1_drugs'] = df2['Group1_drugs'].apply(lambda x: 1 if x > 0 else 0)\n"
   ]
  },
  {
   "cell_type": "code",
   "execution_count": 30,
   "metadata": {},
   "outputs": [],
   "source": [
    "drugs2=[\"Amphet_Cat\", \"Benzos_Cat\", \"Coke_Cat\", \"Ecstasy_Cat\", \"Legalh_Cat\", \"LSD_Cat\", \"Shrooms_Cat\"]\n",
    "df2['Group2_drugs']= df_group2_drugs[\"Amphet_Cat\"] + df_group2_drugs[\"Benzos_Cat\"] + df_group2_drugs[\"Coke_Cat\"] + df_group2_drugs[\"Ecstasy_Cat\"] + df_group2_drugs[\"Legalh_Cat\"] + df_group2_drugs[\"LSD_Cat\"]+ df_group2_drugs[\"Shrooms_Cat\"]\n",
    "df2['Group2_drugs'] = df2['Group2_drugs'].apply(lambda x: 1 if x > 0 else 0)\n"
   ]
  },
  {
   "cell_type": "code",
   "execution_count": 31,
   "metadata": {},
   "outputs": [],
   "source": [
    "drugs3=[\"Amyl_Cat\", \"Crack_Cat\", \"Heroin_Cat\", \"Ketamine_Cat\", \"Meth_Cat\", \"VSA_Cat\"]\n",
    "df2['Group3_drugs']= df_group3_drugs[\"Amyl_Cat\"] + df_group3_drugs[\"Crack_Cat\"] + df_group3_drugs[\"Heroin_Cat\"] + df_group3_drugs[\"Ketamine_Cat\"] + df_group3_drugs[\"Meth_Cat\"] + df_group3_drugs[\"VSA_Cat\"]\n",
    "df2['Group3_drugs'] = df2['Group3_drugs'].apply(lambda x: 1 if x > 0 else 0)"
   ]
  },
  {
   "cell_type": "code",
   "execution_count": 32,
   "metadata": {},
   "outputs": [],
   "source": [
    "df2.drop([\"Alcohol\", \"Amphet\", \"Amyl\", \"Benzos\", \"Caff\", \"Cannabis\", \"Choc\", \"Coke\", \"Crack\",\"Ecstasy\", \"Heroin\", \"Ketamine\",\n",
    "          \"Legalh\", \"LSD\", \"Meth\", \"Shrooms\", \"Nicotine\", \"VSA\", \"Alcohol_Cat\", \"Amphet_Cat\", \"Amyl_Cat\", \"Benzos_Cat\", \"Caff_Cat\",\n",
    "          \"Cannabis_Cat\", \"Choc_Cat\", \"Coke_Cat\", \"Crack_Cat\",\"Ecstasy_Cat\", \"Heroin_Cat\", \"Ketamine_Cat\", \"Legalh_Cat\", \"LSD_Cat\", \n",
    "          \"Meth_Cat\", \"Shrooms_Cat\", \"Nicotine_Cat\", \"VSA_Cat\"], axis=1, inplace=True)"
   ]
  },
  {
   "cell_type": "markdown",
   "metadata": {},
   "source": [
    "### How balanced are the groups"
   ]
  },
  {
   "cell_type": "code",
   "execution_count": 63,
   "metadata": {},
   "outputs": [
    {
     "data": {
      "text/plain": [
       "0    0.353756\n",
       "1    0.646244\n",
       "Name: Group2_drugs, dtype: float64"
      ]
     },
     "execution_count": 63,
     "metadata": {},
     "output_type": "execute_result"
    }
   ],
   "source": [
    "df2[\"Group2_drugs\"].value_counts(normalize=True).sort_index()"
   ]
  },
  {
   "cell_type": "code",
   "execution_count": 62,
   "metadata": {},
   "outputs": [
    {
     "data": {
      "text/plain": [
       "0    0.546617\n",
       "1    0.453383\n",
       "Name: Group3_drugs, dtype: float64"
      ]
     },
     "execution_count": 62,
     "metadata": {},
     "output_type": "execute_result"
    }
   ],
   "source": [
    "df2[\"Group3_drugs\"].value_counts(normalize=True).sort_index()"
   ]
  },
  {
   "cell_type": "markdown",
   "metadata": {},
   "source": [
    "## Drug usage comparison in the UK and the USA"
   ]
  },
  {
   "cell_type": "markdown",
   "metadata": {},
   "source": [
    "We are going to look at how drug consumption varies between the USA and the UK. We cannot include the other countries in this study as there are too few respondants from those countries (Australia 54, Canada 87, New Zealand 5, Republic or Ireland 20 and Other 118).  \n",
    "We have 557 respondant from the USA which accounts to 29.55%, and 1044 respondants from the UK, accounting to 55.38%.  \n",
    "As there are more respondants from the UK than the USA, we are going to compare percentages."
   ]
  },
  {
   "cell_type": "code",
   "execution_count": 34,
   "metadata": {},
   "outputs": [],
   "source": [
    "df1_uk_usa = df1[(df1['Country_Name'].isin(['UK','USA']))]\n",
    "df1_uk = df1[(df1['Country_Name'] == \"UK\")]\n",
    "df1_usa = df1[(df1['Country_Name'] == \"USA\")]"
   ]
  },
  {
   "cell_type": "code",
   "execution_count": 35,
   "metadata": {},
   "outputs": [],
   "source": [
    "drugs_cat = [\"Alcohol_Cat\", \"Amphet_Cat\", \"Amyl_Cat\", \"Benzos_Cat\", \"Caff_Cat\", \"Cannabis_Cat\", \"Choc_Cat\", \"Coke_Cat\", \"Crack_Cat\",\n",
    "        \"Ecstasy_Cat\", \"Heroin_Cat\", \"Ketamine_Cat\", \"Legalh_Cat\", \"LSD_Cat\", \"Meth_Cat\", \"Shrooms_Cat\", \"Nicotine_Cat\", \"VSA_Cat\"]\n",
    "\n",
    "uk_user_percentage = []\n",
    "uk_non_user_percentage = []\n",
    "\n",
    "for element in drugs_cat:\n",
    "    user = df1_uk[element].value_counts(normalize=True).sort_index()[1]\n",
    "    non_user = df1_uk[element].value_counts(normalize=True).sort_index()[0]\n",
    "    uk_user_percentage.append(user)\n",
    "    uk_non_user_percentage.append(non_user)\n",
    "\n",
    "uk_user = pd.DataFrame([drugs_cat, uk_user_percentage, uk_non_user_percentage], index=[\"Drug\", \"User\", \"Non_user\"]).T"
   ]
  },
  {
   "cell_type": "code",
   "execution_count": 36,
   "metadata": {},
   "outputs": [],
   "source": [
    "drugs_cat = [\"Alcohol_Cat\", \"Amphet_Cat\", \"Amyl_Cat\", \"Benzos_Cat\", \"Caff_Cat\", \"Cannabis_Cat\", \"Choc_Cat\", \"Coke_Cat\", \"Crack_Cat\",\n",
    "        \"Ecstasy_Cat\", \"Heroin_Cat\", \"Ketamine_Cat\", \"Legalh_Cat\", \"LSD_Cat\", \"Meth_Cat\", \"Shrooms_Cat\", \"Nicotine_Cat\", \"VSA_Cat\"]\n",
    "\n",
    "usa_user_percentage = []\n",
    "usa_non_user_percentage = []\n",
    "\n",
    "for element in drugs_cat:\n",
    "    user = df1_usa[element].value_counts(normalize=True).sort_index()[1]\n",
    "    non_user = df1_usa[element].value_counts(normalize=True).sort_index()[0]\n",
    "    usa_user_percentage.append(user)\n",
    "    usa_non_user_percentage.append(non_user)\n",
    "\n",
    "usa_user = pd.DataFrame([drugs_cat, usa_user_percentage, usa_non_user_percentage], index=[\"Drug\", \"User\", \"Non_user\"]).T"
   ]
  },
  {
   "cell_type": "code",
   "execution_count": 37,
   "metadata": {},
   "outputs": [
    {
     "name": "stderr",
     "output_type": "stream",
     "text": [
      "<ipython-input-37-1bb91ad9497f>:12: UserWarning: FixedFormatter should only be used together with FixedLocator\n",
      "  ax1.set_xticklabels(drugs, rotation=90, size = 12)\n",
      "<ipython-input-37-1bb91ad9497f>:20: UserWarning: FixedFormatter should only be used together with FixedLocator\n",
      "  ax2.set_xticklabels(drugs, rotation=90, size = 12)\n"
     ]
    },
    {
     "data": {
      "text/plain": [
       "''"
      ]
     },
     "execution_count": 37,
     "metadata": {},
     "output_type": "execute_result"
    },
    {
     "data": {
      "image/png": "[encoded data removed]",
      "text/plain": [
       "<Figure size 1080x360 with 2 Axes>"
      ]
     },
     "metadata": {},
     "output_type": "display_data"
    }
   ],
   "source": [
    "drugs_cat = [\"Alcohol_Cat\", \"Amphet_Cat\", \"Amyl_Cat\", \"Benzos_Cat\", \"Caff_Cat\", \"Cannabis_Cat\", \"Choc_Cat\", \"Coke_Cat\", \"Crack_Cat\",\n",
    "        \"Ecstasy_Cat\", \"Heroin_Cat\", \"Ketamine_Cat\", \"Legalh_Cat\", \"LSD_Cat\", \"Meth_Cat\", \"Shrooms_Cat\", \"Nicotine_Cat\", \"VSA_Cat\"]\n",
    "\n",
    "drugs = [\"Alcohol\", \"Amphet\", \"Amyl\", \"Benzos\", \"Caff\", \"Cannabis\", \"Choc\", \"Coke\", \"Crack\",\n",
    "        \"Ecstasy\", \"Heroin\", \"Ketamine\", \"Legalh\", \"LSD\", \"Meth\", \"Shrooms\", \"Nicotine\", \"VSA\"]\n",
    "\n",
    "f, (ax1, ax2) = plt.subplots(1, 2, sharey=True, figsize=(15, 5))\n",
    "\n",
    "ax1.bar(uk_user[\"Drug\"], uk_user[\"User\"], color='firebrick', edgecolor='white')\n",
    "ax1.bar(uk_user[\"Drug\"], uk_user[\"Non_user\"], bottom=uk_user[\"User\"], color='darkgreen', edgecolor='white')\n",
    "ax1.set_title('UK Drug Usage', size = 20)\n",
    "ax1.set_xticklabels(drugs, rotation=90, size = 12)\n",
    "ax1.set_xlabel(\"Drugs\",size=16)\n",
    "ax1.set_ylabel(\"Percentage\",size=16)\n",
    ";\n",
    "\n",
    "ax2.bar(usa_user[\"Drug\"], usa_user[\"User\"], color='firebrick', edgecolor='white')\n",
    "ax2.bar(usa_user[\"Drug\"], usa_user[\"Non_user\"], bottom=usa_user[\"User\"], color='darkgreen', edgecolor='white')\n",
    "ax2.set_title('USA Drug Usage', size = 20)\n",
    "ax2.set_xticklabels(drugs, rotation=90, size = 12)\n",
    "ax2.set_xlabel(\"Drugs\",size=16)\n",
    "ax2.set_ylabel(\"Percentage\",size=16)\n",
    ";"
   ]
  },
  {
   "cell_type": "markdown",
   "metadata": {},
   "source": [
    "## Distribution of personality traits depending on drug use"
   ]
  },
  {
   "cell_type": "code",
   "execution_count": 38,
   "metadata": {},
   "outputs": [],
   "source": [
    "custom_palette_drugs = [\"darkgreen\", \"firebrick\"]"
   ]
  },
  {
   "cell_type": "markdown",
   "metadata": {},
   "source": [
    "### Distribution of Nscores - Neuroticism"
   ]
  },
  {
   "cell_type": "markdown",
   "metadata": {},
   "source": [
    "Neuroticism is a long-term tendancy to experience negative emotions such as nervousness, tension, anxiety and depression.  \n",
    "A high N score is also associared with many other addictions like Internet addiction, exercise addiction, compuslive buying, and study addiction."
   ]
  },
  {
   "cell_type": "code",
   "execution_count": 39,
   "metadata": {},
   "outputs": [
    {
     "data": {
      "text/plain": [
       "<AxesSubplot:xlabel='Group3_drugs', ylabel='Nscore'>"
      ]
     },
     "execution_count": 39,
     "metadata": {},
     "output_type": "execute_result"
    },
    {
     "data": {
      "image/png": "[encoded data removed]",
      "text/plain": [
       "<Figure size 1080x360 with 3 Axes>"
      ]
     },
     "metadata": {},
     "output_type": "display_data"
    }
   ],
   "source": [
    "f, axes = plt.subplots(1,3, figsize=(15,5))\n",
    "sns.set_palette(custom_palette_drugs)\n",
    "\n",
    "sns.boxplot(y=\"Nscore\", x=\"Group1_drugs\" , data=df2, ax=axes[0])\n",
    "sns.boxplot(y=\"Nscore\", x=\"Group2_drugs\" , data=df2, ax=axes[1])\n",
    "sns.boxplot(y=\"Nscore\", x=\"Group3_drugs\" , data=df2, ax=axes[2])"
   ]
  },
  {
   "cell_type": "markdown",
   "metadata": {},
   "source": [
    "### Distribution of Escores - Extraversion"
   ]
  },
  {
   "cell_type": "markdown",
   "metadata": {},
   "source": [
    "Extraversion is manifested in outgoing, warm, active, assertive, talkative, cheerful and in search of stimulation characteristics."
   ]
  },
  {
   "cell_type": "code",
   "execution_count": 40,
   "metadata": {},
   "outputs": [
    {
     "data": {
      "text/plain": [
       "<AxesSubplot:xlabel='Group3_drugs', ylabel='Escore'>"
      ]
     },
     "execution_count": 40,
     "metadata": {},
     "output_type": "execute_result"
    },
    {
     "data": {
      "image/png": "[encoded data removed]",
      "text/plain": [
       "<Figure size 1080x360 with 3 Axes>"
      ]
     },
     "metadata": {},
     "output_type": "display_data"
    }
   ],
   "source": [
    "f, axes = plt.subplots(1,3, figsize=(15,5))\n",
    "sns.set_palette(custom_palette_drugs)\n",
    "\n",
    "sns.boxplot(y=\"Escore\", x=\"Group1_drugs\" , data=df2, ax=axes[0])\n",
    "sns.boxplot(y=\"Escore\", x=\"Group2_drugs\" , data=df2, ax=axes[1])\n",
    "sns.boxplot(y=\"Escore\", x=\"Group3_drugs\" , data=df2, ax=axes[2])"
   ]
  },
  {
   "cell_type": "markdown",
   "metadata": {},
   "source": [
    "### Distribution of Oscores - Openess to Experience"
   ]
  },
  {
   "cell_type": "markdown",
   "metadata": {},
   "source": [
    "Openess to experience is a general appreciation for art, unusual ideas, and imaginative, ereative, unconventional and wide interests."
   ]
  },
  {
   "cell_type": "code",
   "execution_count": 41,
   "metadata": {},
   "outputs": [
    {
     "data": {
      "text/plain": [
       "<AxesSubplot:xlabel='Group3_drugs', ylabel='Oscore'>"
      ]
     },
     "execution_count": 41,
     "metadata": {},
     "output_type": "execute_result"
    },
    {
     "data": {
      "image/png": "[encoded data removed]",
      "text/plain": [
       "<Figure size 1080x360 with 3 Axes>"
      ]
     },
     "metadata": {},
     "output_type": "display_data"
    }
   ],
   "source": [
    "f, axes = plt.subplots(1,3, figsize=(15,5))\n",
    "sns.set_palette(custom_palette_drugs)\n",
    "\n",
    "sns.boxplot(y=\"Oscore\", x=\"Group1_drugs\" , data=df2, ax=axes[0])\n",
    "sns.boxplot(y=\"Oscore\", x=\"Group2_drugs\" , data=df2, ax=axes[1])\n",
    "sns.boxplot(y=\"Oscore\", x=\"Group3_drugs\" , data=df2, ax=axes[2])"
   ]
  },
  {
   "cell_type": "markdown",
   "metadata": {},
   "source": [
    "### Distribution of Ascores - Agreeableness"
   ]
  },
  {
   "cell_type": "markdown",
   "metadata": {},
   "source": [
    "Agreeableness is a dimension of interpersonal relations, characterized by altriusm, trust, modesty, kindness, compassion and cooperativeness."
   ]
  },
  {
   "cell_type": "code",
   "execution_count": 42,
   "metadata": {},
   "outputs": [
    {
     "data": {
      "text/plain": [
       "<AxesSubplot:xlabel='Group3_drugs', ylabel='Ascore'>"
      ]
     },
     "execution_count": 42,
     "metadata": {},
     "output_type": "execute_result"
    },
    {
     "data": {
      "image/png": "[encoded data removed]",
      "text/plain": [
       "<Figure size 1080x360 with 3 Axes>"
      ]
     },
     "metadata": {},
     "output_type": "display_data"
    }
   ],
   "source": [
    "f, axes = plt.subplots(1,3, figsize=(15,5))\n",
    "sns.set_palette(custom_palette_drugs)\n",
    "\n",
    "sns.boxplot(y=\"Ascore\", x=\"Group1_drugs\" , data=df2, ax=axes[0])\n",
    "sns.boxplot(y=\"Ascore\", x=\"Group2_drugs\" , data=df2, ax=axes[1])\n",
    "sns.boxplot(y=\"Ascore\", x=\"Group3_drugs\" , data=df2, ax=axes[2])"
   ]
  },
  {
   "cell_type": "markdown",
   "metadata": {},
   "source": [
    "### Distribution of Cscores - Conscientiousness"
   ]
  },
  {
   "cell_type": "markdown",
   "metadata": {},
   "source": [
    "Conscientiousness is a tendancy to be organised and dependable, strong-willing, persistentm reliable and efficient."
   ]
  },
  {
   "cell_type": "code",
   "execution_count": 43,
   "metadata": {},
   "outputs": [
    {
     "data": {
      "text/plain": [
       "<AxesSubplot:xlabel='Group3_drugs', ylabel='Cscore'>"
      ]
     },
     "execution_count": 43,
     "metadata": {},
     "output_type": "execute_result"
    },
    {
     "data": {
      "image/png": "[encoded data removed]",
      "text/plain": [
       "<Figure size 1080x504 with 3 Axes>"
      ]
     },
     "metadata": {},
     "output_type": "display_data"
    }
   ],
   "source": [
    "f, axes = plt.subplots(1,3, figsize=(15,7))\n",
    "sns.set_palette(custom_palette_drugs)\n",
    "\n",
    "sns.boxplot(y=\"Cscore\", x=\"Group1_drugs\" , data=df2, ax=axes[0])\n",
    "sns.boxplot(y=\"Cscore\", x=\"Group2_drugs\" , data=df2, ax=axes[1])\n",
    "sns.boxplot(y=\"Cscore\", x=\"Group3_drugs\" , data=df2, ax=axes[2])"
   ]
  },
  {
   "cell_type": "markdown",
   "metadata": {},
   "source": [
    "### Distribution of Impulsiveness "
   ]
  },
  {
   "cell_type": "markdown",
   "metadata": {},
   "source": [
    "Impulsiveness was measured using the Barratt Impulsiveness Scale (BIS-11), which measures the behavioural contruct of implusiveness, and comprises thmree subscales: motor impulsiveness, attentional impulsiveness, and non-planning. The ‘motor’ aspect reflects acting without thinking, the ‘attentional’ component poor concentration and thought intrusions, and the ‘non-planning’ a lack of consideration for consequences. "
   ]
  },
  {
   "cell_type": "code",
   "execution_count": 44,
   "metadata": {},
   "outputs": [
    {
     "data": {
      "text/plain": [
       "<AxesSubplot:xlabel='Group3_drugs', ylabel='Impulsive'>"
      ]
     },
     "execution_count": 44,
     "metadata": {},
     "output_type": "execute_result"
    },
    {
     "data": {
      "image/png": "[encoded data removed]",
      "text/plain": [
       "<Figure size 1080x360 with 3 Axes>"
      ]
     },
     "metadata": {},
     "output_type": "display_data"
    }
   ],
   "source": [
    "f, axes = plt.subplots(1,3, figsize=(15,5))\n",
    "sns.set_palette(custom_palette_drugs)\n",
    "\n",
    "sns.boxplot(y=\"Impulsive\", x=\"Group1_drugs\" , data=df2, ax=axes[0])\n",
    "sns.boxplot(y=\"Impulsive\", x=\"Group2_drugs\" , data=df2, ax=axes[1])\n",
    "sns.boxplot(y=\"Impulsive\", x=\"Group3_drugs\" , data=df2, ax=axes[2])"
   ]
  },
  {
   "cell_type": "markdown",
   "metadata": {},
   "source": [
    "### Distribution of Sensation seeking"
   ]
  },
  {
   "cell_type": "markdown",
   "metadata": {},
   "source": [
    "Sensation seeking was measured using the impulsivity Sensation-Seeking scale (ImpSS). The ImpSS combines the traits of impulsivity and sensation-seeking, it is regarded as a measure of a general sensation-seeking trait. It is considered a valid\n",
    "and reliable measure of high risk behavioural correlates such as, substance misuse."
   ]
  },
  {
   "cell_type": "code",
   "execution_count": 45,
   "metadata": {},
   "outputs": [
    {
     "data": {
      "text/plain": [
       "<AxesSubplot:xlabel='Group3_drugs', ylabel='SS'>"
      ]
     },
     "execution_count": 45,
     "metadata": {},
     "output_type": "execute_result"
    },
    {
     "data": {
      "image/png": "[encoded data removed]",
      "text/plain": [
       "<Figure size 1080x360 with 3 Axes>"
      ]
     },
     "metadata": {},
     "output_type": "display_data"
    }
   ],
   "source": [
    "f, axes = plt.subplots(1,3, figsize=(15,5))\n",
    "sns.set_palette(custom_palette_drugs)\n",
    "\n",
    "sns.boxplot(y=\"SS\", x=\"Group1_drugs\" , data=df2, ax=axes[0])\n",
    "sns.boxplot(y=\"SS\", x=\"Group2_drugs\" , data=df2, ax=axes[1])\n",
    "sns.boxplot(y=\"SS\", x=\"Group3_drugs\" , data=df2, ax=axes[2])"
   ]
  },
  {
   "cell_type": "markdown",
   "metadata": {},
   "source": [
    "### Personality traits Group 2 drugs for presentation"
   ]
  },
  {
   "cell_type": "code",
   "execution_count": 46,
   "metadata": {},
   "outputs": [
    {
     "data": {
      "text/plain": [
       "[(-3.8, 3.8)]"
      ]
     },
     "execution_count": 46,
     "metadata": {},
     "output_type": "execute_result"
    },
    {
     "data": {
      "image/png": "[encoded data removed]",
      "text/plain": [
       "<Figure size 1080x1080 with 9 Axes>"
      ]
     },
     "metadata": {},
     "output_type": "display_data"
    }
   ],
   "source": [
    "f, axes = plt.subplots(3,3, figsize=(15,15))\n",
    "sns.set_palette(custom_palette_drugs) \n",
    "\n",
    "N = sns.boxplot(y=\"Nscore\", x=\"Group2_drugs\" , data=df2, ax=axes[0][0])\n",
    "N.set_xlabel(\"\")\n",
    "N.set_ylabel(\"\")\n",
    "N.set_title(\"Neuroticism\", size=14)\n",
    "N.set(ylim=(-3.8, 3.8))\n",
    "\n",
    "O = sns.boxplot(y=\"Oscore\", x=\"Group2_drugs\" , data=df2, ax=axes[0][2])\n",
    "O.set_xlabel(\"\")\n",
    "O.set_ylabel(\"\")\n",
    "O.set_title(\" Openness to experience\", size=14)\n",
    "O.set(ylim=(-3.8, 3.8))\n",
    "\n",
    "A = sns.boxplot(y=\"Ascore\", x=\"Group2_drugs\" , data=df2, ax=axes[1][0])\n",
    "A.set_xlabel(\"\")\n",
    "A.set_ylabel(\"\")\n",
    "A.set_title(\"Agreeableness\", size=14)\n",
    "A.set(ylim=(-3.8, 3.8))\n",
    "\n",
    "C = sns.boxplot(y=\"Cscore\", x=\"Group2_drugs\" , data=df2, ax=axes[1][1])\n",
    "C.set_xlabel(\"\")\n",
    "C.set_ylabel(\"\")\n",
    "C.set_title(\"Conscientiousness\", size=14)\n",
    "C.set(ylim=(-3.8, 3.8))\n",
    "\n",
    "Imp = sns.boxplot(y=\"Impulsive\", x=\"Group2_drugs\" , data=df2, ax=axes[1][2])\n",
    "Imp.set_xlabel(\"\")\n",
    "Imp.set_ylabel(\"\")\n",
    "Imp.set_title(\"Impulsive\", size=14)\n",
    "Imp.set(ylim=(-3.8, 3.8))\n",
    "\n",
    "SS = sns.boxplot(y=\"SS\", x=\"Group2_drugs\" , data=df2, ax=axes[2][0])\n",
    "SS.set_xlabel(\"\")\n",
    "SS.set_ylabel(\"\")\n",
    "SS.set_title(\"Sensation seeking\", size=14)\n",
    "SS.set(ylim=(-3.8, 3.8))"
   ]
  },
  {
   "cell_type": "markdown",
   "metadata": {},
   "source": [
    "All boxplots for party drugs"
   ]
  },
  {
   "cell_type": "markdown",
   "metadata": {},
   "source": [
    "Just party drugs boxplots of interest for presentation "
   ]
  },
  {
   "cell_type": "code",
   "execution_count": 47,
   "metadata": {},
   "outputs": [
    {
     "data": {
      "text/plain": [
       "[(-3.8, 3.8)]"
      ]
     },
     "execution_count": 47,
     "metadata": {},
     "output_type": "execute_result"
    },
    {
     "data": {
      "image/png": "[encoded data removed]",
      "text/plain": [
       "<Figure size 1440x360 with 4 Axes>"
      ]
     },
     "metadata": {},
     "output_type": "display_data"
    }
   ],
   "source": [
    "f, axes = plt.subplots(1,4, figsize=(20,5))\n",
    "sns.set_palette(custom_palette_drugs) \n",
    "\n",
    "N = sns.boxplot(y=\"Nscore\", x=\"Group2_drugs\" , data=df2, ax=axes[0])\n",
    "N.set_xlabel(\"\")\n",
    "N.set_ylabel(\"\")\n",
    "N.set_title(\"Neuroticism\", size=14)\n",
    "N.set(ylim=(-3.8, 3.8))\n",
    "\n",
    "O = sns.boxplot(y=\"Oscore\", x=\"Group2_drugs\" , data=df2, ax=axes[1])\n",
    "O.set_xlabel(\"\")\n",
    "O.set_ylabel(\"\")\n",
    "O.set_title(\" Openness to experience\", size=14)\n",
    "O.set(ylim=(-3.8, 3.8))\n",
    "\n",
    "C = sns.boxplot(y=\"Cscore\", x=\"Group2_drugs\" , data=df2, ax=axes[2])\n",
    "C.set_xlabel(\"\")\n",
    "C.set_ylabel(\"\")\n",
    "C.set_title(\"Conscientiousness\", size=14)\n",
    "C.set(ylim=(-3.8, 3.8))\n",
    "\n",
    "SS = sns.boxplot(y=\"SS\", x=\"Group2_drugs\" , data=df2, ax=axes[3])\n",
    "SS.set_xlabel(\"\")\n",
    "SS.set_ylabel(\"\")\n",
    "SS.set_title(\"Sensation seeking\", size=14)\n",
    "SS.set(ylim=(-3.8, 3.8))"
   ]
  },
  {
   "cell_type": "markdown",
   "metadata": {},
   "source": [
    "## Level of Further Education"
   ]
  },
  {
   "cell_type": "code",
   "execution_count": 48,
   "metadata": {},
   "outputs": [
    {
     "data": {
      "text/html": [
       "<div>\n",
       "<style scoped>\n",
       "    .dataframe tbody tr th:only-of-type {\n",
       "        vertical-align: middle;\n",
       "    }\n",
       "\n",
       "    .dataframe tbody tr th {\n",
       "        vertical-align: top;\n",
       "    }\n",
       "\n",
       "    .dataframe thead th {\n",
       "        text-align: right;\n",
       "    }\n",
       "</style>\n",
       "<table border=\"1\" class=\"dataframe\">\n",
       "  <thead>\n",
       "    <tr style=\"text-align: right;\">\n",
       "      <th></th>\n",
       "      <th>ID</th>\n",
       "      <th>Age</th>\n",
       "      <th>Age_Cat</th>\n",
       "      <th>Gender</th>\n",
       "      <th>Education</th>\n",
       "      <th>Education_Level</th>\n",
       "      <th>Country</th>\n",
       "      <th>Country_Name</th>\n",
       "      <th>Ethnicity</th>\n",
       "      <th>Ethnicity_Label</th>\n",
       "      <th>Nscore</th>\n",
       "      <th>Escore</th>\n",
       "      <th>Oscore</th>\n",
       "      <th>Ascore</th>\n",
       "      <th>Cscore</th>\n",
       "      <th>Impulsive</th>\n",
       "      <th>SS</th>\n",
       "      <th>Group1_drugs</th>\n",
       "      <th>Group2_drugs</th>\n",
       "      <th>Group3_drugs</th>\n",
       "    </tr>\n",
       "  </thead>\n",
       "  <tbody>\n",
       "    <tr>\n",
       "      <th>0</th>\n",
       "      <td>1</td>\n",
       "      <td>0.49788</td>\n",
       "      <td>35-44</td>\n",
       "      <td>1</td>\n",
       "      <td>-0.05921</td>\n",
       "      <td>Cert./Diploma</td>\n",
       "      <td>0.96082</td>\n",
       "      <td>UK</td>\n",
       "      <td>0.12600</td>\n",
       "      <td>Mixed-White/Asian</td>\n",
       "      <td>0.31287</td>\n",
       "      <td>-0.57545</td>\n",
       "      <td>-0.58331</td>\n",
       "      <td>-0.91699</td>\n",
       "      <td>-0.00665</td>\n",
       "      <td>-0.21712</td>\n",
       "      <td>-1.18084</td>\n",
       "      <td>1</td>\n",
       "      <td>1</td>\n",
       "      <td>0</td>\n",
       "    </tr>\n",
       "    <tr>\n",
       "      <th>1</th>\n",
       "      <td>2</td>\n",
       "      <td>-0.07854</td>\n",
       "      <td>25-34</td>\n",
       "      <td>0</td>\n",
       "      <td>1.98437</td>\n",
       "      <td>PhD</td>\n",
       "      <td>0.96082</td>\n",
       "      <td>UK</td>\n",
       "      <td>-0.31685</td>\n",
       "      <td>White</td>\n",
       "      <td>-0.67825</td>\n",
       "      <td>1.93886</td>\n",
       "      <td>1.43533</td>\n",
       "      <td>0.76096</td>\n",
       "      <td>-0.14277</td>\n",
       "      <td>-0.71126</td>\n",
       "      <td>-0.21575</td>\n",
       "      <td>1</td>\n",
       "      <td>1</td>\n",
       "      <td>1</td>\n",
       "    </tr>\n",
       "    <tr>\n",
       "      <th>2</th>\n",
       "      <td>3</td>\n",
       "      <td>0.49788</td>\n",
       "      <td>35-44</td>\n",
       "      <td>0</td>\n",
       "      <td>-0.05921</td>\n",
       "      <td>Cert./Diploma</td>\n",
       "      <td>0.96082</td>\n",
       "      <td>UK</td>\n",
       "      <td>-0.31685</td>\n",
       "      <td>White</td>\n",
       "      <td>-0.46725</td>\n",
       "      <td>0.80523</td>\n",
       "      <td>-0.84732</td>\n",
       "      <td>-1.62090</td>\n",
       "      <td>-1.01450</td>\n",
       "      <td>-1.37983</td>\n",
       "      <td>0.40148</td>\n",
       "      <td>1</td>\n",
       "      <td>0</td>\n",
       "      <td>0</td>\n",
       "    </tr>\n",
       "    <tr>\n",
       "      <th>3</th>\n",
       "      <td>4</td>\n",
       "      <td>-0.95197</td>\n",
       "      <td>18-24</td>\n",
       "      <td>1</td>\n",
       "      <td>1.16365</td>\n",
       "      <td>Master</td>\n",
       "      <td>0.96082</td>\n",
       "      <td>UK</td>\n",
       "      <td>-0.31685</td>\n",
       "      <td>White</td>\n",
       "      <td>-0.14882</td>\n",
       "      <td>-0.80615</td>\n",
       "      <td>-0.01928</td>\n",
       "      <td>0.59042</td>\n",
       "      <td>0.58489</td>\n",
       "      <td>-1.37983</td>\n",
       "      <td>-1.18084</td>\n",
       "      <td>1</td>\n",
       "      <td>1</td>\n",
       "      <td>1</td>\n",
       "    </tr>\n",
       "    <tr>\n",
       "      <th>4</th>\n",
       "      <td>5</td>\n",
       "      <td>0.49788</td>\n",
       "      <td>35-44</td>\n",
       "      <td>1</td>\n",
       "      <td>1.98437</td>\n",
       "      <td>PhD</td>\n",
       "      <td>0.96082</td>\n",
       "      <td>UK</td>\n",
       "      <td>-0.31685</td>\n",
       "      <td>White</td>\n",
       "      <td>0.73545</td>\n",
       "      <td>-1.63340</td>\n",
       "      <td>-0.45174</td>\n",
       "      <td>-0.30172</td>\n",
       "      <td>1.30612</td>\n",
       "      <td>-0.21712</td>\n",
       "      <td>-0.21575</td>\n",
       "      <td>1</td>\n",
       "      <td>1</td>\n",
       "      <td>0</td>\n",
       "    </tr>\n",
       "  </tbody>\n",
       "</table>\n",
       "</div>"
      ],
      "text/plain": [
       "   ID      Age Age_Cat Gender  Education Education_Level  Country  \\\n",
       "0   1  0.49788   35-44      1   -0.05921   Cert./Diploma  0.96082   \n",
       "1   2 -0.07854   25-34      0    1.98437             PhD  0.96082   \n",
       "2   3  0.49788   35-44      0   -0.05921   Cert./Diploma  0.96082   \n",
       "3   4 -0.95197   18-24      1    1.16365          Master  0.96082   \n",
       "4   5  0.49788   35-44      1    1.98437             PhD  0.96082   \n",
       "\n",
       "  Country_Name  Ethnicity    Ethnicity_Label   Nscore   Escore   Oscore  \\\n",
       "0           UK    0.12600  Mixed-White/Asian  0.31287 -0.57545 -0.58331   \n",
       "1           UK   -0.31685              White -0.67825  1.93886  1.43533   \n",
       "2           UK   -0.31685              White -0.46725  0.80523 -0.84732   \n",
       "3           UK   -0.31685              White -0.14882 -0.80615 -0.01928   \n",
       "4           UK   -0.31685              White  0.73545 -1.63340 -0.45174   \n",
       "\n",
       "    Ascore   Cscore  Impulsive       SS  Group1_drugs  Group2_drugs  \\\n",
       "0 -0.91699 -0.00665   -0.21712 -1.18084             1             1   \n",
       "1  0.76096 -0.14277   -0.71126 -0.21575             1             1   \n",
       "2 -1.62090 -1.01450   -1.37983  0.40148             1             0   \n",
       "3  0.59042  0.58489   -1.37983 -1.18084             1             1   \n",
       "4 -0.30172  1.30612   -0.21712 -0.21575             1             1   \n",
       "\n",
       "   Group3_drugs  \n",
       "0             0  \n",
       "1             1  \n",
       "2             0  \n",
       "3             1  \n",
       "4             0  "
      ]
     },
     "execution_count": 48,
     "metadata": {},
     "output_type": "execute_result"
    }
   ],
   "source": [
    "df2.head()"
   ]
  },
  {
   "cell_type": "code",
   "execution_count": 58,
   "metadata": {},
   "outputs": [
    {
     "data": {
      "text/plain": [
       "Text(0, 0.5, 'Count')"
      ]
     },
     "execution_count": 58,
     "metadata": {},
     "output_type": "execute_result"
    },
    {
     "data": {
      "image/png": "[encoded data removed]",
      "text/plain": [
       "<Figure size 432x288 with 1 Axes>"
      ]
     },
     "metadata": {},
     "output_type": "display_data"
    }
   ],
   "source": [
    "\n",
    "#sns.set_palette(custom_palette_gender)\n",
    "\n",
    "edu_order = [\"under 16y\", \"16y\", \"17y\", '18y', 'College/Uni', 'Cert./Diploma', 'Uni Degree', 'Master', 'PhD']\n",
    "\n",
    "drug_hue = (\"Group1_drugs\", \"Group2_drugs\", \"Group3_drugs\")\n",
    "g = sns.countplot(data=df2, x=\"Education_Level\", order = edu_order)\n",
    "g.set_xticklabels(edu_order, rotation=60, size = 14)\n",
    "g.set_xlabel(\"Education Level\",size=16)\n",
    "g.set_ylabel(\"Count\",size=16)"
   ]
  },
  {
   "cell_type": "code",
   "execution_count": null,
   "metadata": {},
   "outputs": [],
   "source": []
  }
 ],
 "metadata": {
  "kernelspec": {
   "display_name": "Python 3",
   "language": "python",
   "name": "python3"
  },
  "language_info": {
   "codemirror_mode": {
    "name": "ipython",
    "version": 3
   },
   "file_extension": ".py",
   "mimetype": "text/x-python",
   "name": "python",
   "nbconvert_exporter": "python",
   "pygments_lexer": "ipython3",
   "version": "3.8.5"
  }
 },
 "nbformat": 4,
 "nbformat_minor": 4
}
