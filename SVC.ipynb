{
 "cells": [
  {
   "cell_type": "code",
   "execution_count": 1,
   "metadata": {},
   "outputs": [],
   "source": [
    "import numpy as np\n",
    "import pandas as pd\n",
    "from time import time\n",
    "from IPython.display import display\n",
    "import visuals as vs\n",
    "import matplotlib.pyplot as plt\n",
    "import matplotlib.image as mpimg\n",
    "import itertools\n",
    "from sklearn.svm import SVC\n",
    "from sklearn.metrics import classification_report, confusion_matrix\n",
    "from sklearn.metrics import fbeta_score, accuracy_score\n",
    "from imblearn.over_sampling import RandomOverSampler\n",
    "\n",
    "\n",
    "pd.set_option('display.max_columns', None) # To display all columns\n",
    "\n",
    "\n",
    "import seaborn as sns\n",
    "sns.set_style(\"whitegrid\")\n",
    "\n",
    "from scipy import stats\n",
    "from sklearn.model_selection import train_test_split\n",
    "from sklearn.metrics import mean_squared_error\n",
    "from math import sqrt"
   ]
  },
  {
   "cell_type": "code",
   "execution_count": 2,
   "metadata": {},
   "outputs": [
    {
     "data": {
      "text/html": [
       "<div>\n",
       "<style scoped>\n",
       "    .dataframe tbody tr th:only-of-type {\n",
       "        vertical-align: middle;\n",
       "    }\n",
       "\n",
       "    .dataframe tbody tr th {\n",
       "        vertical-align: top;\n",
       "    }\n",
       "\n",
       "    .dataframe thead th {\n",
       "        text-align: right;\n",
       "    }\n",
       "</style>\n",
       "<table border=\"1\" class=\"dataframe\">\n",
       "  <thead>\n",
       "    <tr style=\"text-align: right;\">\n",
       "      <th></th>\n",
       "      <th>Unnamed: 0</th>\n",
       "      <th>ID</th>\n",
       "      <th>Age</th>\n",
       "      <th>Age_Cat</th>\n",
       "      <th>Gender</th>\n",
       "      <th>Education</th>\n",
       "      <th>Education_Level</th>\n",
       "      <th>Country</th>\n",
       "      <th>Country_Name</th>\n",
       "      <th>Ethnicity</th>\n",
       "      <th>Ethnicity_Label</th>\n",
       "      <th>Nscore</th>\n",
       "      <th>Escore</th>\n",
       "      <th>Oscore</th>\n",
       "      <th>Ascore</th>\n",
       "      <th>Cscore</th>\n",
       "      <th>Impulsive</th>\n",
       "      <th>SS</th>\n",
       "      <th>Social_Drugs</th>\n",
       "      <th>Party_Drugs</th>\n",
       "      <th>Hard_Drugs</th>\n",
       "    </tr>\n",
       "  </thead>\n",
       "  <tbody>\n",
       "    <tr>\n",
       "      <th>0</th>\n",
       "      <td>0</td>\n",
       "      <td>1</td>\n",
       "      <td>0.49788</td>\n",
       "      <td>35-44</td>\n",
       "      <td>1</td>\n",
       "      <td>-0.05921</td>\n",
       "      <td>Cert./Diploma</td>\n",
       "      <td>0.96082</td>\n",
       "      <td>UK</td>\n",
       "      <td>0.12600</td>\n",
       "      <td>Mixed-White/Asian</td>\n",
       "      <td>0.31287</td>\n",
       "      <td>-0.57545</td>\n",
       "      <td>-0.58331</td>\n",
       "      <td>-0.91699</td>\n",
       "      <td>-0.00665</td>\n",
       "      <td>-0.21712</td>\n",
       "      <td>-1.18084</td>\n",
       "      <td>1</td>\n",
       "      <td>1</td>\n",
       "      <td>0</td>\n",
       "    </tr>\n",
       "    <tr>\n",
       "      <th>1</th>\n",
       "      <td>1</td>\n",
       "      <td>2</td>\n",
       "      <td>-0.07854</td>\n",
       "      <td>25-34</td>\n",
       "      <td>0</td>\n",
       "      <td>1.98437</td>\n",
       "      <td>PhD</td>\n",
       "      <td>0.96082</td>\n",
       "      <td>UK</td>\n",
       "      <td>-0.31685</td>\n",
       "      <td>White</td>\n",
       "      <td>-0.67825</td>\n",
       "      <td>1.93886</td>\n",
       "      <td>1.43533</td>\n",
       "      <td>0.76096</td>\n",
       "      <td>-0.14277</td>\n",
       "      <td>-0.71126</td>\n",
       "      <td>-0.21575</td>\n",
       "      <td>1</td>\n",
       "      <td>1</td>\n",
       "      <td>1</td>\n",
       "    </tr>\n",
       "    <tr>\n",
       "      <th>2</th>\n",
       "      <td>2</td>\n",
       "      <td>3</td>\n",
       "      <td>0.49788</td>\n",
       "      <td>35-44</td>\n",
       "      <td>0</td>\n",
       "      <td>-0.05921</td>\n",
       "      <td>Cert./Diploma</td>\n",
       "      <td>0.96082</td>\n",
       "      <td>UK</td>\n",
       "      <td>-0.31685</td>\n",
       "      <td>White</td>\n",
       "      <td>-0.46725</td>\n",
       "      <td>0.80523</td>\n",
       "      <td>-0.84732</td>\n",
       "      <td>-1.62090</td>\n",
       "      <td>-1.01450</td>\n",
       "      <td>-1.37983</td>\n",
       "      <td>0.40148</td>\n",
       "      <td>1</td>\n",
       "      <td>0</td>\n",
       "      <td>0</td>\n",
       "    </tr>\n",
       "    <tr>\n",
       "      <th>3</th>\n",
       "      <td>3</td>\n",
       "      <td>4</td>\n",
       "      <td>-0.95197</td>\n",
       "      <td>18-24</td>\n",
       "      <td>1</td>\n",
       "      <td>1.16365</td>\n",
       "      <td>Master</td>\n",
       "      <td>0.96082</td>\n",
       "      <td>UK</td>\n",
       "      <td>-0.31685</td>\n",
       "      <td>White</td>\n",
       "      <td>-0.14882</td>\n",
       "      <td>-0.80615</td>\n",
       "      <td>-0.01928</td>\n",
       "      <td>0.59042</td>\n",
       "      <td>0.58489</td>\n",
       "      <td>-1.37983</td>\n",
       "      <td>-1.18084</td>\n",
       "      <td>1</td>\n",
       "      <td>1</td>\n",
       "      <td>1</td>\n",
       "    </tr>\n",
       "    <tr>\n",
       "      <th>4</th>\n",
       "      <td>4</td>\n",
       "      <td>5</td>\n",
       "      <td>0.49788</td>\n",
       "      <td>35-44</td>\n",
       "      <td>1</td>\n",
       "      <td>1.98437</td>\n",
       "      <td>PhD</td>\n",
       "      <td>0.96082</td>\n",
       "      <td>UK</td>\n",
       "      <td>-0.31685</td>\n",
       "      <td>White</td>\n",
       "      <td>0.73545</td>\n",
       "      <td>-1.63340</td>\n",
       "      <td>-0.45174</td>\n",
       "      <td>-0.30172</td>\n",
       "      <td>1.30612</td>\n",
       "      <td>-0.21712</td>\n",
       "      <td>-0.21575</td>\n",
       "      <td>1</td>\n",
       "      <td>1</td>\n",
       "      <td>0</td>\n",
       "    </tr>\n",
       "  </tbody>\n",
       "</table>\n",
       "</div>"
      ],
      "text/plain": [
       "   Unnamed: 0  ID      Age Age_Cat  Gender  Education Education_Level  \\\n",
       "0           0   1  0.49788   35-44       1   -0.05921   Cert./Diploma   \n",
       "1           1   2 -0.07854   25-34       0    1.98437             PhD   \n",
       "2           2   3  0.49788   35-44       0   -0.05921   Cert./Diploma   \n",
       "3           3   4 -0.95197   18-24       1    1.16365          Master   \n",
       "4           4   5  0.49788   35-44       1    1.98437             PhD   \n",
       "\n",
       "   Country Country_Name  Ethnicity    Ethnicity_Label   Nscore   Escore  \\\n",
       "0  0.96082           UK    0.12600  Mixed-White/Asian  0.31287 -0.57545   \n",
       "1  0.96082           UK   -0.31685              White -0.67825  1.93886   \n",
       "2  0.96082           UK   -0.31685              White -0.46725  0.80523   \n",
       "3  0.96082           UK   -0.31685              White -0.14882 -0.80615   \n",
       "4  0.96082           UK   -0.31685              White  0.73545 -1.63340   \n",
       "\n",
       "    Oscore   Ascore   Cscore  Impulsive       SS  Social_Drugs  Party_Drugs  \\\n",
       "0 -0.58331 -0.91699 -0.00665   -0.21712 -1.18084             1            1   \n",
       "1  1.43533  0.76096 -0.14277   -0.71126 -0.21575             1            1   \n",
       "2 -0.84732 -1.62090 -1.01450   -1.37983  0.40148             1            0   \n",
       "3 -0.01928  0.59042  0.58489   -1.37983 -1.18084             1            1   \n",
       "4 -0.45174 -0.30172  1.30612   -0.21712 -0.21575             1            1   \n",
       "\n",
       "   Hard_Drugs  \n",
       "0           0  \n",
       "1           1  \n",
       "2           0  \n",
       "3           1  \n",
       "4           0  "
      ]
     },
     "execution_count": 2,
     "metadata": {},
     "output_type": "execute_result"
    }
   ],
   "source": [
    "wf = pd.read_csv('data/drug_workfile')\n",
    "wf.head()"
   ]
  },
  {
   "cell_type": "code",
   "execution_count": 3,
   "metadata": {},
   "outputs": [],
   "source": [
    "X = wf[['Age', 'Gender', 'Education', 'Country', 'Ethnicity', 'Nscore', 'Escore', 'Oscore', 'Ascore', 'Cscore', 'Impulsive', 'SS']]\n",
    "y = wf['Party_Drugs']"
   ]
  },
  {
   "cell_type": "markdown",
   "metadata": {},
   "source": [
    "#### Train-Test-Split"
   ]
  },
  {
   "cell_type": "code",
   "execution_count": 4,
   "metadata": {},
   "outputs": [],
   "source": [
    "# Import train_test_split\n",
    "from sklearn.model_selection import train_test_split\n",
    "\n",
    "# Split the 'features' and 'income' data into training and testing sets\n",
    "X_train, X_test, y_train, y_test = train_test_split(X, y, test_size = 0.3, random_state = 0, stratify = y) "
   ]
  },
  {
   "cell_type": "markdown",
   "metadata": {},
   "source": [
    "#### Random Oversampling"
   ]
  },
  {
   "cell_type": "code",
   "execution_count": 5,
   "metadata": {},
   "outputs": [
    {
     "name": "stdout",
     "output_type": "stream",
     "text": [
      "Training set has 1698 samples.\n",
      "Testing set has 564 samples.\n"
     ]
    }
   ],
   "source": [
    "# define oversampling strategy\n",
    "oversample = RandomOverSampler(sampling_strategy='minority')\n",
    "X_train, y_train = oversample.fit_resample(X_train, y_train)\n",
    "\n",
    "print (\"Training set has {} samples.\".format(X_train.shape[0]))\n",
    "print (\"Testing set has {} samples.\".format(X_test.shape[0]))"
   ]
  },
  {
   "cell_type": "markdown",
   "metadata": {},
   "source": [
    "#### Instanciating the model"
   ]
  },
  {
   "cell_type": "code",
   "execution_count": 17,
   "metadata": {},
   "outputs": [],
   "source": [
    "clf = SVC(random_state = 420)\n",
    "\n",
    "learner = clf.fit(X_train, y_train)\n",
    "\n",
    "# Get the predictions on the test set,\n",
    "# then get predictions on the full training samples\n",
    "predictions_test = learner.predict(X_test)\n",
    "predictions_train = learner.predict(X_train)\n",
    "\n",
    "# Compute accuracy on the full training samples\n",
    "acc_train = accuracy_score(y_train, predictions_train)\n",
    "\n",
    "# Compute accuracy on test set\n",
    "acc_test = accuracy_score(y_test, predictions_test)\n",
    "\n",
    "# Compute F-score on the the full training samples\n",
    "f_train = fbeta_score(y_train,predictions_train,beta=0.5)\n",
    "\n",
    "# Compute F-score on the test set\n",
    "f_test = fbeta_score(y_test,predictions_test,beta=0.5)\n",
    "\n",
    "# Compute Precision"
   ]
  },
  {
   "cell_type": "markdown",
   "metadata": {},
   "source": [
    "#### with f_beta_score 0.5"
   ]
  },
  {
   "cell_type": "code",
   "execution_count": 20,
   "metadata": {},
   "outputs": [
    {
     "name": "stdout",
     "output_type": "stream",
     "text": [
      "Accuracy on trainig data: 0.8380447585394581\n",
      "Accuracy on testing data: 0.776595744680851\n",
      "F_beta_score on trainig data: 0.8524013075182298\n",
      "F_beta_score on test data: 0.8529776674937964\n"
     ]
    }
   ],
   "source": [
    "print (f'Accuracy on trainig data: {acc_train}')\n",
    "print (f'Accuracy on testing data: {acc_test}')\n",
    "print (f'F_beta_score on trainig data: {f_train}')\n",
    "print (f'F_beta_score on test data: {f_test}')"
   ]
  },
  {
   "cell_type": "code",
   "execution_count": 9,
   "metadata": {},
   "outputs": [
    {
     "data": {
      "image/png": "[encoded data removed]",
      "text/plain": [
       "<Figure size 432x288 with 2 Axes>"
      ]
     },
     "metadata": {},
     "output_type": "display_data"
    }
   ],
   "source": [
    "cm = confusion_matrix(y_test, clf.predict(X_test))\n",
    "cm = cm.astype('float') / cm.sum(axis=1)[:, np.newaxis] # normalize the data\n",
    "\n",
    "# view with a heatmap\n",
    "plt.figure()\n",
    "sns.heatmap(cm, annot=True, annot_kws={\"size\":30}, \n",
    "         cmap='Blues', square=True, fmt='.3f')\n",
    "plt.ylabel('True label')\n",
    "plt.xlabel('Predicted label')\n",
    "plt.title('Confusion matrix for SVC');"
   ]
  },
  {
   "cell_type": "code",
   "execution_count": 22,
   "metadata": {},
   "outputs": [
    {
     "data": {
      "text/plain": [
       "array([0, 1, 1, ..., 0, 0, 0])"
      ]
     },
     "execution_count": 22,
     "metadata": {},
     "output_type": "execute_result"
    }
   ],
   "source": [
    "predictions_train"
   ]
  },
  {
   "cell_type": "code",
   "execution_count": null,
   "metadata": {},
   "outputs": [],
   "source": []
  }
 ],
 "metadata": {
  "kernelspec": {
   "display_name": "Python 3",
   "language": "python",
   "name": "python3"
  },
  "language_info": {
   "codemirror_mode": {
    "name": "ipython",
    "version": 3
   },
   "file_extension": ".py",
   "mimetype": "text/x-python",
   "name": "python",
   "nbconvert_exporter": "python",
   "pygments_lexer": "ipython3",
   "version": "3.8.5"
  }
 },
 "nbformat": 4,
 "nbformat_minor": 4
}
