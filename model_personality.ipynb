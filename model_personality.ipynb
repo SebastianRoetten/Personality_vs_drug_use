{
 "cells": [
  {
   "cell_type": "markdown",
   "metadata": {},
   "source": [
    "# Data Prepocessing & Modelling"
   ]
  },
  {
   "cell_type": "markdown",
   "metadata": {},
   "source": [
    "## Reading in Data, Cleaning Data and adding actual values for visualizations"
   ]
  },
  {
   "cell_type": "code",
   "execution_count": 1,
   "metadata": {},
   "outputs": [],
   "source": [
    "import numpy as np\n",
    "import pandas as pd\n",
    "from time import time\n",
    "from IPython.display import display\n",
    "# Import functions from own Python-File (see visuals.py in Repo)\n",
    "import visuals as vs\n",
    "\n",
    "pd.set_option('display.max_columns', None) # To display all columns\n",
    "import xlrd\n",
    "\n",
    "import matplotlib.pyplot as plt\n",
    "import matplotlib.image as mpimg\n",
    "\n",
    "import seaborn as sns\n",
    "sns.set_style(\"whitegrid\")\n",
    "\n",
    "from scipy import stats\n",
    "from sklearn.model_selection import train_test_split\n",
    "from sklearn.metrics import mean_squared_error\n",
    "from math import sqrt"
   ]
  },
  {
   "cell_type": "code",
   "execution_count": 2,
   "metadata": {},
   "outputs": [],
   "source": [
    "df = pd.read_excel('Data/drug_consumption.xls')"
   ]
  },
  {
   "cell_type": "markdown",
   "metadata": {},
   "source": [
    "We delete every row where a participant indicated the use of 'Semeron', which is a fictional, non existing drug, used to pick out individuals who are exaggerating their drug use:"
   ]
  },
  {
   "cell_type": "code",
   "execution_count": 3,
   "metadata": {},
   "outputs": [],
   "source": [
    "# df.loc[df[\"Semer\"] != \"CL0\"]                    have a look at the 8 lines with Semeron consumption\n",
    "df1 = df.drop(df.loc[df[\"Semer\"] != \"CL0\"].index)\n",
    "df1.drop('Semer', inplace=True, axis=1)"
   ]
  },
  {
   "cell_type": "markdown",
   "metadata": {},
   "source": [
    "Reassigning categorical features to standardized Values for Gender, Country, Education, Etnicity & Age for better visualizations"
   ]
  },
  {
   "cell_type": "code",
   "execution_count": 4,
   "metadata": {},
   "outputs": [],
   "source": [
    "Gencat = df1['Gender'].apply(lambda x: 1 if x > 0 else 0)\n",
    "df1[\"Gender\"] = Gencat\n",
    "df1[\"Gender\"] = df1[\"Gender\"].astype(\"category\")"
   ]
  },
  {
   "cell_type": "code",
   "execution_count": 5,
   "metadata": {},
   "outputs": [],
   "source": [
    "Countrycat = df1['Country'].apply(lambda x: {(-0.09765):'Australia', \n",
    "                                             0.24923:'Canada',\n",
    "                                             0.96082:'UK',\n",
    "                                            (-0.46841):'New Zealand',\n",
    "                                            (-0.28519):'Other',\n",
    "                                            (0.21128):'R.o.Ireland',\n",
    "                                            (-0.57009):'USA'}.get(x,''))\n",
    "df1.insert(5, \"Country_Name\", Countrycat)\n",
    "df1[\"Country_Name\"] = df1[\"Country_Name\"].astype(\"category\")"
   ]
  },
  {
   "cell_type": "code",
   "execution_count": 6,
   "metadata": {},
   "outputs": [],
   "source": [
    "Educat = df1['Education'].apply(lambda x: {(-2.43591): \"under 16y\",\n",
    "                                           (-1.73790): \"16y\",\n",
    "                                           (-1.43719): \"17y\",\n",
    "                                           (-1.22751): '18y',\n",
    "                                           (-0.61113):'College/Uni',\n",
    "                                           (-0.05921):'Cert./Diploma',\n",
    "                                           (0.45468): 'Uni Degree', \n",
    "                                           (1.16365):'Master',\n",
    "                                           (1.98437): 'PhD'}.get(x,''))\n",
    "df1.insert(4, \"Education_Level\", Educat)\n",
    "df1[\"Education_Level\"] = df1[\"Education_Level\"].astype(\"category\")"
   ]
  },
  {
   "cell_type": "code",
   "execution_count": 7,
   "metadata": {},
   "outputs": [],
   "source": [
    "Ethinicitycat = df1[\"Ethnicity\"].apply(lambda x: {(-0.50212): \"Asian\",\n",
    "                                           (-1.10702): \"Black\",\n",
    "                                           (1.90725): \"Mixed-Black/Asian\",\n",
    "                                           (0.12600): 'Mixed-White/Asian',\n",
    "                                           (-0.22166):'Mixed-White/Black',\n",
    "                                           (0.11440):'Other',\n",
    "                                           (-0.31685): 'White'}.get(x,''))\n",
    "df1.insert(8, \"Ethnicity_Label\", Ethinicitycat)\n",
    "df1[\"Ethnicity_Label\"] = df1[\"Ethnicity_Label\"].astype(\"category\")"
   ]
  },
  {
   "cell_type": "code",
   "execution_count": 8,
   "metadata": {},
   "outputs": [],
   "source": [
    "Agecat = df1[\"Age\"].apply(lambda x: {(-0.95197): \"18-24\",\n",
    "                                           (-0.07854): \"25-34\",\n",
    "                                           (0.49788): \"35-44\",\n",
    "                                           (1.09449): '45-54',\n",
    "                                           (1.82213):'55-64',\n",
    "                                           (2.59171):'65+'}.get(x,''))\n",
    "df1.insert(2, \"Age_Cat\", Agecat)\n",
    "df1[\"Age_Cat\"] = df1[\"Age_Cat\"].astype(\"category\")"
   ]
  },
  {
   "cell_type": "markdown",
   "metadata": {},
   "source": [
    "## Classification of drug usage in users and non-users"
   ]
  },
  {
   "cell_type": "markdown",
   "metadata": {},
   "source": [
    "Formally, the only individuals who can be considered non-users are individuals in Class 0, however individuals who used a drug more than a decade ago cannot be considered a drug user for most applications.\n",
    "There are several possible way to discriminate participants into groups of users and non-users for binary classification. We decided to define non-user as anyone who has never taken the drug (CL0) or taken the drug over a decade ago (CL1) and anyone else as a user (CL2, CL3, CL4, CL5 and CL6)."
   ]
  },
  {
   "cell_type": "code",
   "execution_count": 9,
   "metadata": {},
   "outputs": [],
   "source": [
    "drugs = [\"Alcohol\", \"Amphet\", \"Amyl\", \"Benzos\", \"Caff\", \"Cannabis\", \"Choc\", \"Coke\", \"Crack\",\n",
    "        \"Ecstasy\", \"Heroin\", \"Ketamine\", \"Legalh\", \"LSD\", \"Meth\", \"Shrooms\", \"Nicotine\", \"VSA\"]\n",
    "\n",
    "for element in drugs:\n",
    "    column_insert = df1.columns.get_loc(element)+1\n",
    "    col_name = element+\"_Cat\"\n",
    "    cat = df1[element].apply(lambda x: 0 if (x == \"CL0\" or x == \"CL1\") else 1)\n",
    "    df1.insert(column_insert, col_name, cat)\n",
    "    df1[col_name] = df1[col_name].astype(\"category\")"
   ]
  },
  {
   "cell_type": "markdown",
   "metadata": {},
   "source": [
    "## Categorizing the different drugs into 3 groups"
   ]
  },
  {
   "cell_type": "code",
   "execution_count": 10,
   "metadata": {},
   "outputs": [],
   "source": [
    "drugs_cat = [\"Alcohol_Cat\", \"Amphet_Cat\", \"Amyl_Cat\", \"Benzos_Cat\", \"Caff_Cat\", \"Cannabis_Cat\", \"Choc_Cat\", \"Coke_Cat\", \"Crack_Cat\",\n",
    "        \"Ecstasy_Cat\", \"Heroin_Cat\", \"Ketamine_Cat\", \"Legalh_Cat\", \"LSD_Cat\", \"Meth_Cat\", \"Shrooms_Cat\", \"Nicotine_Cat\", \"VSA_Cat\"]\n",
    "\n",
    "user_total = []\n",
    "non_user_total = []\n",
    "\n",
    "for element in drugs_cat:\n",
    "    user = df1[element].value_counts(normalize=True).sort_index()[1]\n",
    "    non_user = df1[element].value_counts(normalize=True).sort_index()[0]\n",
    "    user_total.append(user)\n",
    "    non_user_total.append(non_user)\n",
    "\n",
    "total_user = pd.DataFrame([drugs_cat, user_total, non_user_total], index=[\"Drug\", \"User\", \"Non_user\"]).T"
   ]
  },
  {
   "cell_type": "markdown",
   "metadata": {},
   "source": [
    "First group are all drugs with a user base of over 66%, we specify those as \"social drugs\""
   ]
  },
  {
   "cell_type": "code",
   "execution_count": 11,
   "metadata": {},
   "outputs": [
    {
     "data": {
      "text/html": [
       "<div>\n",
       "<style scoped>\n",
       "    .dataframe tbody tr th:only-of-type {\n",
       "        vertical-align: middle;\n",
       "    }\n",
       "\n",
       "    .dataframe tbody tr th {\n",
       "        vertical-align: top;\n",
       "    }\n",
       "\n",
       "    .dataframe thead th {\n",
       "        text-align: right;\n",
       "    }\n",
       "</style>\n",
       "<table border=\"1\" class=\"dataframe\">\n",
       "  <thead>\n",
       "    <tr style=\"text-align: right;\">\n",
       "      <th></th>\n",
       "      <th>Drug</th>\n",
       "      <th>User</th>\n",
       "      <th>Non_user</th>\n",
       "    </tr>\n",
       "  </thead>\n",
       "  <tbody>\n",
       "    <tr>\n",
       "      <th>0</th>\n",
       "      <td>Alcohol_Cat</td>\n",
       "      <td>0.964305</td>\n",
       "      <td>0.0356953</td>\n",
       "    </tr>\n",
       "    <tr>\n",
       "      <th>4</th>\n",
       "      <td>Caff_Cat</td>\n",
       "      <td>0.980288</td>\n",
       "      <td>0.0197123</td>\n",
       "    </tr>\n",
       "    <tr>\n",
       "      <th>5</th>\n",
       "      <td>Cannabis_Cat</td>\n",
       "      <td>0.669686</td>\n",
       "      <td>0.330314</td>\n",
       "    </tr>\n",
       "    <tr>\n",
       "      <th>6</th>\n",
       "      <td>Choc_Cat</td>\n",
       "      <td>0.981886</td>\n",
       "      <td>0.018114</td>\n",
       "    </tr>\n",
       "    <tr>\n",
       "      <th>16</th>\n",
       "      <td>Nicotine_Cat</td>\n",
       "      <td>0.669153</td>\n",
       "      <td>0.330847</td>\n",
       "    </tr>\n",
       "  </tbody>\n",
       "</table>\n",
       "</div>"
      ],
      "text/plain": [
       "            Drug      User   Non_user\n",
       "0    Alcohol_Cat  0.964305  0.0356953\n",
       "4       Caff_Cat  0.980288  0.0197123\n",
       "5   Cannabis_Cat  0.669686   0.330314\n",
       "6       Choc_Cat  0.981886   0.018114\n",
       "16  Nicotine_Cat  0.669153   0.330847"
      ]
     },
     "execution_count": 11,
     "metadata": {},
     "output_type": "execute_result"
    }
   ],
   "source": [
    "total_user.query(\"User > 0.66\")"
   ]
  },
  {
   "cell_type": "markdown",
   "metadata": {},
   "source": [
    "Second group are all drugs with a user base under 66% but above 25%, we specify those as \"party drugs\""
   ]
  },
  {
   "cell_type": "code",
   "execution_count": 12,
   "metadata": {},
   "outputs": [
    {
     "data": {
      "text/html": [
       "<div>\n",
       "<style scoped>\n",
       "    .dataframe tbody tr th:only-of-type {\n",
       "        vertical-align: middle;\n",
       "    }\n",
       "\n",
       "    .dataframe tbody tr th {\n",
       "        vertical-align: top;\n",
       "    }\n",
       "\n",
       "    .dataframe thead th {\n",
       "        text-align: right;\n",
       "    }\n",
       "</style>\n",
       "<table border=\"1\" class=\"dataframe\">\n",
       "  <thead>\n",
       "    <tr style=\"text-align: right;\">\n",
       "      <th></th>\n",
       "      <th>Drug</th>\n",
       "      <th>User</th>\n",
       "      <th>Non_user</th>\n",
       "    </tr>\n",
       "  </thead>\n",
       "  <tbody>\n",
       "    <tr>\n",
       "      <th>1</th>\n",
       "      <td>Amphet_Cat</td>\n",
       "      <td>0.359084</td>\n",
       "      <td>0.640916</td>\n",
       "    </tr>\n",
       "    <tr>\n",
       "      <th>3</th>\n",
       "      <td>Benzos_Cat</td>\n",
       "      <td>0.405967</td>\n",
       "      <td>0.594033</td>\n",
       "    </tr>\n",
       "    <tr>\n",
       "      <th>7</th>\n",
       "      <td>Coke_Cat</td>\n",
       "      <td>0.362813</td>\n",
       "      <td>0.637187</td>\n",
       "    </tr>\n",
       "    <tr>\n",
       "      <th>9</th>\n",
       "      <td>Ecstasy_Cat</td>\n",
       "      <td>0.39691</td>\n",
       "      <td>0.60309</td>\n",
       "    </tr>\n",
       "    <tr>\n",
       "      <th>12</th>\n",
       "      <td>Legalh_Cat</td>\n",
       "      <td>0.40277</td>\n",
       "      <td>0.59723</td>\n",
       "    </tr>\n",
       "    <tr>\n",
       "      <th>13</th>\n",
       "      <td>LSD_Cat</td>\n",
       "      <td>0.293554</td>\n",
       "      <td>0.706446</td>\n",
       "    </tr>\n",
       "    <tr>\n",
       "      <th>15</th>\n",
       "      <td>Shrooms_Cat</td>\n",
       "      <td>0.36601</td>\n",
       "      <td>0.63399</td>\n",
       "    </tr>\n",
       "  </tbody>\n",
       "</table>\n",
       "</div>"
      ],
      "text/plain": [
       "           Drug      User  Non_user\n",
       "1    Amphet_Cat  0.359084  0.640916\n",
       "3    Benzos_Cat  0.405967  0.594033\n",
       "7      Coke_Cat  0.362813  0.637187\n",
       "9   Ecstasy_Cat   0.39691   0.60309\n",
       "12   Legalh_Cat   0.40277   0.59723\n",
       "13      LSD_Cat  0.293554  0.706446\n",
       "15  Shrooms_Cat   0.36601   0.63399"
      ]
     },
     "execution_count": 12,
     "metadata": {},
     "output_type": "execute_result"
    }
   ],
   "source": [
    "total_user.query(\"User < 0.66 and User > 0.25\")"
   ]
  },
  {
   "cell_type": "markdown",
   "metadata": {},
   "source": [
    "Third group are all drugs with a user base under 25%, we specify those as \"hard drugs\""
   ]
  },
  {
   "cell_type": "code",
   "execution_count": 13,
   "metadata": {},
   "outputs": [
    {
     "data": {
      "text/html": [
       "<div>\n",
       "<style scoped>\n",
       "    .dataframe tbody tr th:only-of-type {\n",
       "        vertical-align: middle;\n",
       "    }\n",
       "\n",
       "    .dataframe tbody tr th {\n",
       "        vertical-align: top;\n",
       "    }\n",
       "\n",
       "    .dataframe thead th {\n",
       "        text-align: right;\n",
       "    }\n",
       "</style>\n",
       "<table border=\"1\" class=\"dataframe\">\n",
       "  <thead>\n",
       "    <tr style=\"text-align: right;\">\n",
       "      <th></th>\n",
       "      <th>Drug</th>\n",
       "      <th>User</th>\n",
       "      <th>Non_user</th>\n",
       "    </tr>\n",
       "  </thead>\n",
       "  <tbody>\n",
       "    <tr>\n",
       "      <th>2</th>\n",
       "      <td>Amyl_Cat</td>\n",
       "      <td>0.196058</td>\n",
       "      <td>0.803942</td>\n",
       "    </tr>\n",
       "    <tr>\n",
       "      <th>8</th>\n",
       "      <td>Crack_Cat</td>\n",
       "      <td>0.10016</td>\n",
       "      <td>0.89984</td>\n",
       "    </tr>\n",
       "    <tr>\n",
       "      <th>10</th>\n",
       "      <td>Heroin_Cat</td>\n",
       "      <td>0.111348</td>\n",
       "      <td>0.888652</td>\n",
       "    </tr>\n",
       "    <tr>\n",
       "      <th>11</th>\n",
       "      <td>Ketamine_Cat</td>\n",
       "      <td>0.184337</td>\n",
       "      <td>0.815663</td>\n",
       "    </tr>\n",
       "    <tr>\n",
       "      <th>14</th>\n",
       "      <td>Meth_Cat</td>\n",
       "      <td>0.220565</td>\n",
       "      <td>0.779435</td>\n",
       "    </tr>\n",
       "    <tr>\n",
       "      <th>17</th>\n",
       "      <td>VSA_Cat</td>\n",
       "      <td>0.120405</td>\n",
       "      <td>0.879595</td>\n",
       "    </tr>\n",
       "  </tbody>\n",
       "</table>\n",
       "</div>"
      ],
      "text/plain": [
       "            Drug      User  Non_user\n",
       "2       Amyl_Cat  0.196058  0.803942\n",
       "8      Crack_Cat   0.10016   0.89984\n",
       "10    Heroin_Cat  0.111348  0.888652\n",
       "11  Ketamine_Cat  0.184337  0.815663\n",
       "14      Meth_Cat  0.220565  0.779435\n",
       "17       VSA_Cat  0.120405  0.879595"
      ]
     },
     "execution_count": 13,
     "metadata": {},
     "output_type": "execute_result"
    }
   ],
   "source": [
    "total_user.query(\"User < 0.25\")"
   ]
  },
  {
   "cell_type": "markdown",
   "metadata": {},
   "source": [
    "Making a dataframe for each ob the drug subgroups:"
   ]
  },
  {
   "cell_type": "code",
   "execution_count": 14,
   "metadata": {},
   "outputs": [],
   "source": [
    "df_group1_drugs = df1.drop([\"Amphet_Cat\", \"Amyl_Cat\", \"Benzos_Cat\", \"Coke_Cat\", \"Crack_Cat\", \"Ecstasy_Cat\", 'Heroin_Cat', 'Ketamine_Cat',\n",
    "                       'Legalh_Cat', 'LSD_Cat', 'Meth_Cat', 'Shrooms_Cat', 'VSA_Cat', 'Alcohol', 'Amphet', 'Amyl', 'Benzos', 'Caff', \n",
    "                       'Cannabis', 'Choc', 'Coke', 'Crack', 'Ecstasy', 'Heroin', 'Ketamine', 'Legalh', 'LSD', 'Meth', 'Shrooms',\n",
    "                       'Nicotine', 'VSA'], axis=1)\n",
    "\n",
    "df_group2_drugs = df1.drop([\"Alcohol_Cat\", \"Amyl_Cat\", \"Caff_Cat\", \"Cannabis_Cat\", \"Choc_Cat\", \"Crack_Cat\",\n",
    "        \"Heroin_Cat\", \"Ketamine_Cat\", \"Meth_Cat\", \"Nicotine_Cat\", \"VSA_Cat\", \"Alcohol\", \"Amphet\", \"Amyl\", \"Benzos\", \"Caff\", \"Cannabis\", \"Choc\", \"Coke\", \"Crack\",\n",
    "        \"Ecstasy\", \"Heroin\", \"Ketamine\", \"Legalh\", \"LSD\", \"Meth\", \"Shrooms\", \"Nicotine\", \"VSA\"], axis=1)\n",
    "\n",
    "df_group3_drugs = df1.drop([\"Alcohol_Cat\", \"Amphet_Cat\", \"Benzos_Cat\", \"Caff_Cat\", \"Cannabis_Cat\", \"Choc_Cat\", \"Coke_Cat\",\n",
    "        \"Ecstasy_Cat\", \"Legalh_Cat\", \"LSD_Cat\", \"Shrooms_Cat\", \"Nicotine_Cat\", \"Alcohol\", \"Amphet\", \"Amyl\", \"Benzos\", \"Caff\", \"Cannabis\", \"Choc\", \"Coke\", \"Crack\",\n",
    "        \"Ecstasy\", \"Heroin\", \"Ketamine\", \"Legalh\", \"LSD\", \"Meth\", \"Shrooms\", \"Nicotine\", \"VSA\"], axis=1)"
   ]
  },
  {
   "cell_type": "markdown",
   "metadata": {},
   "source": [
    "Changing the binary classification to integers for each of the drugs in the 3 drug subgroup dataframes:"
   ]
  },
  {
   "cell_type": "code",
   "execution_count": 15,
   "metadata": {},
   "outputs": [],
   "source": [
    "# \"Social drugs\"\n",
    "df_group1_drugs[\"Alcohol_Cat\"] = df_group1_drugs[\"Alcohol_Cat\"].astype(int)\n",
    "df_group1_drugs[\"Caff_Cat\"] = df_group1_drugs[\"Caff_Cat\"].astype(int)\n",
    "df_group1_drugs[\"Cannabis_Cat\"] = df_group1_drugs[\"Cannabis_Cat\"].astype(int)\n",
    "df_group1_drugs[\"Choc_Cat\"] = df_group1_drugs[\"Choc_Cat\"].astype(int)\n",
    "df_group1_drugs[\"Nicotine_Cat\"] = df_group1_drugs[\"Nicotine_Cat\"].astype(int)\n",
    "\n",
    "# \"Party drugs\"\n",
    "df_group2_drugs[\"Amphet_Cat\"] = df_group2_drugs[\"Amphet_Cat\"].astype(int)\n",
    "df_group2_drugs[\"Benzos_Cat\"] = df_group2_drugs[\"Benzos_Cat\"].astype(int)\n",
    "df_group2_drugs[\"Coke_Cat\"] = df_group2_drugs[\"Coke_Cat\"].astype(int)\n",
    "df_group2_drugs[\"Ecstasy_Cat\"] = df_group2_drugs[\"Ecstasy_Cat\"].astype(int)\n",
    "df_group2_drugs[\"Legalh_Cat\"] = df_group2_drugs[\"Legalh_Cat\"].astype(int)\n",
    "df_group2_drugs[\"LSD_Cat\"] = df_group2_drugs[\"LSD_Cat\"].astype(int)\n",
    "df_group2_drugs[\"Shrooms_Cat\"] = df_group2_drugs[\"Shrooms_Cat\"].astype(int)\n",
    "\n",
    "# \"Hard drugs\"\n",
    "df_group3_drugs[\"Amyl_Cat\"] = df_group3_drugs[\"Amyl_Cat\"].astype(int)\n",
    "df_group3_drugs[\"Crack_Cat\"] = df_group3_drugs[\"Crack_Cat\"].astype(int)\n",
    "df_group3_drugs[\"Heroin_Cat\"] = df_group3_drugs[\"Heroin_Cat\"].astype(int)\n",
    "df_group3_drugs[\"Ketamine_Cat\"] = df_group3_drugs[\"Ketamine_Cat\"].astype(int)\n",
    "df_group3_drugs[\"Meth_Cat\"] = df_group3_drugs[\"Meth_Cat\"].astype(int)\n",
    "df_group3_drugs[\"VSA_Cat\"] = df_group3_drugs[\"VSA_Cat\"].astype(int)"
   ]
  },
  {
   "cell_type": "markdown",
   "metadata": {},
   "source": [
    "Assigning user or non-user (1 or 0) for each of the drug groups and storing this in a few dataframe:"
   ]
  },
  {
   "cell_type": "code",
   "execution_count": 16,
   "metadata": {},
   "outputs": [],
   "source": [
    "df2 = df1.copy()"
   ]
  },
  {
   "cell_type": "code",
   "execution_count": 17,
   "metadata": {},
   "outputs": [],
   "source": [
    "drugs1=[\"Alcohol_Cat\", \"Caff_Cat\", \"Cannabis_Cat\", \"Choc_Cat\", \"Nicotine_Cat\"]\n",
    "df2['Social_Drugs']= df_group1_drugs[\"Alcohol_Cat\"] + df_group1_drugs[\"Caff_Cat\"] + df_group1_drugs[\"Cannabis_Cat\"] + df_group1_drugs[\"Choc_Cat\"] + df_group1_drugs[\"Nicotine_Cat\"]\n",
    "df2['Social_Drugs'] = df2['Social_Drugs'].apply(lambda x: 1 if x > 0 else 0)\n",
    "\n",
    "drugs2=[\"Amphet_Cat\", \"Benzos_Cat\", \"Coke_Cat\", \"Ecstasy_Cat\", \"Legalh_Cat\", \"LSD_Cat\", \"Shrooms_Cat\"]\n",
    "df2['Party_Drugs']= df_group2_drugs[\"Amphet_Cat\"] + df_group2_drugs[\"Benzos_Cat\"] + df_group2_drugs[\"Coke_Cat\"] + df_group2_drugs[\"Ecstasy_Cat\"] + df_group2_drugs[\"Legalh_Cat\"] + df_group2_drugs[\"LSD_Cat\"]+ df_group2_drugs[\"Shrooms_Cat\"]\n",
    "df2['Party_Drugs'] = df2['Party_Drugs'].apply(lambda x: 1 if x > 0 else 0)\n",
    "\n",
    "drugs3=[\"Amyl_Cat\", \"Crack_Cat\", \"Heroin_Cat\", \"Ketamine_Cat\", \"Meth_Cat\", \"VSA_Cat\"]\n",
    "df2['Hard_Drugs']= df_group3_drugs[\"Amyl_Cat\"] + df_group3_drugs[\"Crack_Cat\"] + df_group3_drugs[\"Heroin_Cat\"] + df_group3_drugs[\"Ketamine_Cat\"] + df_group3_drugs[\"Meth_Cat\"] + df_group3_drugs[\"VSA_Cat\"]\n",
    "df2['Hard_Drugs'] = df2['Hard_Drugs'].apply(lambda x: 1 if x > 0 else 0)\n",
    "\n",
    "df2.drop([\"Alcohol\", \"Amphet\", \"Amyl\", \"Benzos\", \"Caff\", \"Cannabis\", \"Choc\", \"Coke\", \"Crack\",\"Ecstasy\", \"Heroin\", \"Ketamine\",\n",
    "          \"Legalh\", \"LSD\", \"Meth\", \"Shrooms\", \"Nicotine\", \"VSA\", \"Alcohol_Cat\", \"Amphet_Cat\", \"Amyl_Cat\", \"Benzos_Cat\", \"Caff_Cat\",\n",
    "          \"Cannabis_Cat\", \"Choc_Cat\", \"Coke_Cat\", \"Crack_Cat\",\"Ecstasy_Cat\", \"Heroin_Cat\", \"Ketamine_Cat\", \"Legalh_Cat\", \"LSD_Cat\", \n",
    "          \"Meth_Cat\", \"Shrooms_Cat\", \"Nicotine_Cat\", \"VSA_Cat\"], axis=1, inplace=True)"
   ]
  },
  {
   "cell_type": "markdown",
   "metadata": {},
   "source": [
    "Check Workfile for modelling and export new dataset to csv."
   ]
  },
  {
   "cell_type": "code",
   "execution_count": 18,
   "metadata": {},
   "outputs": [
    {
     "data": {
      "text/html": [
       "<div>\n",
       "<style scoped>\n",
       "    .dataframe tbody tr th:only-of-type {\n",
       "        vertical-align: middle;\n",
       "    }\n",
       "\n",
       "    .dataframe tbody tr th {\n",
       "        vertical-align: top;\n",
       "    }\n",
       "\n",
       "    .dataframe thead th {\n",
       "        text-align: right;\n",
       "    }\n",
       "</style>\n",
       "<table border=\"1\" class=\"dataframe\">\n",
       "  <thead>\n",
       "    <tr style=\"text-align: right;\">\n",
       "      <th></th>\n",
       "      <th>ID</th>\n",
       "      <th>Age</th>\n",
       "      <th>Age_Cat</th>\n",
       "      <th>Gender</th>\n",
       "      <th>Education</th>\n",
       "      <th>Education_Level</th>\n",
       "      <th>Country</th>\n",
       "      <th>Country_Name</th>\n",
       "      <th>Ethnicity</th>\n",
       "      <th>Ethnicity_Label</th>\n",
       "      <th>Nscore</th>\n",
       "      <th>Escore</th>\n",
       "      <th>Oscore</th>\n",
       "      <th>Ascore</th>\n",
       "      <th>Cscore</th>\n",
       "      <th>Impulsive</th>\n",
       "      <th>SS</th>\n",
       "      <th>Social_Drugs</th>\n",
       "      <th>Party_Drugs</th>\n",
       "      <th>Hard_Drugs</th>\n",
       "    </tr>\n",
       "  </thead>\n",
       "  <tbody>\n",
       "    <tr>\n",
       "      <th>0</th>\n",
       "      <td>1</td>\n",
       "      <td>0.49788</td>\n",
       "      <td>35-44</td>\n",
       "      <td>1</td>\n",
       "      <td>-0.05921</td>\n",
       "      <td>Cert./Diploma</td>\n",
       "      <td>0.96082</td>\n",
       "      <td>UK</td>\n",
       "      <td>0.12600</td>\n",
       "      <td>Mixed-White/Asian</td>\n",
       "      <td>0.31287</td>\n",
       "      <td>-0.57545</td>\n",
       "      <td>-0.58331</td>\n",
       "      <td>-0.91699</td>\n",
       "      <td>-0.00665</td>\n",
       "      <td>-0.21712</td>\n",
       "      <td>-1.18084</td>\n",
       "      <td>1</td>\n",
       "      <td>1</td>\n",
       "      <td>0</td>\n",
       "    </tr>\n",
       "    <tr>\n",
       "      <th>1</th>\n",
       "      <td>2</td>\n",
       "      <td>-0.07854</td>\n",
       "      <td>25-34</td>\n",
       "      <td>0</td>\n",
       "      <td>1.98437</td>\n",
       "      <td>PhD</td>\n",
       "      <td>0.96082</td>\n",
       "      <td>UK</td>\n",
       "      <td>-0.31685</td>\n",
       "      <td>White</td>\n",
       "      <td>-0.67825</td>\n",
       "      <td>1.93886</td>\n",
       "      <td>1.43533</td>\n",
       "      <td>0.76096</td>\n",
       "      <td>-0.14277</td>\n",
       "      <td>-0.71126</td>\n",
       "      <td>-0.21575</td>\n",
       "      <td>1</td>\n",
       "      <td>1</td>\n",
       "      <td>1</td>\n",
       "    </tr>\n",
       "    <tr>\n",
       "      <th>2</th>\n",
       "      <td>3</td>\n",
       "      <td>0.49788</td>\n",
       "      <td>35-44</td>\n",
       "      <td>0</td>\n",
       "      <td>-0.05921</td>\n",
       "      <td>Cert./Diploma</td>\n",
       "      <td>0.96082</td>\n",
       "      <td>UK</td>\n",
       "      <td>-0.31685</td>\n",
       "      <td>White</td>\n",
       "      <td>-0.46725</td>\n",
       "      <td>0.80523</td>\n",
       "      <td>-0.84732</td>\n",
       "      <td>-1.62090</td>\n",
       "      <td>-1.01450</td>\n",
       "      <td>-1.37983</td>\n",
       "      <td>0.40148</td>\n",
       "      <td>1</td>\n",
       "      <td>0</td>\n",
       "      <td>0</td>\n",
       "    </tr>\n",
       "    <tr>\n",
       "      <th>3</th>\n",
       "      <td>4</td>\n",
       "      <td>-0.95197</td>\n",
       "      <td>18-24</td>\n",
       "      <td>1</td>\n",
       "      <td>1.16365</td>\n",
       "      <td>Master</td>\n",
       "      <td>0.96082</td>\n",
       "      <td>UK</td>\n",
       "      <td>-0.31685</td>\n",
       "      <td>White</td>\n",
       "      <td>-0.14882</td>\n",
       "      <td>-0.80615</td>\n",
       "      <td>-0.01928</td>\n",
       "      <td>0.59042</td>\n",
       "      <td>0.58489</td>\n",
       "      <td>-1.37983</td>\n",
       "      <td>-1.18084</td>\n",
       "      <td>1</td>\n",
       "      <td>1</td>\n",
       "      <td>1</td>\n",
       "    </tr>\n",
       "    <tr>\n",
       "      <th>4</th>\n",
       "      <td>5</td>\n",
       "      <td>0.49788</td>\n",
       "      <td>35-44</td>\n",
       "      <td>1</td>\n",
       "      <td>1.98437</td>\n",
       "      <td>PhD</td>\n",
       "      <td>0.96082</td>\n",
       "      <td>UK</td>\n",
       "      <td>-0.31685</td>\n",
       "      <td>White</td>\n",
       "      <td>0.73545</td>\n",
       "      <td>-1.63340</td>\n",
       "      <td>-0.45174</td>\n",
       "      <td>-0.30172</td>\n",
       "      <td>1.30612</td>\n",
       "      <td>-0.21712</td>\n",
       "      <td>-0.21575</td>\n",
       "      <td>1</td>\n",
       "      <td>1</td>\n",
       "      <td>0</td>\n",
       "    </tr>\n",
       "    <tr>\n",
       "      <th>...</th>\n",
       "      <td>...</td>\n",
       "      <td>...</td>\n",
       "      <td>...</td>\n",
       "      <td>...</td>\n",
       "      <td>...</td>\n",
       "      <td>...</td>\n",
       "      <td>...</td>\n",
       "      <td>...</td>\n",
       "      <td>...</td>\n",
       "      <td>...</td>\n",
       "      <td>...</td>\n",
       "      <td>...</td>\n",
       "      <td>...</td>\n",
       "      <td>...</td>\n",
       "      <td>...</td>\n",
       "      <td>...</td>\n",
       "      <td>...</td>\n",
       "      <td>...</td>\n",
       "      <td>...</td>\n",
       "      <td>...</td>\n",
       "    </tr>\n",
       "    <tr>\n",
       "      <th>1880</th>\n",
       "      <td>1884</td>\n",
       "      <td>-0.95197</td>\n",
       "      <td>18-24</td>\n",
       "      <td>1</td>\n",
       "      <td>-0.61113</td>\n",
       "      <td>College/Uni</td>\n",
       "      <td>-0.57009</td>\n",
       "      <td>USA</td>\n",
       "      <td>-0.31685</td>\n",
       "      <td>White</td>\n",
       "      <td>-1.19430</td>\n",
       "      <td>1.74091</td>\n",
       "      <td>1.88511</td>\n",
       "      <td>0.76096</td>\n",
       "      <td>-1.13788</td>\n",
       "      <td>0.88113</td>\n",
       "      <td>1.92173</td>\n",
       "      <td>1</td>\n",
       "      <td>1</td>\n",
       "      <td>1</td>\n",
       "    </tr>\n",
       "    <tr>\n",
       "      <th>1881</th>\n",
       "      <td>1885</td>\n",
       "      <td>-0.95197</td>\n",
       "      <td>18-24</td>\n",
       "      <td>0</td>\n",
       "      <td>-0.61113</td>\n",
       "      <td>College/Uni</td>\n",
       "      <td>-0.57009</td>\n",
       "      <td>USA</td>\n",
       "      <td>-0.31685</td>\n",
       "      <td>White</td>\n",
       "      <td>-0.24649</td>\n",
       "      <td>1.74091</td>\n",
       "      <td>0.58331</td>\n",
       "      <td>0.76096</td>\n",
       "      <td>-1.51840</td>\n",
       "      <td>0.88113</td>\n",
       "      <td>0.76540</td>\n",
       "      <td>1</td>\n",
       "      <td>1</td>\n",
       "      <td>1</td>\n",
       "    </tr>\n",
       "    <tr>\n",
       "      <th>1882</th>\n",
       "      <td>1886</td>\n",
       "      <td>-0.07854</td>\n",
       "      <td>25-34</td>\n",
       "      <td>1</td>\n",
       "      <td>0.45468</td>\n",
       "      <td>Uni Degree</td>\n",
       "      <td>-0.57009</td>\n",
       "      <td>USA</td>\n",
       "      <td>-0.31685</td>\n",
       "      <td>White</td>\n",
       "      <td>1.13281</td>\n",
       "      <td>-1.37639</td>\n",
       "      <td>-1.27553</td>\n",
       "      <td>-1.77200</td>\n",
       "      <td>-1.38502</td>\n",
       "      <td>0.52975</td>\n",
       "      <td>-0.52593</td>\n",
       "      <td>1</td>\n",
       "      <td>1</td>\n",
       "      <td>1</td>\n",
       "    </tr>\n",
       "    <tr>\n",
       "      <th>1883</th>\n",
       "      <td>1887</td>\n",
       "      <td>-0.95197</td>\n",
       "      <td>18-24</td>\n",
       "      <td>1</td>\n",
       "      <td>-0.61113</td>\n",
       "      <td>College/Uni</td>\n",
       "      <td>-0.57009</td>\n",
       "      <td>USA</td>\n",
       "      <td>-0.31685</td>\n",
       "      <td>White</td>\n",
       "      <td>0.91093</td>\n",
       "      <td>-1.92173</td>\n",
       "      <td>0.29338</td>\n",
       "      <td>-1.62090</td>\n",
       "      <td>-2.57309</td>\n",
       "      <td>1.29221</td>\n",
       "      <td>1.22470</td>\n",
       "      <td>1</td>\n",
       "      <td>1</td>\n",
       "      <td>0</td>\n",
       "    </tr>\n",
       "    <tr>\n",
       "      <th>1884</th>\n",
       "      <td>1888</td>\n",
       "      <td>-0.95197</td>\n",
       "      <td>18-24</td>\n",
       "      <td>0</td>\n",
       "      <td>-0.61113</td>\n",
       "      <td>College/Uni</td>\n",
       "      <td>0.21128</td>\n",
       "      <td>R.o.Ireland</td>\n",
       "      <td>-0.31685</td>\n",
       "      <td>White</td>\n",
       "      <td>-0.46725</td>\n",
       "      <td>2.12700</td>\n",
       "      <td>1.65653</td>\n",
       "      <td>1.11406</td>\n",
       "      <td>0.41594</td>\n",
       "      <td>0.88113</td>\n",
       "      <td>1.22470</td>\n",
       "      <td>1</td>\n",
       "      <td>1</td>\n",
       "      <td>1</td>\n",
       "    </tr>\n",
       "  </tbody>\n",
       "</table>\n",
       "<p>1877 rows × 20 columns</p>\n",
       "</div>"
      ],
      "text/plain": [
       "        ID      Age Age_Cat Gender  Education Education_Level  Country  \\\n",
       "0        1  0.49788   35-44      1   -0.05921   Cert./Diploma  0.96082   \n",
       "1        2 -0.07854   25-34      0    1.98437             PhD  0.96082   \n",
       "2        3  0.49788   35-44      0   -0.05921   Cert./Diploma  0.96082   \n",
       "3        4 -0.95197   18-24      1    1.16365          Master  0.96082   \n",
       "4        5  0.49788   35-44      1    1.98437             PhD  0.96082   \n",
       "...    ...      ...     ...    ...        ...             ...      ...   \n",
       "1880  1884 -0.95197   18-24      1   -0.61113     College/Uni -0.57009   \n",
       "1881  1885 -0.95197   18-24      0   -0.61113     College/Uni -0.57009   \n",
       "1882  1886 -0.07854   25-34      1    0.45468      Uni Degree -0.57009   \n",
       "1883  1887 -0.95197   18-24      1   -0.61113     College/Uni -0.57009   \n",
       "1884  1888 -0.95197   18-24      0   -0.61113     College/Uni  0.21128   \n",
       "\n",
       "     Country_Name  Ethnicity    Ethnicity_Label   Nscore   Escore   Oscore  \\\n",
       "0              UK    0.12600  Mixed-White/Asian  0.31287 -0.57545 -0.58331   \n",
       "1              UK   -0.31685              White -0.67825  1.93886  1.43533   \n",
       "2              UK   -0.31685              White -0.46725  0.80523 -0.84732   \n",
       "3              UK   -0.31685              White -0.14882 -0.80615 -0.01928   \n",
       "4              UK   -0.31685              White  0.73545 -1.63340 -0.45174   \n",
       "...           ...        ...                ...      ...      ...      ...   \n",
       "1880          USA   -0.31685              White -1.19430  1.74091  1.88511   \n",
       "1881          USA   -0.31685              White -0.24649  1.74091  0.58331   \n",
       "1882          USA   -0.31685              White  1.13281 -1.37639 -1.27553   \n",
       "1883          USA   -0.31685              White  0.91093 -1.92173  0.29338   \n",
       "1884  R.o.Ireland   -0.31685              White -0.46725  2.12700  1.65653   \n",
       "\n",
       "       Ascore   Cscore  Impulsive       SS  Social_Drugs  Party_Drugs  \\\n",
       "0    -0.91699 -0.00665   -0.21712 -1.18084             1            1   \n",
       "1     0.76096 -0.14277   -0.71126 -0.21575             1            1   \n",
       "2    -1.62090 -1.01450   -1.37983  0.40148             1            0   \n",
       "3     0.59042  0.58489   -1.37983 -1.18084             1            1   \n",
       "4    -0.30172  1.30612   -0.21712 -0.21575             1            1   \n",
       "...       ...      ...        ...      ...           ...          ...   \n",
       "1880  0.76096 -1.13788    0.88113  1.92173             1            1   \n",
       "1881  0.76096 -1.51840    0.88113  0.76540             1            1   \n",
       "1882 -1.77200 -1.38502    0.52975 -0.52593             1            1   \n",
       "1883 -1.62090 -2.57309    1.29221  1.22470             1            1   \n",
       "1884  1.11406  0.41594    0.88113  1.22470             1            1   \n",
       "\n",
       "      Hard_Drugs  \n",
       "0              0  \n",
       "1              1  \n",
       "2              0  \n",
       "3              1  \n",
       "4              0  \n",
       "...          ...  \n",
       "1880           1  \n",
       "1881           1  \n",
       "1882           1  \n",
       "1883           0  \n",
       "1884           1  \n",
       "\n",
       "[1877 rows x 20 columns]"
      ]
     },
     "execution_count": 18,
     "metadata": {},
     "output_type": "execute_result"
    }
   ],
   "source": [
    "# df2.to_csv('data/drug_workfile')\n",
    "df2"
   ]
  },
  {
   "cell_type": "code",
   "execution_count": null,
   "metadata": {},
   "outputs": [],
   "source": []
  },
  {
   "cell_type": "code",
   "execution_count": null,
   "metadata": {},
   "outputs": [],
   "source": []
  },
  {
   "cell_type": "markdown",
   "metadata": {},
   "source": [
    "# Modelling with Decision Tree "
   ]
  },
  {
   "cell_type": "markdown",
   "metadata": {},
   "source": [
    "We want to predict wether a certain person is suitable for our predefined drugclusters because of his personality traits.\n",
    "Furthermore we focus on a high Precision because we do not want our model to predict the suitability for a wrong cluster of drugs, e.g. we do not want to offer chocolate to a crackhead or meth to a pothead."
   ]
  },
  {
   "cell_type": "markdown",
   "metadata": {},
   "source": [
    "Import Workfile:"
   ]
  },
  {
   "cell_type": "code",
   "execution_count": 19,
   "metadata": {},
   "outputs": [
    {
     "data": {
      "text/html": [
       "<div>\n",
       "<style scoped>\n",
       "    .dataframe tbody tr th:only-of-type {\n",
       "        vertical-align: middle;\n",
       "    }\n",
       "\n",
       "    .dataframe tbody tr th {\n",
       "        vertical-align: top;\n",
       "    }\n",
       "\n",
       "    .dataframe thead th {\n",
       "        text-align: right;\n",
       "    }\n",
       "</style>\n",
       "<table border=\"1\" class=\"dataframe\">\n",
       "  <thead>\n",
       "    <tr style=\"text-align: right;\">\n",
       "      <th></th>\n",
       "      <th>Unnamed: 0</th>\n",
       "      <th>ID</th>\n",
       "      <th>Age</th>\n",
       "      <th>Age_Cat</th>\n",
       "      <th>Gender</th>\n",
       "      <th>Education</th>\n",
       "      <th>Education_Level</th>\n",
       "      <th>Country</th>\n",
       "      <th>Country_Name</th>\n",
       "      <th>Ethnicity</th>\n",
       "      <th>Ethnicity_Label</th>\n",
       "      <th>Nscore</th>\n",
       "      <th>Escore</th>\n",
       "      <th>Oscore</th>\n",
       "      <th>Ascore</th>\n",
       "      <th>Cscore</th>\n",
       "      <th>Impulsive</th>\n",
       "      <th>SS</th>\n",
       "      <th>Social_Drugs</th>\n",
       "      <th>Party_Drugs</th>\n",
       "      <th>Hard_Drugs</th>\n",
       "    </tr>\n",
       "  </thead>\n",
       "  <tbody>\n",
       "    <tr>\n",
       "      <th>0</th>\n",
       "      <td>0</td>\n",
       "      <td>1</td>\n",
       "      <td>0.49788</td>\n",
       "      <td>35-44</td>\n",
       "      <td>1</td>\n",
       "      <td>-0.05921</td>\n",
       "      <td>Cert./Diploma</td>\n",
       "      <td>0.96082</td>\n",
       "      <td>UK</td>\n",
       "      <td>0.12600</td>\n",
       "      <td>Mixed-White/Asian</td>\n",
       "      <td>0.31287</td>\n",
       "      <td>-0.57545</td>\n",
       "      <td>-0.58331</td>\n",
       "      <td>-0.91699</td>\n",
       "      <td>-0.00665</td>\n",
       "      <td>-0.21712</td>\n",
       "      <td>-1.18084</td>\n",
       "      <td>1</td>\n",
       "      <td>1</td>\n",
       "      <td>0</td>\n",
       "    </tr>\n",
       "    <tr>\n",
       "      <th>1</th>\n",
       "      <td>1</td>\n",
       "      <td>2</td>\n",
       "      <td>-0.07854</td>\n",
       "      <td>25-34</td>\n",
       "      <td>0</td>\n",
       "      <td>1.98437</td>\n",
       "      <td>PhD</td>\n",
       "      <td>0.96082</td>\n",
       "      <td>UK</td>\n",
       "      <td>-0.31685</td>\n",
       "      <td>White</td>\n",
       "      <td>-0.67825</td>\n",
       "      <td>1.93886</td>\n",
       "      <td>1.43533</td>\n",
       "      <td>0.76096</td>\n",
       "      <td>-0.14277</td>\n",
       "      <td>-0.71126</td>\n",
       "      <td>-0.21575</td>\n",
       "      <td>1</td>\n",
       "      <td>1</td>\n",
       "      <td>1</td>\n",
       "    </tr>\n",
       "    <tr>\n",
       "      <th>2</th>\n",
       "      <td>2</td>\n",
       "      <td>3</td>\n",
       "      <td>0.49788</td>\n",
       "      <td>35-44</td>\n",
       "      <td>0</td>\n",
       "      <td>-0.05921</td>\n",
       "      <td>Cert./Diploma</td>\n",
       "      <td>0.96082</td>\n",
       "      <td>UK</td>\n",
       "      <td>-0.31685</td>\n",
       "      <td>White</td>\n",
       "      <td>-0.46725</td>\n",
       "      <td>0.80523</td>\n",
       "      <td>-0.84732</td>\n",
       "      <td>-1.62090</td>\n",
       "      <td>-1.01450</td>\n",
       "      <td>-1.37983</td>\n",
       "      <td>0.40148</td>\n",
       "      <td>1</td>\n",
       "      <td>0</td>\n",
       "      <td>0</td>\n",
       "    </tr>\n",
       "    <tr>\n",
       "      <th>3</th>\n",
       "      <td>3</td>\n",
       "      <td>4</td>\n",
       "      <td>-0.95197</td>\n",
       "      <td>18-24</td>\n",
       "      <td>1</td>\n",
       "      <td>1.16365</td>\n",
       "      <td>Master</td>\n",
       "      <td>0.96082</td>\n",
       "      <td>UK</td>\n",
       "      <td>-0.31685</td>\n",
       "      <td>White</td>\n",
       "      <td>-0.14882</td>\n",
       "      <td>-0.80615</td>\n",
       "      <td>-0.01928</td>\n",
       "      <td>0.59042</td>\n",
       "      <td>0.58489</td>\n",
       "      <td>-1.37983</td>\n",
       "      <td>-1.18084</td>\n",
       "      <td>1</td>\n",
       "      <td>1</td>\n",
       "      <td>1</td>\n",
       "    </tr>\n",
       "    <tr>\n",
       "      <th>4</th>\n",
       "      <td>4</td>\n",
       "      <td>5</td>\n",
       "      <td>0.49788</td>\n",
       "      <td>35-44</td>\n",
       "      <td>1</td>\n",
       "      <td>1.98437</td>\n",
       "      <td>PhD</td>\n",
       "      <td>0.96082</td>\n",
       "      <td>UK</td>\n",
       "      <td>-0.31685</td>\n",
       "      <td>White</td>\n",
       "      <td>0.73545</td>\n",
       "      <td>-1.63340</td>\n",
       "      <td>-0.45174</td>\n",
       "      <td>-0.30172</td>\n",
       "      <td>1.30612</td>\n",
       "      <td>-0.21712</td>\n",
       "      <td>-0.21575</td>\n",
       "      <td>1</td>\n",
       "      <td>1</td>\n",
       "      <td>0</td>\n",
       "    </tr>\n",
       "  </tbody>\n",
       "</table>\n",
       "</div>"
      ],
      "text/plain": [
       "   Unnamed: 0  ID      Age Age_Cat  Gender  Education Education_Level  \\\n",
       "0           0   1  0.49788   35-44       1   -0.05921   Cert./Diploma   \n",
       "1           1   2 -0.07854   25-34       0    1.98437             PhD   \n",
       "2           2   3  0.49788   35-44       0   -0.05921   Cert./Diploma   \n",
       "3           3   4 -0.95197   18-24       1    1.16365          Master   \n",
       "4           4   5  0.49788   35-44       1    1.98437             PhD   \n",
       "\n",
       "   Country Country_Name  Ethnicity    Ethnicity_Label   Nscore   Escore  \\\n",
       "0  0.96082           UK    0.12600  Mixed-White/Asian  0.31287 -0.57545   \n",
       "1  0.96082           UK   -0.31685              White -0.67825  1.93886   \n",
       "2  0.96082           UK   -0.31685              White -0.46725  0.80523   \n",
       "3  0.96082           UK   -0.31685              White -0.14882 -0.80615   \n",
       "4  0.96082           UK   -0.31685              White  0.73545 -1.63340   \n",
       "\n",
       "    Oscore   Ascore   Cscore  Impulsive       SS  Social_Drugs  Party_Drugs  \\\n",
       "0 -0.58331 -0.91699 -0.00665   -0.21712 -1.18084             1            1   \n",
       "1  1.43533  0.76096 -0.14277   -0.71126 -0.21575             1            1   \n",
       "2 -0.84732 -1.62090 -1.01450   -1.37983  0.40148             1            0   \n",
       "3 -0.01928  0.59042  0.58489   -1.37983 -1.18084             1            1   \n",
       "4 -0.45174 -0.30172  1.30612   -0.21712 -0.21575             1            1   \n",
       "\n",
       "   Hard_Drugs  \n",
       "0           0  \n",
       "1           1  \n",
       "2           0  \n",
       "3           1  \n",
       "4           0  "
      ]
     },
     "execution_count": 19,
     "metadata": {},
     "output_type": "execute_result"
    }
   ],
   "source": [
    "wf = pd.read_csv('data/drug_workfile')\n",
    "wf.head()"
   ]
  },
  {
   "cell_type": "markdown",
   "metadata": {},
   "source": []
  },
  {
   "cell_type": "code",
   "execution_count": 20,
   "metadata": {},
   "outputs": [],
   "source": [
    "# TODO: Total number of participants\n",
    "n_participants = len(wf)\n",
    "\n",
    "# TODO: Number of records where participants's took drugs of \"Social\" class\n",
    "n_participants_social = len(wf[wf['Party_Drugs'] == 1])\n",
    "\n",
    "# TODO: Number of records where participants's took drugs of \"Social\" class\n",
    "n_participants_nosocial = len(wf[wf['Party_Drugs'] == 0])\n",
    "\n",
    "# TODO: Percentage of participants's who took drugs of \"Social\" class\n",
    "greater_percent = 100 * n_participants_social / n_participants"
   ]
  },
  {
   "cell_type": "markdown",
   "metadata": {},
   "source": [
    "#### Feature Selection:"
   ]
  },
  {
   "cell_type": "code",
   "execution_count": 38,
   "metadata": {},
   "outputs": [
    {
     "data": {
      "text/plain": [
       "0    0.546617\n",
       "1    0.453383\n",
       "Name: Hard_Drugs, dtype: float64"
      ]
     },
     "execution_count": 38,
     "metadata": {},
     "output_type": "execute_result"
    }
   ],
   "source": [
    "# Checking for imbalanced data regarding our predicted Values:\n",
    "wf['Party_Drugs'].value_counts(1)\n",
    "wf['Hard_Drugs'].value_counts(1)"
   ]
  },
  {
   "cell_type": "code",
   "execution_count": 21,
   "metadata": {},
   "outputs": [],
   "source": [
    "X = wf[['Age', 'Gender', 'Education', 'Country', 'Ethnicity', 'Nscore', 'Escore', 'Oscore', 'Ascore', 'Cscore', 'Impulsive', 'SS']]\n",
    "y = wf['Party_Drugs']"
   ]
  },
  {
   "cell_type": "code",
   "execution_count": 39,
   "metadata": {},
   "outputs": [
    {
     "name": "stdout",
     "output_type": "stream",
     "text": [
      "Training set has 1313 samples.\n",
      "Testing set has 564 samples.\n"
     ]
    }
   ],
   "source": [
    "# Import train_test_split\n",
    "from sklearn.model_selection import train_test_split\n",
    "\n",
    "# Split the 'features' and 'income' data into training and testing sets\n",
    "X_train, X_test, y_train, y_test = train_test_split(X, y, test_size = 0.3, random_state = 0, stratify = y) \n",
    "\n",
    "# Show the results of the split\n",
    "print (\"Training set has {} samples.\".format(X_train.shape[0]))\n",
    "print (\"Testing set has {} samples.\".format(X_test.shape[0]))"
   ]
  },
  {
   "cell_type": "markdown",
   "metadata": {},
   "source": [
    "#### Naive Preditor"
   ]
  },
  {
   "cell_type": "code",
   "execution_count": 23,
   "metadata": {},
   "outputs": [
    {
     "name": "stdout",
     "output_type": "stream",
     "text": [
      "Naive Predictor: [Accuracy score: 0.6462, F-score: 0.6954]\n"
     ]
    }
   ],
   "source": [
    "# TODO: Calculate accuracy\n",
    "accuracy = n_participants_social / n_participants\n",
    "\n",
    "# Calculating precision\n",
    "precision = n_participants_social / (n_participants_social + n_participants_nosocial)\n",
    "\n",
    "#Calculating recall (naive prediction because we assume there are no False Negatives)\n",
    "recall = n_participants_social / (n_participants_social + 0)\n",
    "\n",
    "# TODO: Calculate F-score using the formula above for beta = 0.5\n",
    "fscore =  (1  + (0.5*0.5)) * ( precision * recall / (( 0.5*0.5 * (precision))+ recall))\n",
    "\n",
    "# Print the results \n",
    "print (\"Naive Predictor: [Accuracy score: {:.4f}, F-score: {:.4f}]\".format(accuracy, fscore))"
   ]
  },
  {
   "cell_type": "code",
   "execution_count": 24,
   "metadata": {},
   "outputs": [],
   "source": [
    "from sklearn.metrics import fbeta_score, accuracy_score\n",
    "\n",
    "def train_predict(learner, sample_size, X_train, y_train, X_test, y_test): \n",
    "    '''\n",
    "    inputs:\n",
    "       - learner: the learning algorithm to be trained and predicted on\n",
    "       - sample_size: the size of samples (number) to be drawn from training set\n",
    "       - X_train: features training set\n",
    "       - y_train: income training set\n",
    "       - X_test: features testing set\n",
    "       - y_test: income testing set\n",
    "    '''\n",
    "    \n",
    "    results = {}\n",
    "    \n",
    "    # TODO: Fit the learner to the training data using slicing with 'sample_size'\n",
    "    start = time() # Get start time\n",
    "    learner = learner.fit(X_train[:sample_size],y_train[:sample_size])\n",
    "    end = time() # Get end time\n",
    "    \n",
    "    # TODO: Calculate the training time\n",
    "    results['train_time'] = end - start\n",
    "        \n",
    "    # TODO: Get the predictions on the test set,\n",
    "    #       then get predictions on the first 300 training samples\n",
    "    start = time() # Get start time\n",
    "    predictions_test = learner.predict(X_test)\n",
    "    predictions_train = learner.predict(X_train[:300])\n",
    "    end = time() # Get end time\n",
    "    \n",
    "    # TODO: Calculate the total prediction time\n",
    "    results['pred_time'] = end - start\n",
    "            \n",
    "    # TODO: Compute accuracy on the first 300 training samples\n",
    "    results['acc_train'] = accuracy_score(y_train[:300],predictions_train)\n",
    "        \n",
    "    # TODO: Compute accuracy on test set\n",
    "    results['acc_test'] = accuracy_score(y_test,predictions_test)\n",
    "    \n",
    "    # TODO: Compute F-score on the the first 300 training samples\n",
    "    results['f_train'] = fbeta_score(y_train[:300],predictions_train,beta=0.5)\n",
    "        \n",
    "    # TODO: Compute F-score on the test set\n",
    "    results['f_test'] = fbeta_score(y_test,predictions_test,beta=0.5)\n",
    "       \n",
    "    # Success\n",
    "    print (\"{} trained on {} samples.\".format(learner.__class__.__name__, sample_size))\n",
    "        \n",
    "    # Return the results\n",
    "    return results"
   ]
  },
  {
   "cell_type": "code",
   "execution_count": 25,
   "metadata": {},
   "outputs": [
    {
     "name": "stdout",
     "output_type": "stream",
     "text": [
      "DecisionTreeClassifier trained on 13 samples.\n",
      "DecisionTreeClassifier trained on 131 samples.\n",
      "DecisionTreeClassifier trained on 1313 samples.\n",
      "SVC trained on 13 samples.\n",
      "SVC trained on 131 samples.\n",
      "SVC trained on 1313 samples.\n",
      "AdaBoostClassifier trained on 13 samples.\n",
      "AdaBoostClassifier trained on 131 samples.\n",
      "AdaBoostClassifier trained on 1313 samples.\n"
     ]
    }
   ],
   "source": [
    "# TODO: Import the three supervised learning models from sklearn\n",
    "from sklearn.tree import DecisionTreeClassifier\n",
    "from sklearn.svm import SVC\n",
    "from sklearn.ensemble import AdaBoostClassifier\n",
    "\n",
    "# TODO: Initialize the three models, the random states are set to 420 so we know how to reproduce the model later\n",
    "clf_A = DecisionTreeClassifier(random_state = 420)\n",
    "clf_B = SVC(random_state = 420)\n",
    "clf_C = AdaBoostClassifier(base_estimator=DecisionTreeClassifier(), random_state = 420)\n",
    "\n",
    "# TODO: Calculate the number of samples for 1%, 10%, and 100% of the training data\n",
    "samples_1 = int(round(len(X_train) / 100))\n",
    "samples_10 = int(round(len(X_train) / 10))\n",
    "samples_100 = len(X_train)\n",
    "\n",
    "# Collect results on the learners\n",
    "results = {}\n",
    "for clf in [clf_A, clf_B, clf_C]:\n",
    "    clf_name = clf.__class__.__name__\n",
    "    results[clf_name] = {}\n",
    "    for i, samples in enumerate([samples_1, samples_10, samples_100]):\n",
    "        results[clf_name][i] = \\\n",
    "        train_predict(clf, samples, X_train, y_train, X_test, y_test)"
   ]
  },
  {
   "cell_type": "code",
   "execution_count": 26,
   "metadata": {},
   "outputs": [
    {
     "name": "stderr",
     "output_type": "stream",
     "text": [
      "/Users/sebastianrotten/neuefische/Personality_vs_drug_use/visuals.py:87: UserWarning: Tight layout not applied. tight_layout cannot make axes width small enough to accommodate all axes decorations\n",
      "  pl.tight_layout()\n"
     ]
    },
    {
     "data": {
      "image/png": "[encoded data removed]",
      "text/plain": [
       "<Figure size 864x720 with 6 Axes>"
      ]
     },
     "metadata": {},
     "output_type": "display_data"
    }
   ],
   "source": [
    "# Run metrics visualization for the two supervised learning models chosen\n",
    "vs.evaluate(results, accuracy, fscore)"
   ]
  },
  {
   "cell_type": "code",
   "execution_count": 27,
   "metadata": {},
   "outputs": [
    {
     "name": "stdout",
     "output_type": "stream",
     "text": [
      "DecisionTreeClassifier\n"
     ]
    },
    {
     "data": {
      "text/html": [
       "<div>\n",
       "<style scoped>\n",
       "    .dataframe tbody tr th:only-of-type {\n",
       "        vertical-align: middle;\n",
       "    }\n",
       "\n",
       "    .dataframe tbody tr th {\n",
       "        vertical-align: top;\n",
       "    }\n",
       "\n",
       "    .dataframe thead th {\n",
       "        text-align: right;\n",
       "    }\n",
       "</style>\n",
       "<table border=\"1\" class=\"dataframe\">\n",
       "  <thead>\n",
       "    <tr style=\"text-align: right;\">\n",
       "      <th></th>\n",
       "      <th>1%</th>\n",
       "      <th>10%</th>\n",
       "      <th>100%</th>\n",
       "    </tr>\n",
       "  </thead>\n",
       "  <tbody>\n",
       "    <tr>\n",
       "      <th>train_time</th>\n",
       "      <td>0.002438</td>\n",
       "      <td>0.003307</td>\n",
       "      <td>0.006590</td>\n",
       "    </tr>\n",
       "    <tr>\n",
       "      <th>pred_time</th>\n",
       "      <td>0.003154</td>\n",
       "      <td>0.003160</td>\n",
       "      <td>0.003067</td>\n",
       "    </tr>\n",
       "    <tr>\n",
       "      <th>acc_train</th>\n",
       "      <td>0.673333</td>\n",
       "      <td>0.806667</td>\n",
       "      <td>1.000000</td>\n",
       "    </tr>\n",
       "    <tr>\n",
       "      <th>acc_test</th>\n",
       "      <td>0.680851</td>\n",
       "      <td>0.677305</td>\n",
       "      <td>0.696809</td>\n",
       "    </tr>\n",
       "    <tr>\n",
       "      <th>f_train</th>\n",
       "      <td>0.768817</td>\n",
       "      <td>0.874200</td>\n",
       "      <td>1.000000</td>\n",
       "    </tr>\n",
       "    <tr>\n",
       "      <th>f_test</th>\n",
       "      <td>0.762411</td>\n",
       "      <td>0.766833</td>\n",
       "      <td>0.768581</td>\n",
       "    </tr>\n",
       "  </tbody>\n",
       "</table>\n",
       "</div>"
      ],
      "text/plain": [
       "                  1%       10%      100%\n",
       "train_time  0.002438  0.003307  0.006590\n",
       "pred_time   0.003154  0.003160  0.003067\n",
       "acc_train   0.673333  0.806667  1.000000\n",
       "acc_test    0.680851  0.677305  0.696809\n",
       "f_train     0.768817  0.874200  1.000000\n",
       "f_test      0.762411  0.766833  0.768581"
      ]
     },
     "metadata": {},
     "output_type": "display_data"
    },
    {
     "name": "stdout",
     "output_type": "stream",
     "text": [
      "SVC\n"
     ]
    },
    {
     "data": {
      "text/html": [
       "<div>\n",
       "<style scoped>\n",
       "    .dataframe tbody tr th:only-of-type {\n",
       "        vertical-align: middle;\n",
       "    }\n",
       "\n",
       "    .dataframe tbody tr th {\n",
       "        vertical-align: top;\n",
       "    }\n",
       "\n",
       "    .dataframe thead th {\n",
       "        text-align: right;\n",
       "    }\n",
       "</style>\n",
       "<table border=\"1\" class=\"dataframe\">\n",
       "  <thead>\n",
       "    <tr style=\"text-align: right;\">\n",
       "      <th></th>\n",
       "      <th>1%</th>\n",
       "      <th>10%</th>\n",
       "      <th>100%</th>\n",
       "    </tr>\n",
       "  </thead>\n",
       "  <tbody>\n",
       "    <tr>\n",
       "      <th>train_time</th>\n",
       "      <td>0.002221</td>\n",
       "      <td>0.002606</td>\n",
       "      <td>0.036053</td>\n",
       "    </tr>\n",
       "    <tr>\n",
       "      <th>pred_time</th>\n",
       "      <td>0.002998</td>\n",
       "      <td>0.004201</td>\n",
       "      <td>0.014847</td>\n",
       "    </tr>\n",
       "    <tr>\n",
       "      <th>acc_train</th>\n",
       "      <td>0.713333</td>\n",
       "      <td>0.833333</td>\n",
       "      <td>0.830000</td>\n",
       "    </tr>\n",
       "    <tr>\n",
       "      <th>acc_test</th>\n",
       "      <td>0.686170</td>\n",
       "      <td>0.767730</td>\n",
       "      <td>0.787234</td>\n",
       "    </tr>\n",
       "    <tr>\n",
       "      <th>f_train</th>\n",
       "      <td>0.752730</td>\n",
       "      <td>0.868522</td>\n",
       "      <td>0.889474</td>\n",
       "    </tr>\n",
       "    <tr>\n",
       "      <th>f_test</th>\n",
       "      <td>0.723684</td>\n",
       "      <td>0.811450</td>\n",
       "      <td>0.834245</td>\n",
       "    </tr>\n",
       "  </tbody>\n",
       "</table>\n",
       "</div>"
      ],
      "text/plain": [
       "                  1%       10%      100%\n",
       "train_time  0.002221  0.002606  0.036053\n",
       "pred_time   0.002998  0.004201  0.014847\n",
       "acc_train   0.713333  0.833333  0.830000\n",
       "acc_test    0.686170  0.767730  0.787234\n",
       "f_train     0.752730  0.868522  0.889474\n",
       "f_test      0.723684  0.811450  0.834245"
      ]
     },
     "metadata": {},
     "output_type": "display_data"
    },
    {
     "name": "stdout",
     "output_type": "stream",
     "text": [
      "AdaBoostClassifier\n"
     ]
    },
    {
     "data": {
      "text/html": [
       "<div>\n",
       "<style scoped>\n",
       "    .dataframe tbody tr th:only-of-type {\n",
       "        vertical-align: middle;\n",
       "    }\n",
       "\n",
       "    .dataframe tbody tr th {\n",
       "        vertical-align: top;\n",
       "    }\n",
       "\n",
       "    .dataframe thead th {\n",
       "        text-align: right;\n",
       "    }\n",
       "</style>\n",
       "<table border=\"1\" class=\"dataframe\">\n",
       "  <thead>\n",
       "    <tr style=\"text-align: right;\">\n",
       "      <th></th>\n",
       "      <th>1%</th>\n",
       "      <th>10%</th>\n",
       "      <th>100%</th>\n",
       "    </tr>\n",
       "  </thead>\n",
       "  <tbody>\n",
       "    <tr>\n",
       "      <th>train_time</th>\n",
       "      <td>0.003421</td>\n",
       "      <td>0.003826</td>\n",
       "      <td>0.007623</td>\n",
       "    </tr>\n",
       "    <tr>\n",
       "      <th>pred_time</th>\n",
       "      <td>0.003843</td>\n",
       "      <td>0.002912</td>\n",
       "      <td>0.003452</td>\n",
       "    </tr>\n",
       "    <tr>\n",
       "      <th>acc_train</th>\n",
       "      <td>0.673333</td>\n",
       "      <td>0.793333</td>\n",
       "      <td>1.000000</td>\n",
       "    </tr>\n",
       "    <tr>\n",
       "      <th>acc_test</th>\n",
       "      <td>0.680851</td>\n",
       "      <td>0.684397</td>\n",
       "      <td>0.710993</td>\n",
       "    </tr>\n",
       "    <tr>\n",
       "      <th>f_train</th>\n",
       "      <td>0.768817</td>\n",
       "      <td>0.865591</td>\n",
       "      <td>1.000000</td>\n",
       "    </tr>\n",
       "    <tr>\n",
       "      <th>f_test</th>\n",
       "      <td>0.762411</td>\n",
       "      <td>0.776081</td>\n",
       "      <td>0.781250</td>\n",
       "    </tr>\n",
       "  </tbody>\n",
       "</table>\n",
       "</div>"
      ],
      "text/plain": [
       "                  1%       10%      100%\n",
       "train_time  0.003421  0.003826  0.007623\n",
       "pred_time   0.003843  0.002912  0.003452\n",
       "acc_train   0.673333  0.793333  1.000000\n",
       "acc_test    0.680851  0.684397  0.710993\n",
       "f_train     0.768817  0.865591  1.000000\n",
       "f_test      0.762411  0.776081  0.781250"
      ]
     },
     "metadata": {},
     "output_type": "display_data"
    }
   ],
   "source": [
    "#Printing out the values\n",
    "for i in results.items():\n",
    "    print (i[0])\n",
    "    display(pd.DataFrame(i[1]).rename(columns={0:'1%', 1:'10%', 2:'100%'}))"
   ]
  },
  {
   "cell_type": "code",
   "execution_count": 28,
   "metadata": {},
   "outputs": [
    {
     "data": {
      "image/png": "[encoded data removed]",
      "text/plain": [
       "<Figure size 432x288 with 2 Axes>"
      ]
     },
     "metadata": {},
     "output_type": "display_data"
    },
    {
     "data": {
      "image/png": "[encoded data removed]",
      "text/plain": [
       "<Figure size 432x288 with 2 Axes>"
      ]
     },
     "metadata": {},
     "output_type": "display_data"
    },
    {
     "data": {
      "image/png": "[encoded data removed]",
      "text/plain": [
       "<Figure size 432x288 with 2 Axes>"
      ]
     },
     "metadata": {},
     "output_type": "display_data"
    }
   ],
   "source": [
    "#Visualizing the confusion matrix for each classifier\n",
    "from sklearn.metrics import confusion_matrix\n",
    "\n",
    "for i,model in enumerate([clf_A,clf_B,clf_C]):\n",
    "    cm = confusion_matrix(y_test, model.predict(X_test))\n",
    "    cm = cm.astype('float') / cm.sum(axis=1)[:, np.newaxis] # normalize the data\n",
    "\n",
    "    # view with a heatmap\n",
    "    plt.figure(i)\n",
    "    sns.heatmap(cm, annot=True, annot_kws={\"size\":30}, \n",
    "            cmap='Blues', square=True, fmt='.3f')\n",
    "    plt.ylabel('True label')\n",
    "    plt.xlabel('Predicted label')\n",
    "    plt.title('Confusion matrix for:\\n{}'.format(model.__class__.__name__));"
   ]
  },
  {
   "cell_type": "markdown",
   "metadata": {},
   "source": [
    "Looking at the results above, out of the three models, AdaBoost is the most appropriate for our task.\n",
    "\n",
    "First and foremost, it is the classifier that performs the best on the testing data, in terms of both the accuracy and f0.5-score which we already weighted towards a higher importance regarding precision. It also takes reasonably low time to train on the full dataset, even if there are no big timing differences to our 2nd best model (Adaboost)."
   ]
  },
  {
   "cell_type": "markdown",
   "metadata": {},
   "source": [
    "## Gridsearch for SVC"
   ]
  },
  {
   "cell_type": "code",
   "execution_count": null,
   "metadata": {},
   "outputs": [],
   "source": []
  },
  {
   "cell_type": "code",
   "execution_count": 29,
   "metadata": {},
   "outputs": [
    {
     "name": "stdout",
     "output_type": "stream",
     "text": [
      "Fitting 5 folds for each of 55 candidates, totalling 275 fits\n"
     ]
    },
    {
     "name": "stderr",
     "output_type": "stream",
     "text": [
      "[Parallel(n_jobs=-1)]: Using backend LokyBackend with 8 concurrent workers.\n",
      "[Parallel(n_jobs=-1)]: Done  34 tasks      | elapsed:    2.3s\n",
      "[Parallel(n_jobs=-1)]: Done 260 out of 275 | elapsed:    4.5s remaining:    0.3s\n"
     ]
    },
    {
     "name": "stdout",
     "output_type": "stream",
     "text": [
      "Unoptimized model\n",
      "------\n",
      "Accuracy score on testing data: 0.7872\n",
      "F-score on testing data: 0.8342\n",
      "\n",
      "Optimized Model\n",
      "------\n",
      "Final accuracy score on the testing data: 0.7890\n",
      "Final F-score on the testing data: 0.8428\n",
      "SVC(C=5, kernel='linear', random_state=420)\n"
     ]
    },
    {
     "name": "stderr",
     "output_type": "stream",
     "text": [
      "[Parallel(n_jobs=-1)]: Done 275 out of 275 | elapsed:    4.8s finished\n"
     ]
    }
   ],
   "source": [
    "from sklearn.model_selection import GridSearchCV\n",
    "\n",
    "param_grid = [{'kernel': ['rbf', 'sigmoid'], \n",
    "               'gamma': [0.01, 0.05, 0.1, 1, 10],\n",
    "               'C': [0.1, 0.05, 1, 5, 10]},\n",
    "              {'kernel': ['linear'], \n",
    "               'C': [0.1, 0.05, 1, 5, 10]}]\n",
    "\n",
    "#param_grid = [{'kernel': ['rbf', 'sigmoid'], \n",
    "#               'gamma': [0.0001, 0.001, 0.01, 0.1, 1],\n",
    "#               'C': [1, 10, 100]},\n",
    "#              {'kernel': ['linear'], \n",
    "#               'C': [1, 10, 100]}]\n",
    "\n",
    "grid = GridSearchCV(clf_B, param_grid, verbose=True, n_jobs=-1)\n",
    "\n",
    "result = grid.fit(X_train, y_train)\n",
    "\n",
    "# Get the estimator\n",
    "best_clf = result.best_estimator_ \n",
    "\n",
    "# Make predictions using the unoptimized and model\n",
    "predictions_svc = (clf_B.fit(X_train, y_train)).predict(X_test)\n",
    "best_predictions_svc = best_clf.predict(X_test) \n",
    "\n",
    "# Report the before-and-afterscores\n",
    "print(\"Unoptimized model\\n------\")\n",
    "print(\"Accuracy score on testing data: {:.4f}\".format(accuracy_score(y_test, predictions_svc)))\n",
    "print(\"F-score on testing data: {:.4f}\".format(fbeta_score(y_test, predictions_svc, beta = 0.5)))\n",
    "print(\"\\nOptimized Model\\n------\")\n",
    "print(\"Final accuracy score on the testing data: {:.4f}\".format(accuracy_score(y_test, best_predictions_svc)))\n",
    "print(\"Final F-score on the testing data: {:.4f}\".format(fbeta_score(y_test, best_predictions_svc, beta = 0.5)))\n",
    "print(best_clf)"
   ]
  },
  {
   "cell_type": "markdown",
   "metadata": {},
   "source": [
    "## Grid Search for AdaBoost"
   ]
  },
  {
   "cell_type": "code",
   "execution_count": 30,
   "metadata": {},
   "outputs": [
    {
     "name": "stdout",
     "output_type": "stream",
     "text": [
      "Fitting 5 folds for each of 81 candidates, totalling 405 fits\n"
     ]
    },
    {
     "name": "stderr",
     "output_type": "stream",
     "text": [
      "/Users/sebastianrotten/opt/anaconda3/envs/drugs/lib/python3.8/site-packages/sklearn/utils/validation.py:67: FutureWarning: Pass scoring=make_scorer(fbeta_score, beta=0.5) as keyword args. From version 0.25 passing these as positional arguments will result in an error\n",
      "  warnings.warn(\"Pass {} as keyword args. From version 0.25 \"\n",
      "[Parallel(n_jobs=-1)]: Using backend LokyBackend with 8 concurrent workers.\n",
      "[Parallel(n_jobs=-1)]: Done  34 tasks      | elapsed:    1.5s\n",
      "[Parallel(n_jobs=-1)]: Done 184 tasks      | elapsed:    8.9s\n"
     ]
    },
    {
     "name": "stdout",
     "output_type": "stream",
     "text": [
      "Unoptimized model\n",
      "------\n",
      "Accuracy score on testing data: 0.7110\n",
      "F-score on testing data: 0.7812\n",
      "\n",
      "Optimized Model\n",
      "------\n",
      "Final accuracy score on the testing data: 0.7819\n",
      "Final F-score on the testing data: 0.8390\n",
      "AdaBoostClassifier(base_estimator=DecisionTreeClassifier(max_depth=2),\n",
      "                   learning_rate=0.1, n_estimators=60, random_state=420)\n"
     ]
    },
    {
     "name": "stderr",
     "output_type": "stream",
     "text": [
      "[Parallel(n_jobs=-1)]: Done 405 out of 405 | elapsed:   20.2s finished\n"
     ]
    }
   ],
   "source": [
    "# TODO: Import 'GridSearchCV', 'make_scorer', and any other necessary libraries\n",
    "from sklearn.metrics import make_scorer \n",
    "\n",
    "\n",
    "# TODO: Create the parameters list you wish to tune\n",
    "parameters_ada = {'n_estimators':[60, 70, 80],                \n",
    "              'learning_rate':[0.1, 0.01, 0.05],               \n",
    "              'base_estimator__min_samples_split' : np.arange(2, 8, 2),               \n",
    "              'base_estimator__max_depth' : np.arange(1, 4, 1)              \n",
    "             } \n",
    "\n",
    "# TODO: Make an fbeta_score scoring object\n",
    "scorer = make_scorer(fbeta_score,beta=0.5) \n",
    "\n",
    "# TODO: Perform grid search on the classifier using 'scorer' as the scoring method\n",
    "grid_obj = GridSearchCV(clf_C, parameters_ada, scorer, verbose=1, n_jobs=-1)\n",
    "\n",
    "# TODO: Fit the grid search object to the training data and find the optimal parameters\n",
    "grid_fit_ada = grid_obj.fit(X_train,y_train) \n",
    "\n",
    "# Get the estimator\n",
    "best_clf_ada = grid_fit_ada.best_estimator_\n",
    "\n",
    "# Make predictions using the unoptimized and model\n",
    "predictions_ada = (clf_C.fit(X_train, y_train)).predict(X_test)\n",
    "best_predictions_ada = best_clf_ada.predict(X_test) \n",
    "\n",
    "# Report the before-and-afterscores\n",
    "print(\"Unoptimized model\\n------\")\n",
    "print(\"Accuracy score on testing data: {:.4f}\".format(accuracy_score(y_test, predictions_ada)))\n",
    "print(\"F-score on testing data: {:.4f}\".format(fbeta_score(y_test, predictions_ada, beta = 0.5)))\n",
    "print(\"\\nOptimized Model\\n------\")\n",
    "print(\"Final accuracy score on the testing data: {:.4f}\".format(accuracy_score(y_test, best_predictions_ada)))\n",
    "print(\"Final F-score on the testing data: {:.4f}\".format(fbeta_score(y_test, best_predictions_ada, beta = 0.5)))\n",
    "print(best_clf_ada)"
   ]
  },
  {
   "cell_type": "markdown",
   "metadata": {},
   "source": [
    "## Feature Importance"
   ]
  },
  {
   "cell_type": "code",
   "execution_count": 31,
   "metadata": {},
   "outputs": [
    {
     "data": {
      "image/png": "[encoded data removed]",
      "text/plain": [
       "<Figure size 648x360 with 1 Axes>"
      ]
     },
     "metadata": {},
     "output_type": "display_data"
    }
   ],
   "source": [
    "importances_ada = best_clf_ada.feature_importances_\n",
    "\n",
    "# Plot\n",
    "vs.feature_plot(importances_ada, X_train, y_train)"
   ]
  },
  {
   "cell_type": "code",
   "execution_count": null,
   "metadata": {},
   "outputs": [],
   "source": []
  }
 ],
 "metadata": {
  "kernelspec": {
   "display_name": "Python 3",
   "language": "python",
   "name": "python3"
  },
  "language_info": {
   "codemirror_mode": {
    "name": "ipython",
    "version": 3
   },
   "file_extension": ".py",
   "mimetype": "text/x-python",
   "name": "python",
   "nbconvert_exporter": "python",
   "pygments_lexer": "ipython3",
   "version": "3.8.5"
  }
 },
 "nbformat": 4,
 "nbformat_minor": 4
}
